{
 "cells": [
  {
   "cell_type": "code",
   "execution_count": 7,
   "id": "3c598e28-b07f-4848-8d73-de45a566e04f",
   "metadata": {},
   "outputs": [
    {
     "name": "stdout",
     "output_type": "stream",
     "text": [
      "Circle Area: 78.5\n",
      "Circle Perimeter: 31.400000000000002\n",
      "Rectangle Area: 24\n",
      "Rectangle Perimeter: 20\n"
     ]
    }
   ],
   "source": [
    "from abc import ABC, abstractmethod\n",
    "\n",
    "# Abstract class\n",
    "class Shape(ABC):\n",
    "    @abstractmethod\n",
    "    def area(self):\n",
    "        pass  # Abstract method, no implementation\n",
    "\n",
    "    @abstractmethod\n",
    "    def perimeter(self):\n",
    "        pass  # Abstract method, no implementation\n",
    "\n",
    "# Concrete class for Circle\n",
    "class Circle(Shape):\n",
    "    def __init__(self, radius):\n",
    "        self.radius = radius\n",
    "\n",
    "    def area(self):\n",
    "        return 3.14 * self.radius * self.radius\n",
    "\n",
    "    def perimeter(self):\n",
    "        return 2 * 3.14 * self.radius\n",
    "\n",
    "# Concrete class for Rectangle\n",
    "class Rectangle(Shape):\n",
    "    def __init__(self, length, width):\n",
    "        self.length = length\n",
    "        self.width = width\n",
    "\n",
    "    def area(self):\n",
    "        return self.length * self.width\n",
    "\n",
    "    def perimeter(self):\n",
    "        return 2 * (self.length + self.width)\n",
    "\n",
    "# Using the classes\n",
    "circle = Circle(5)\n",
    "print(\"Circle Area:\", circle.area())\n",
    "print(\"Circle Perimeter:\", circle.perimeter())\n",
    "\n",
    "rectangle = Rectangle(4, 6)\n",
    "print(\"Rectangle Area:\", rectangle.area())\n",
    "print(\"Rectangle Perimeter:\", rectangle.perimeter())\n",
    "\n"
   ]
  },
  {
   "cell_type": "code",
   "execution_count": 1,
   "id": "eb366657-2cf8-4adf-b1e3-e1d0e2ed0063",
   "metadata": {},
   "outputs": [
    {
     "name": "stdin",
     "output_type": "stream",
     "text": [
      "Enter your name:  pranav\n",
      "Enter marks for subject 1:  23\n",
      "Enter marks for subject 2:  34\n",
      "Enter marks for subject 3:  45\n",
      "Enter marks for subject 4:  56\n",
      "Enter marks for subject 5:  67\n"
     ]
    },
    {
     "name": "stdout",
     "output_type": "stream",
     "text": [
      "Name: pranav, Level: 3, Points: 225, Badges: Beginner, Intermediate, Expert\n"
     ]
    }
   ],
   "source": [
    "class User:\n",
    "    def __init__(self, name):\n",
    "        self.name = name\n",
    "        self.points = 0\n",
    "        self.level = 1\n",
    "        self.badges = []\n",
    "\n",
    "    def earn_points(self, marks):\n",
    "        self.points = sum(marks)\n",
    "        self.check_level_up()\n",
    "        self.assign_badge()\n",
    "\n",
    "    def check_level_up(self):\n",
    "        self.level = self.points // 100 + 1\n",
    "\n",
    "    def assign_badge(self):\n",
    "        self.badges = []\n",
    "        if self.points >= 50:\n",
    "            self.badges.append(\"Beginner\")\n",
    "        if self.points >= 100:\n",
    "            self.badges.append(\"Intermediate\")\n",
    "        if self.points >= 200:\n",
    "            self.badges.append(\"Expert\")\n",
    "\n",
    "    def show_progress(self):\n",
    "        print(f\"Name: {self.name}, Level: {self.level}, Points: {self.points}, Badges: {', '.join(self.badges)}\")\n",
    "\n",
    "\n",
    "# Example Usage\n",
    "name = input(\"Enter your name: \")\n",
    "marks = []\n",
    "for i in range(5):\n",
    "    marks.append(int(input(f\"Enter marks for subject {i + 1}: \")))\n",
    "\n",
    "user = User(name)\n",
    "user.earn_points(marks)\n",
    "user.show_progress()\n",
    "\n"
   ]
  },
  {
   "cell_type": "code",
   "execution_count": 19,
   "id": "50748162-ee4a-472c-a3cb-afb63736a4e1",
   "metadata": {},
   "outputs": [
    {
     "name": "stdout",
     "output_type": "stream",
     "text": [
      "Woof!\n",
      "Meow!\n",
      "Moo!\n"
     ]
    }
   ],
   "source": [
    "class Animal:\n",
    "    def speak(self):\n",
    "        pass # Base method with no implementation\n",
    "\n",
    "class Dog(Animal):\n",
    "    def speak(self):\n",
    "        return \"Woof!\"\n",
    "\n",
    "class Cat(Animal):\n",
    "    def speak(self):\n",
    "        return \"Meow!\"\n",
    "\n",
    "class Cow(Animal):\n",
    "    def speak(self):\n",
    "        return \"Moo!\"\n",
    "\n",
    "# Function to demonstarte polymorphism\n",
    "def make_animal_speak(animal):\n",
    "    print(animal.speak())\n",
    "\n",
    "# Usage\n",
    "animals = [Dog(), Cat(), Cow()]\n",
    "\n",
    "for animal in animals:\n",
    "    make_animal_speak(animal)"
   ]
  },
  {
   "cell_type": "code",
   "execution_count": 21,
   "id": "a5d3eb38-480b-429e-bfb5-14f075a783d0",
   "metadata": {},
   "outputs": [
    {
     "name": "stdout",
     "output_type": "stream",
     "text": [
      "Hello, Guest1\n",
      "Hello, Raj1\n"
     ]
    }
   ],
   "source": [
    "def greet(name=\"Guest\"):\n",
    "    print(f\"Hello, {name}1\")\n",
    "\n",
    "greet()\n",
    "greet(\"Raj\")"
   ]
  },
  {
   "cell_type": "code",
   "execution_count": null,
   "id": "812355ca-b09b-438c-90c3-ece38a06468f",
   "metadata": {},
   "outputs": [],
   "source": []
  }
 ],
 "metadata": {
  "kernelspec": {
   "display_name": "Python 3 (ipykernel)",
   "language": "python",
   "name": "python3"
  },
  "language_info": {
   "codemirror_mode": {
    "name": "ipython",
    "version": 3
   },
   "file_extension": ".py",
   "mimetype": "text/x-python",
   "name": "python",
   "nbconvert_exporter": "python",
   "pygments_lexer": "ipython3",
   "version": "3.12.4"
  }
 },
 "nbformat": 4,
 "nbformat_minor": 5
}
