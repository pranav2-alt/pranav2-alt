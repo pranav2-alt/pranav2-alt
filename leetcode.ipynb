{
 "cells": [
  {
   "cell_type": "code",
   "execution_count": 9,
   "id": "0c4d407a-ef2d-49c4-a269-196dbcc1ca1d",
   "metadata": {},
   "outputs": [
    {
     "name": "stdout",
     "output_type": "stream",
     "text": [
      "[0, 1]\n"
     ]
    }
   ],
   "source": [
    "# Two sum\n",
    "nums = [2, 7, 11, 15]\n",
    "target = 9\n",
    "def two_sum(nums, target):\n",
    "    for index in range(len(nums)):\n",
    "        for j in range(index + 1, len(nums)):\n",
    "            if nums[index] + nums[j] == target:\n",
    "                return [index, j]\n",
    "result = two_sum(nums, target)\n",
    "print(result)"
   ]
  },
  {
   "cell_type": "code",
   "execution_count": 19,
   "id": "9f662505-df91-4021-bffc-557aaa916383",
   "metadata": {},
   "outputs": [
    {
     "name": "stdout",
     "output_type": "stream",
     "text": [
      "False\n"
     ]
    }
   ],
   "source": [
    "# contain duplicates\n",
    "nums = [1, 2, 3, 4, 5]  \n",
    "def duplicates(nums):\n",
    "    dup_dict = {}\n",
    "    for num in nums:\n",
    "        if num in dup_dict:\n",
    "            return True\n",
    "        else:\n",
    "            dup_dict[num] = 1\n",
    "    return False\n",
    "\n",
    "print(duplicates(nums))\n"
   ]
  },
  {
   "cell_type": "code",
   "execution_count": 23,
   "id": "215a9570-2328-4782-87c3-33c96ba4dc2f",
   "metadata": {},
   "outputs": [
    {
     "name": "stdout",
     "output_type": "stream",
     "text": [
      "[5, 6, 7, 1, 2, 3, 4]\n"
     ]
    }
   ],
   "source": [
    "# rotate array\n",
    "nums = [1, 2, 3, 4, 5, 6, 7]\n",
    "k = 3\n",
    "def rotate(nums, k):\n",
    "    k = k % len(nums)\n",
    "    myarr = [0] * len(nums)\n",
    "\n",
    "    for i in range(len(nums)):\n",
    "        myarr[(i + k) % len(nums)] = nums[i]\n",
    "\n",
    "    nums[:] = myarr\n",
    "\n",
    "rotate(nums, k)\n",
    "print(nums)\n",
    "\n"
   ]
  },
  {
   "cell_type": "code",
   "execution_count": 28,
   "id": "d8773e74-0931-4cff-b44e-5d9b6911dc46",
   "metadata": {},
   "outputs": [
    {
     "name": "stdout",
     "output_type": "stream",
     "text": [
      "2\n"
     ]
    }
   ],
   "source": [
    "# 3 sum smaller\n",
    "nums = [-2, 0, 1, 3]\n",
    "target = 2\n",
    "def three_sum(nums, target):\n",
    "    nums.sort()\n",
    "    count = 0\n",
    "    for i in range(len(nums) - 2):\n",
    "        left = i + 1\n",
    "        right = len(nums) - 1\n",
    "        while left < right:\n",
    "            if nums[i] + nums[left] + nums[right] < target:\n",
    "                count += right - left\n",
    "                left += 1\n",
    "            else:\n",
    "                right -= 1\n",
    "    return count\n",
    "\n",
    "nums = [-2, 0, 1, 3]\n",
    "target = 2\n",
    "print(three_sum(nums, target))\n"
   ]
  },
  {
   "cell_type": "code",
   "execution_count": 1,
   "id": "4492430e-bbef-4db2-bf1e-4aeb526fffab",
   "metadata": {},
   "outputs": [
    {
     "name": "stdout",
     "output_type": "stream",
     "text": [
      "2\n"
     ]
    }
   ],
   "source": [
    "# 3 sum closest\n",
    "nums = [-1, 2, 1, -4]\n",
    "target = 1\n",
    "def three_sum_closest(nums, target):\n",
    "    distance = 10**10  \n",
    "    a = sorted(nums)  \n",
    "    closest = 0 \n",
    "\n",
    "    for i in range(len(a) - 2):\n",
    "        j = i + 1\n",
    "        k = len(a) - 1\n",
    "\n",
    "        while k > j:\n",
    "            new = a[i] + a[j] + a[k]\n",
    "\n",
    "            if abs(target - new) < abs(target - distance):\n",
    "                distance = new  \n",
    "            if new == target:\n",
    "                return target \n",
    "            elif new < target:\n",
    "                j += 1  \n",
    "            else:\n",
    "                k -= 1  \n",
    "\n",
    "    return distance  \n",
    "\n",
    "print(three_sum_closest(nums, target))\n"
   ]
  },
  {
   "cell_type": "code",
   "execution_count": 2,
   "id": "5064f91a-4d23-43b3-88cd-fd1465491076",
   "metadata": {},
   "outputs": [
    {
     "name": "stdout",
     "output_type": "stream",
     "text": [
      "[1, 0, 0, 0]\n"
     ]
    }
   ],
   "source": [
    "# Plus one\n",
    "digits = [9,9,9]\n",
    "def plus_one(digits):\n",
    "    i = len(digits) - 1\n",
    "    while i >= 0:\n",
    "        if digits[i] < 9:\n",
    "            digits[i] += 1\n",
    "            return digits\n",
    "        digits[i] = 0\n",
    "        i -= 1\n",
    "    return [1] + digits\n",
    "print(plus_one(digits))"
   ]
  },
  {
   "cell_type": "code",
   "execution_count": 34,
   "id": "37d3a5a0-8e6b-436e-9d81-9517d4a90c4a",
   "metadata": {},
   "outputs": [
    {
     "name": "stdout",
     "output_type": "stream",
     "text": [
      "5\n"
     ]
    }
   ],
   "source": [
    "# best time to buy a stock\n",
    "prices = [7, 1, 5, 3, 6, 4]\n",
    "def max_profit(prices):\n",
    "    buy = 0\n",
    "    sell = 1\n",
    "    maxi = 0\n",
    "    no_days = len(prices)\n",
    "    \n",
    "    while sell < no_days:\n",
    "        profit_margin = prices[sell] - prices[buy]\n",
    "        \n",
    "        if profit_margin > maxi:\n",
    "            maxi = profit_margin  \n",
    "        elif prices[sell] < prices[buy]:\n",
    "            buy = sell  \n",
    "        \n",
    "        sell += 1 \n",
    "\n",
    "    return maxi\n",
    "\n",
    "prices = [7, 1, 5, 3, 6, 4]\n",
    "print(max_profit(prices))  \n"
   ]
  },
  {
   "cell_type": "code",
   "execution_count": 48,
   "id": "ba78d782-3108-47e5-b2dc-e92f0d189067",
   "metadata": {},
   "outputs": [
    {
     "name": "stdout",
     "output_type": "stream",
     "text": [
      "[1, 3, 12, 0, 0]\n"
     ]
    }
   ],
   "source": [
    "# move zeroes\n",
    "nums = [0, 1, 0, 3, 12]\n",
    "def moveZeroes(nums):\n",
    "    index = 0 \n",
    "\n",
    "    for i in range(len(nums)):\n",
    "        if nums[i] != 0:\n",
    "            nums[index] = nums[i]\n",
    "            if index != i:\n",
    "                nums[i] = 0\n",
    "            index += 1\n",
    "\n",
    "    return nums\n",
    "\n",
    "print(moveZeroes(nums))  \n"
   ]
  },
  {
   "cell_type": "code",
   "execution_count": 50,
   "id": "a6e1dc26-5c2b-4ad6-bf63-b37a81ba7b49",
   "metadata": {},
   "outputs": [
    {
     "name": "stdout",
     "output_type": "stream",
     "text": [
      "2\n"
     ]
    }
   ],
   "source": [
    "# Remove duplicates from sorted array\n",
    "nums = [1, 1, 2]\n",
    "def removeDuplicates(nums):\n",
    "    k = 0\n",
    "    for i in nums:\n",
    "        if k == 0 or i != nums[k - 1]:\n",
    "            nums[k] = i\n",
    "            k += 1\n",
    "    return k\n",
    "\n",
    "print(removeDuplicates(nums))  \n"
   ]
  },
  {
   "cell_type": "code",
   "execution_count": 52,
   "id": "84e9d64e-538a-4bf6-97b8-00d61ca952a5",
   "metadata": {},
   "outputs": [
    {
     "name": "stdout",
     "output_type": "stream",
     "text": [
      "2\n"
     ]
    }
   ],
   "source": [
    "# Remove Element\n",
    "nums = [3, 2, 2, 3]\n",
    "val = 3\n",
    "def removeElement(nums, val):\n",
    "    k = 0\n",
    "    for x in nums:\n",
    "        if x != val:\n",
    "            nums[k] = x\n",
    "            k += 1\n",
    "    return k\n",
    "\n",
    "nums = [3, 2, 2, 3]\n",
    "val = 3\n",
    "print(removeElement(nums, val))  \n"
   ]
  },
  {
   "cell_type": "code",
   "execution_count": 58,
   "id": "d06b523a-3e2e-4ac4-b0f6-0cbb981146a5",
   "metadata": {},
   "outputs": [
    {
     "name": "stdout",
     "output_type": "stream",
     "text": [
      "[2, 2]\n"
     ]
    }
   ],
   "source": [
    "# Intersection of two arrays II\n",
    "nums1 = [1, 2, 2, 1]\n",
    "nums2 = [2, 2]\n",
    "def intersect(nums1, nums2):\n",
    "    nums1.sort()\n",
    "    nums2.sort()\n",
    "    intersection = []\n",
    "    \n",
    "    i, j = 0, 0\n",
    "    while i < len(nums1) and j < len(nums2):\n",
    "        if nums1[i] == nums2[j]:\n",
    "            intersection.append(nums1[i])\n",
    "            i += 1\n",
    "            j += 1\n",
    "        elif nums1[i] < nums2[j]:\n",
    "            i += 1\n",
    "        else:\n",
    "            j += 1\n",
    "    \n",
    "    return intersection\n",
    "\n",
    "\n",
    "print(intersect(nums1, nums2))\n"
   ]
  },
  {
   "cell_type": "code",
   "execution_count": 64,
   "id": "e7ff7e22-210c-443d-a517-b3fe2476ad2f",
   "metadata": {},
   "outputs": [
    {
     "name": "stdout",
     "output_type": "stream",
     "text": [
      "Merged Sorted Array: [1, 2, 2, 3, 5, 6]\n"
     ]
    }
   ],
   "source": [
    "# Merge sorted arrays\n",
    "nums1 = [1, 2, 3, 0, 0, 0]\n",
    "m = 3\n",
    "nums2 = [2, 5, 6]\n",
    "n = 3\n",
    "\n",
    "def merge(nums1, m, nums2, n):\n",
    "    while n > 0:\n",
    "        if m > 0 and nums1[m - 1] > nums2[n - 1]:\n",
    "            nums1[m + n - 1] = nums1[m - 1]\n",
    "            m -= 1\n",
    "        else:\n",
    "            nums1[m + n - 1] = nums2[n - 1]\n",
    "            n -= 1\n",
    "    return nums1\n",
    "\n",
    "\n",
    "merged_array = merge(nums1, m, nums2, n)\n",
    "print(\"Merged Sorted Array:\", merged_array)\n",
    "\n"
   ]
  },
  {
   "cell_type": "code",
   "execution_count": 1,
   "id": "e55b1785-95bf-46d3-b8ef-70ab4f354ae6",
   "metadata": {},
   "outputs": [
    {
     "name": "stdout",
     "output_type": "stream",
     "text": [
      "Intersection of Arrays: [2]\n"
     ]
    }
   ],
   "source": [
    "# Intersection of Two Arrays\n",
    "nums1 = [1, 2, 2, 1]\n",
    "nums2 = [2, 2]\n",
    "def intersection(nums1, nums2):\n",
    "    result = []\n",
    "    nums1_set = set(nums1)\n",
    "    for num in nums2:\n",
    "        if num in nums1_set:\n",
    "            result.append(num)\n",
    "            nums1_set.remove(num)  \n",
    "    return result\n",
    "\n",
    "intersected_array = intersection(nums1, nums2)\n",
    "print(\"Intersection of Arrays:\", intersected_array)\n"
   ]
  },
  {
   "cell_type": "code",
   "execution_count": null,
   "id": "d6832b4c-9c96-4957-88c1-8c4f60fe0e0e",
   "metadata": {},
   "outputs": [],
   "source": [
    "# valid anagram\n",
    "s = \"anagram\"\n",
    "t = \"nagaram\"\n",
    "def anagram(s, t):\n",
    "    if len(s) != len(t): \n",
    "        return False\n",
    "    return sorted(s) == sorted(t)  \n",
    "\n",
    "result = anagram(s, t)\n",
    "print(result)\n"
   ]
  },
  {
   "cell_type": "code",
   "execution_count": 5,
   "id": "0ffec7e4-432b-48d8-b715-63a65b1cacba",
   "metadata": {},
   "outputs": [
    {
     "name": "stdin",
     "output_type": "stream",
     "text": [
      " ()\n"
     ]
    },
    {
     "name": "stdout",
     "output_type": "stream",
     "text": [
      "True\n"
     ]
    }
   ],
   "source": [
    "s = input()\n",
    "count = 0\n",
    "for char in s:\n",
    "    if char == '(':\n",
    "        count += 1\n",
    "    elif char == ')':\n",
    "        count -= 1\n",
    "    if count < 0:\n",
    "        print(\"False\")\n",
    "        break\n",
    "else:\n",
    "    if count == 0:\n",
    "        print(\"True\")\n",
    "    else:\n",
    "        print(\"False\")\n"
   ]
  },
  {
   "cell_type": "code",
   "execution_count": 7,
   "id": "4e87bf39-030d-426a-a5ef-43eb7c7f76dc",
   "metadata": {},
   "outputs": [
    {
     "name": "stdin",
     "output_type": "stream",
     "text": [
      " praanv\n"
     ]
    },
    {
     "name": "stdout",
     "output_type": "stream",
     "text": [
      "vnaarp\n"
     ]
    }
   ],
   "source": [
    "# Reverse the string\n",
    "s = list(input())  \n",
    "left = 0\n",
    "right = len(s) - 1\n",
    "while left < right:\n",
    "    temp = s[left]\n",
    "    s[left] = s[right]\n",
    "    s[right] = temp\n",
    "    left += 1\n",
    "    right -= 1\n",
    "print(\"\".join(s))  \n"
   ]
  },
  {
   "cell_type": "code",
   "execution_count": 5,
   "id": "22df6c27-7e52-4da3-9b75-f52d58f6911d",
   "metadata": {},
   "outputs": [
    {
     "name": "stdin",
     "output_type": "stream",
     "text": [
      " pranav \n",
      " jangid\n"
     ]
    },
    {
     "name": "stdout",
     "output_type": "stream",
     "text": [
      "False\n"
     ]
    }
   ],
   "source": [
    "# Isomorphic string\n",
    "s = input()\n",
    "t = input()\n",
    "\n",
    "if len(s) != len(t):\n",
    "    print(\"False\")\n",
    "else:\n",
    "    result = [s.index(char) for char in s] == [t.index(char) for char in t]\n",
    "    if result:\n",
    "        print(\"True\")\n",
    "    else:\n",
    "        print(\"False\")\n"
   ]
  },
  {
   "cell_type": "code",
   "execution_count": 13,
   "id": "2dc20195-9558-4113-b05a-87a69089bd3a",
   "metadata": {},
   "outputs": [
    {
     "name": "stdin",
     "output_type": "stream",
     "text": [
      " p\n"
     ]
    },
    {
     "name": "stdout",
     "output_type": "stream",
     "text": [
      "False\n"
     ]
    }
   ],
   "source": [
    "\n",
    "s = input()\n",
    "letter = False\n",
    "number = False\n",
    "\n",
    "for char in s:\n",
    "    if char.isalpha():\n",
    "        letter = True\n",
    "    if char.isdigit():\n",
    "        number = True\n",
    "\n",
    "if letter and number:\n",
    "    print(\"True\")\n",
    "else:\n",
    "    print(\"False\")\n"
   ]
  },
  {
   "cell_type": "code",
   "execution_count": 15,
   "id": "dfbfbfec-0300-4653-af24-1bec073f1f78",
   "metadata": {},
   "outputs": [
    {
     "name": "stdin",
     "output_type": "stream",
     "text": [
      " pranav\n"
     ]
    },
    {
     "name": "stdout",
     "output_type": "stream",
     "text": [
      "pranv\n"
     ]
    }
   ],
   "source": [
    "\n",
    "s = input()\n",
    "result = \"\"\n",
    "for char in s:\n",
    "    if char not in result:\n",
    "        result += char\n",
    "print(result)\n"
   ]
  },
  {
   "cell_type": "code",
   "execution_count": 21,
   "id": "239be93b-0636-43b3-a801-9ff302997f85",
   "metadata": {},
   "outputs": [
    {
     "name": "stdin",
     "output_type": "stream",
     "text": [
      " abcaaaabbbbbbabbaa\n",
      " a\n"
     ]
    },
    {
     "name": "stdout",
     "output_type": "stream",
     "text": [
      "4\n"
     ]
    }
   ],
   "source": [
    "test_str = input()\n",
    "k = input()\n",
    "count = 0\n",
    "max_count = 0\n",
    "\n",
    "for char in test_str:\n",
    "    if char == k:\n",
    "        count += 1\n",
    "        max_count = max(max_count, count)\n",
    "    else:\n",
    "        count = 0\n",
    "\n",
    "print(max_count)\n"
   ]
  },
  {
   "cell_type": "code",
   "execution_count": 80,
   "id": "b76d8adb-5d19-427d-87fb-e14a43d33a6a",
   "metadata": {},
   "outputs": [
    {
     "name": "stdout",
     "output_type": "stream",
     "text": [
      "[[], [1], [2], [1, 2], [3], [1, 3], [2, 3], [1, 2, 3]]\n"
     ]
    }
   ],
   "source": [
    "nums = [1, 2, 3]\n",
    "list1 = [[]]\n",
    "for i in range(len(nums)):\n",
    "    n = len(list1)\n",
    "    for j in range(n):\n",
    "        subset = list1[j] + [nums[i]]\n",
    "        if subset not in list1:\n",
    "            list1.append(subset)\n",
    "\n",
    "print(list1)\n"
   ]
  },
  {
   "cell_type": "code",
   "execution_count": 84,
   "id": "7614a073-8029-4e16-82eb-e8b27cb4d5c3",
   "metadata": {},
   "outputs": [
    {
     "name": "stdout",
     "output_type": "stream",
     "text": [
      "[[], [1], [2], [1, 2], [3], [1, 3], [2, 3], [1, 2, 3]]\n"
     ]
    }
   ],
   "source": [
    "nums=[1,2,3]\n",
    "list1=[[]]\n",
    "for i in nums:\n",
    "    list1+=[j+[i] for j in list1]\n",
    "print (list1)\n",
    "    "
   ]
  },
  {
   "cell_type": "code",
   "execution_count": 90,
   "id": "ac4665e5-f40f-4261-be93-bf74f5e3d230",
   "metadata": {},
   "outputs": [
    {
     "name": "stdout",
     "output_type": "stream",
     "text": [
      "[[], [1], [2], [1, 2], [2, 2], [1, 2, 2]]\n"
     ]
    }
   ],
   "source": [
    "nums = [1, 2, 2]\n",
    "def subset(nums):\n",
    "    nums.sort()\n",
    "    list1 = [[]]\n",
    "    for num in nums:\n",
    "        list1 += [i + [num] for i in list1 if i + [num] not in list1]\n",
    "    return list1\n",
    "\n",
    "print(subset(nums))\n"
   ]
  },
  {
   "cell_type": "code",
   "execution_count": null,
   "id": "8eb6ee1a-e8d8-4b91-bc8f-cda12954f89f",
   "metadata": {},
   "outputs": [],
   "source": []
  }
 ],
 "metadata": {
  "kernelspec": {
   "display_name": "Python 3 (ipykernel)",
   "language": "python",
   "name": "python3"
  },
  "language_info": {
   "codemirror_mode": {
    "name": "ipython",
    "version": 3
   },
   "file_extension": ".py",
   "mimetype": "text/x-python",
   "name": "python",
   "nbconvert_exporter": "python",
   "pygments_lexer": "ipython3",
   "version": "3.12.4"
  }
 },
 "nbformat": 4,
 "nbformat_minor": 5
}
