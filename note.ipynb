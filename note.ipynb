{
 "cells": [
  {
   "cell_type": "code",
   "execution_count": 1,
   "id": "b3c5a9ed-de82-4013-b9a0-4bca918c3a5b",
   "metadata": {},
   "outputs": [],
   "source": []
  },
  {
   "cell_type": "code",
   "execution_count": 11,
   "id": "1bf2dce7-4815-4c2f-aeab-605aaba982f9",
   "metadata": {},
   "outputs": [
    {
     "name": "stdout",
     "output_type": "stream",
     "text": [
      "{'e': 'a'}\n",
      "{'e': 'a', 'g': 'd'}\n",
      "not isMorphic\n",
      "{'e': 'a', 'g': 'd'}\n"
     ]
    }
   ],
   "source": [
    "s=\"ege\"\n",
    "t=\"adf\"\n",
    "mydict_s={}\n",
    "mydict_t={}\n",
    "for i in range(0,len(s)):\n",
    "    if s[i] in mydict_s and mydict_s[s[i]]!=t[i]:\n",
    "        print(\"not isMorphic\")\n",
    "    else:\n",
    "        mydict_s[s[i]]=t[i]\n",
    "    print(mydict_s)\n"
   ]
  },
  {
   "cell_type": "code",
   "execution_count": 25,
   "id": "3edd8548-9b8a-4308-8863-1685453a9453",
   "metadata": {},
   "outputs": [],
   "source": [
    "nums=[0,0,1,2,3,4]\n",
    "k = 0\n",
    "for i in nums:\n",
    "    if k == 0 or i != nums[k - 1]:\n",
    "        nums[k] = i\n",
    "        k += 1\n",
    "return k"
   ]
  },
  {
   "cell_type": "code",
   "execution_count": 37,
   "id": "f4bad249-bc35-4f17-adbf-3899ac0c80fe",
   "metadata": {},
   "outputs": [
    {
     "name": "stdout",
     "output_type": "stream",
     "text": [
      "7\n"
     ]
    }
   ],
   "source": [
    "nums=[1,1,2,4,5,567,8,9]\n",
    "k = 0\n",
    "val=4\n",
    "for x in nums:\n",
    "    if x != val:\n",
    "        nums[k] = x\n",
    "        k += 1\n",
    "print( k)"
   ]
  },
  {
   "cell_type": "code",
   "execution_count": null,
   "id": "e7b07a40-be88-4605-9d44-14aa649f0c61",
   "metadata": {},
   "outputs": [],
   "source": []
  }
 ],
 "metadata": {
  "kernelspec": {
   "display_name": "Python 3 (ipykernel)",
   "language": "python",
   "name": "python3"
  },
  "language_info": {
   "codemirror_mode": {
    "name": "ipython",
    "version": 3
   },
   "file_extension": ".py",
   "mimetype": "text/x-python",
   "name": "python",
   "nbconvert_exporter": "python",
   "pygments_lexer": "ipython3",
   "version": "3.12.4"
  }
 },
 "nbformat": 4,
 "nbformat_minor": 5
}
