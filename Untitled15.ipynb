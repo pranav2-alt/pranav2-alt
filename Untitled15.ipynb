{
 "cells": [
  {
   "cell_type": "code",
   "execution_count": 1,
   "id": "f97f43f1",
   "metadata": {},
   "outputs": [],
   "source": [
    "# Numpy ===> Numpy is an open-source library that is used for scientific calculations. "
   ]
  },
  {
   "cell_type": "code",
   "execution_count": 2,
   "id": "fefec735",
   "metadata": {},
   "outputs": [],
   "source": [
    "# Why we use Numpy whenever we have list ? \n",
    "# (1). Homogeneous data type \n",
    "# (2). memory less consume \n",
    "# (3). less time consume "
   ]
  },
  {
   "cell_type": "code",
   "execution_count": 3,
   "id": "06e2b868",
   "metadata": {},
   "outputs": [],
   "source": [
    "# !pip install numpy "
   ]
  },
  {
   "cell_type": "code",
   "execution_count": 4,
   "id": "f62ea653",
   "metadata": {},
   "outputs": [],
   "source": [
    "import numpy as np "
   ]
  },
  {
   "cell_type": "code",
   "execution_count": 5,
   "id": "67dbca40",
   "metadata": {},
   "outputs": [
    {
     "data": {
      "text/plain": [
       "list"
      ]
     },
     "execution_count": 5,
     "metadata": {},
     "output_type": "execute_result"
    }
   ],
   "source": [
    "a = [1,34,67,90]\n",
    "type(a) "
   ]
  },
  {
   "cell_type": "code",
   "execution_count": 6,
   "id": "3a8b173d",
   "metadata": {},
   "outputs": [
    {
     "data": {
      "text/plain": [
       "array([ 1, 34, 67, 90])"
      ]
     },
     "execution_count": 6,
     "metadata": {},
     "output_type": "execute_result"
    }
   ],
   "source": [
    "b = np.array(a) \n",
    "b"
   ]
  },
  {
   "cell_type": "code",
   "execution_count": 7,
   "id": "b4ed3f68",
   "metadata": {},
   "outputs": [
    {
     "data": {
      "text/plain": [
       "numpy.ndarray"
      ]
     },
     "execution_count": 7,
     "metadata": {},
     "output_type": "execute_result"
    }
   ],
   "source": [
    "type(b) "
   ]
  },
  {
   "cell_type": "code",
   "execution_count": 8,
   "id": "00acf45e",
   "metadata": {},
   "outputs": [],
   "source": [
    "# Dimension ===> \n",
    "# 1-D  ===> element exist in x-direction \n",
    "# 2-D  ===> element exist in x and y direction \n",
    "# 3-D  ===> element exist in x,y,z direction "
   ]
  },
  {
   "cell_type": "code",
   "execution_count": 9,
   "id": "acc2ed3e",
   "metadata": {},
   "outputs": [
    {
     "name": "stdout",
     "output_type": "stream",
     "text": [
      "Total Shape: (4,)\n"
     ]
    }
   ],
   "source": [
    "print(\"Total Shape:\" , b.shape)  ## shape = n(rows) , n(columns)"
   ]
  },
  {
   "cell_type": "code",
   "execution_count": 10,
   "id": "414dab4b",
   "metadata": {},
   "outputs": [
    {
     "name": "stdout",
     "output_type": "stream",
     "text": [
      "Total Elements: 4\n"
     ]
    }
   ],
   "source": [
    "print(\"Total Elements:\", b.size) ## size = n(row)*n(column) "
   ]
  },
  {
   "cell_type": "code",
   "execution_count": 11,
   "id": "f2fd5294",
   "metadata": {},
   "outputs": [
    {
     "name": "stdout",
     "output_type": "stream",
     "text": [
      "Total Dimension: 1\n"
     ]
    }
   ],
   "source": [
    "print(\"Total Dimension:\" , b.ndim)  ### ndim is refer to dimension of array . "
   ]
  },
  {
   "cell_type": "code",
   "execution_count": 12,
   "id": "ab7e8ff2",
   "metadata": {},
   "outputs": [
    {
     "data": {
      "text/plain": [
       "[[1, 2, 3], [4, 5, 6], [7, 8, 9]]"
      ]
     },
     "execution_count": 12,
     "metadata": {},
     "output_type": "execute_result"
    }
   ],
   "source": [
    "a = [[1,2,3],[4,5,6],[7,8,9]]\n",
    "a"
   ]
  },
  {
   "cell_type": "code",
   "execution_count": 13,
   "id": "faac4ab2",
   "metadata": {},
   "outputs": [
    {
     "data": {
      "text/plain": [
       "array([[1, 2, 3],\n",
       "       [4, 5, 6],\n",
       "       [7, 8, 9]])"
      ]
     },
     "execution_count": 13,
     "metadata": {},
     "output_type": "execute_result"
    }
   ],
   "source": [
    "b = np.array(a) \n",
    "b"
   ]
  },
  {
   "cell_type": "code",
   "execution_count": 14,
   "id": "0a075927",
   "metadata": {},
   "outputs": [
    {
     "data": {
      "text/plain": [
       "numpy.ndarray"
      ]
     },
     "execution_count": 14,
     "metadata": {},
     "output_type": "execute_result"
    }
   ],
   "source": [
    "type(b) "
   ]
  },
  {
   "cell_type": "code",
   "execution_count": 18,
   "id": "5b0c92cc",
   "metadata": {},
   "outputs": [
    {
     "name": "stdout",
     "output_type": "stream",
     "text": [
      "Total Rows and Columns: (3, 3)\n",
      "Total Elements : 9\n",
      "Total Dimension : 2\n"
     ]
    }
   ],
   "source": [
    "print(\"Total Rows and Columns:\" , b.shape) ## shape = n(row) , n(column)\n",
    "print(\"Total Elements :\" , b.size) ## size = n(row)*n(column)\n",
    "print(\"Total Dimension :\", b.ndim)  ## ndim ---> dimension "
   ]
  },
  {
   "cell_type": "markdown",
   "id": "bc3d0a5f",
   "metadata": {},
   "source": [
    "# How can we create a user defined Array ? "
   ]
  },
  {
   "cell_type": "code",
   "execution_count": 19,
   "id": "625d789c",
   "metadata": {},
   "outputs": [
    {
     "name": "stdout",
     "output_type": "stream",
     "text": [
      "Enter size:4\n",
      "Enter number:12\n",
      "Enter number:56\n",
      "Enter number:78\n",
      "Enter number:45678\n"
     ]
    },
    {
     "data": {
      "text/plain": [
       "array([   12,    56,    78, 45678])"
      ]
     },
     "execution_count": 19,
     "metadata": {},
     "output_type": "execute_result"
    }
   ],
   "source": [
    "a = [] \n",
    "size = int(input(\"Enter size:\"))\n",
    "for i in range(size):\n",
    "    val = int(input(\"Enter number:\"))\n",
    "    a.append(val) \n",
    "b = np.array(a) \n",
    "b"
   ]
  },
  {
   "cell_type": "markdown",
   "id": "7b1ec2ef",
   "metadata": {},
   "source": [
    "# Numpy Functions "
   ]
  },
  {
   "cell_type": "code",
   "execution_count": 21,
   "id": "fe17441c",
   "metadata": {},
   "outputs": [],
   "source": [
    "# Images ===> Pixels(0-255)px ===> 0px(black) , 255px(white) ===> Normalize ===> (0-1)px \n",
    "\n",
    "# (a). black&white image ===> height , width \n",
    "# (b). Colorfull Image ===> height , width , color_channel(red,green,blue)\n",
    "\n",
    "# Matrix ===> n(rows) = n(columns) ===> Symmatric Matrix  , n(r)!= n(c) ===> Asymmatric Matrix \n",
    "\n",
    "# random number generation ===> random module \n",
    "\n",
    "# Data Science ===> simple line equation = y = mx + b   ## (x,y)= co-ordinates , m=weight, b=intercept\n",
    "\n",
    "# Matrix ===> row , column \n",
    "# Matrix ===> digonal positional element = [(1,1), (2,2), (3,3)......(n,n)]"
   ]
  },
  {
   "cell_type": "markdown",
   "id": "1cae6633",
   "metadata": {},
   "source": [
    "# (1). zeros() ===> It will create an array in which all the values are 0 . "
   ]
  },
  {
   "cell_type": "code",
   "execution_count": 23,
   "id": "43a2946b",
   "metadata": {},
   "outputs": [
    {
     "data": {
      "text/plain": [
       "array([0., 0., 0.])"
      ]
     },
     "execution_count": 23,
     "metadata": {},
     "output_type": "execute_result"
    }
   ],
   "source": [
    "a = np.zeros(3)\n",
    "a"
   ]
  },
  {
   "cell_type": "code",
   "execution_count": 24,
   "id": "9f96f936",
   "metadata": {},
   "outputs": [
    {
     "data": {
      "text/plain": [
       "array([[0., 0., 0.],\n",
       "       [0., 0., 0.]])"
      ]
     },
     "execution_count": 24,
     "metadata": {},
     "output_type": "execute_result"
    }
   ],
   "source": [
    "a = np.zeros((2,3))\n",
    "a"
   ]
  },
  {
   "cell_type": "markdown",
   "id": "5f2bbb8f",
   "metadata": {},
   "source": [
    "# (2). ones() ===> It will create an array in which all the values are 1 . "
   ]
  },
  {
   "cell_type": "code",
   "execution_count": 25,
   "id": "e105cf31",
   "metadata": {},
   "outputs": [
    {
     "data": {
      "text/plain": [
       "array([1., 1., 1.])"
      ]
     },
     "execution_count": 25,
     "metadata": {},
     "output_type": "execute_result"
    }
   ],
   "source": [
    "a = np.ones(3) \n",
    "a"
   ]
  },
  {
   "cell_type": "code",
   "execution_count": 26,
   "id": "e6b7232e",
   "metadata": {},
   "outputs": [
    {
     "data": {
      "text/plain": [
       "array([[1., 1., 1., 1.],\n",
       "       [1., 1., 1., 1.],\n",
       "       [1., 1., 1., 1.]])"
      ]
     },
     "execution_count": 26,
     "metadata": {},
     "output_type": "execute_result"
    }
   ],
   "source": [
    "a = np.ones((3,4))\n",
    "a"
   ]
  },
  {
   "cell_type": "code",
   "execution_count": 27,
   "id": "0c5a5786",
   "metadata": {},
   "outputs": [
    {
     "data": {
      "text/plain": [
       "(3, 4)"
      ]
     },
     "execution_count": 27,
     "metadata": {},
     "output_type": "execute_result"
    }
   ],
   "source": [
    "a.shape"
   ]
  },
  {
   "cell_type": "markdown",
   "id": "0d2c7829",
   "metadata": {},
   "source": [
    "# (3). eye() ===> It will create an array in which digonal positional elements are 1 and \n",
    "# rest all are 0 . "
   ]
  },
  {
   "cell_type": "code",
   "execution_count": 28,
   "id": "5e7855a9",
   "metadata": {},
   "outputs": [
    {
     "data": {
      "text/plain": [
       "array([[1., 0., 0.],\n",
       "       [0., 1., 0.],\n",
       "       [0., 0., 1.]])"
      ]
     },
     "execution_count": 28,
     "metadata": {},
     "output_type": "execute_result"
    }
   ],
   "source": [
    "a = np.eye(3)   ### Symmatric Matrix \n",
    "a"
   ]
  },
  {
   "cell_type": "code",
   "execution_count": 30,
   "id": "61fb7e91",
   "metadata": {},
   "outputs": [
    {
     "data": {
      "text/plain": [
       "array([[1., 0., 0., 0.],\n",
       "       [0., 1., 0., 0.],\n",
       "       [0., 0., 1., 0.]])"
      ]
     },
     "execution_count": 30,
     "metadata": {},
     "output_type": "execute_result"
    }
   ],
   "source": [
    "a = np.eye(3,4)  ### Asymmatric Matrix \n",
    "a"
   ]
  },
  {
   "cell_type": "code",
   "execution_count": 31,
   "id": "fdd4aac8",
   "metadata": {},
   "outputs": [],
   "source": [
    "# (4). diag() ===> It will create an array in which we can customize our digonal positional elements."
   ]
  },
  {
   "cell_type": "code",
   "execution_count": 32,
   "id": "9355dd90",
   "metadata": {},
   "outputs": [
    {
     "data": {
      "text/plain": [
       "array([[  1,   0,   0,   0],\n",
       "       [  0,  56,   0,   0],\n",
       "       [  0,   0,  89,   0],\n",
       "       [  0,   0,   0, 700]])"
      ]
     },
     "execution_count": 32,
     "metadata": {},
     "output_type": "execute_result"
    }
   ],
   "source": [
    "a = np.diag([1,56,89,700])\n",
    "a"
   ]
  },
  {
   "cell_type": "code",
   "execution_count": 33,
   "id": "5213f50f",
   "metadata": {},
   "outputs": [],
   "source": [
    "# (5). Random Module ====> \n",
    "# (a). OTP Generation\n",
    "# (b). Dataset ===> 1 dummy column add \n",
    "# (c). randomly weights initialize "
   ]
  },
  {
   "cell_type": "code",
   "execution_count": 34,
   "id": "1abcf244",
   "metadata": {},
   "outputs": [],
   "source": [
    "# (a). Randint(min_number , max_number , total_numbers) "
   ]
  },
  {
   "cell_type": "code",
   "execution_count": 48,
   "id": "000ea7df",
   "metadata": {},
   "outputs": [
    {
     "data": {
      "text/plain": [
       "array([7, 7, 2])"
      ]
     },
     "execution_count": 48,
     "metadata": {},
     "output_type": "execute_result"
    }
   ],
   "source": [
    "a = np.random.randint(1,10,3)\n",
    "a"
   ]
  },
  {
   "cell_type": "code",
   "execution_count": 49,
   "id": "d1b5cc1e",
   "metadata": {},
   "outputs": [],
   "source": [
    "# (b). Rand(total_numbers) ===> It will return numbers from 0 to 1 ."
   ]
  },
  {
   "cell_type": "code",
   "execution_count": 45,
   "id": "26b8f872",
   "metadata": {},
   "outputs": [
    {
     "data": {
      "text/plain": [
       "array([0.3908807 , 0.44652974, 0.57506053, 0.26281011, 0.58156826])"
      ]
     },
     "execution_count": 45,
     "metadata": {},
     "output_type": "execute_result"
    }
   ],
   "source": [
    "a = np.random.rand(5)\n",
    "a"
   ]
  },
  {
   "cell_type": "code",
   "execution_count": 46,
   "id": "6514f4d3",
   "metadata": {},
   "outputs": [],
   "source": [
    "# (c). Randn() ===> -3 to +3 . "
   ]
  },
  {
   "cell_type": "code",
   "execution_count": 47,
   "id": "31c03325",
   "metadata": {},
   "outputs": [
    {
     "data": {
      "text/plain": [
       "array([-0.77968315,  1.12636276,  0.24203289, -0.93809084,  2.16904614])"
      ]
     },
     "execution_count": 47,
     "metadata": {},
     "output_type": "execute_result"
    }
   ],
   "source": [
    "a = np.random.randn(5)\n",
    "a"
   ]
  },
  {
   "cell_type": "code",
   "execution_count": 50,
   "id": "cc5462c9",
   "metadata": {},
   "outputs": [],
   "source": [
    "# (d). seed() ===> It  will fix our data once the data has been generated . "
   ]
  },
  {
   "cell_type": "code",
   "execution_count": 65,
   "id": "2c4f405a",
   "metadata": {},
   "outputs": [
    {
     "data": {
      "text/plain": [
       "array([4, 5, 7])"
      ]
     },
     "execution_count": 65,
     "metadata": {},
     "output_type": "execute_result"
    }
   ],
   "source": [
    "np.random.seed(20) \n",
    "a = np.random.randint(1,10,3)\n",
    "a"
   ]
  },
  {
   "cell_type": "code",
   "execution_count": null,
   "id": "f8c9e057",
   "metadata": {},
   "outputs": [],
   "source": []
  }
 ],
 "metadata": {
  "kernelspec": {
   "display_name": "Python 3 (ipykernel)",
   "language": "python",
   "name": "python3"
  },
  "language_info": {
   "codemirror_mode": {
    "name": "ipython",
    "version": 3
   },
   "file_extension": ".py",
   "mimetype": "text/x-python",
   "name": "python",
   "nbconvert_exporter": "python",
   "pygments_lexer": "ipython3",
   "version": "3.9.12"
  }
 },
 "nbformat": 4,
 "nbformat_minor": 5
}
