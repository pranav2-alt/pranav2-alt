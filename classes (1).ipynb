{
 "cells": [
  {
   "cell_type": "code",
   "execution_count": 5,
   "id": "64780beb-872a-41be-a5f4-d33028a6ad81",
   "metadata": {},
   "outputs": [
    {
     "name": "stdout",
     "output_type": "stream",
     "text": [
      "location of sam = jaipur\n"
     ]
    }
   ],
   "source": [
    "class Employee:\n",
    "    location = 'jaipur'\n",
    "    def __init__(self):\n",
    "        pass\n",
    "\n",
    "sam = Employee()\n",
    "print(\"location of sam =\", sam.location)\n"
   ]
  },
  {
   "cell_type": "code",
   "execution_count": 7,
   "id": "45050494-ae3d-4792-93fd-83144dbd7377",
   "metadata": {},
   "outputs": [
    {
     "name": "stdout",
     "output_type": "stream",
     "text": [
      "Rohit salary is = 1000\n",
      "Punit salary is = 500\n"
     ]
    }
   ],
   "source": [
    "class Employee:\n",
    "    salary=500\n",
    "Rohit= Employee()\n",
    "Rohit.salary=1000\n",
    "Punit = Employee()\n",
    "\n",
    "print(\"Rohit salary is =\" , Rohit.salary)\n",
    "print(\"Punit salary is =\" , Punit.salary)"
   ]
  },
  {
   "cell_type": "code",
   "execution_count": 9,
   "id": "490850cc-aad5-4866-a612-00b50b209ee6",
   "metadata": {},
   "outputs": [
    {
     "name": "stdout",
     "output_type": "stream",
     "text": [
      "Buddy says Woof!\n",
      "Golden Retriever is the breed.\n",
      "Max says Woof!\n",
      "Labrador is the breed.\n"
     ]
    }
   ],
   "source": [
    "# Example with self\n",
    "class Dog:\n",
    "    def __init__(self, name, breed):  # Corrected 'self' and parameter names\n",
    "        self.name = name  # Bind instance attribute\n",
    "        self.breed = breed\n",
    "\n",
    "    def bark(self):\n",
    "        print(f\"{self.name} says Woof!\")\n",
    "        print(f\"{self.breed} is the breed.\")\n",
    "\n",
    "dog1 = Dog(\"Buddy\", \"Golden Retriever\")\n",
    "dog2 = Dog(\"Max\", \"Labrador\")\n",
    "\n",
    "# Access attributes and methods\n",
    "dog1.bark()\n",
    "dog2.bark()"
   ]
  },
  {
   "cell_type": "code",
   "execution_count": 11,
   "id": "7e314f9e-9454-4c2c-b097-22168e2db799",
   "metadata": {},
   "outputs": [
    {
     "name": "stdout",
     "output_type": "stream",
     "text": [
      "15\n",
      "5\n",
      "50\n",
      "2.0\n"
     ]
    }
   ],
   "source": [
    "# Task1\n",
    "# Create a Calculator Class.\n",
    "# Add methods for addition, subtraction, multiplication, and division.\n",
    "# use the self parameter to access the numbers\n",
    "class Calculator:\n",
    "    def __init__(self, num1, num2):\n",
    "        self.num1 = num1\n",
    "        self.num2 = num2\n",
    "\n",
    "    def add(self):\n",
    "        return self.num1 + self.num2\n",
    "\n",
    "    def subtract(self):\n",
    "        return self.num1 - self.num2\n",
    "\n",
    "    def multiply(self):\n",
    "        return self.num1 * self.num2\n",
    "\n",
    "    def divide(self):\n",
    "        if self.num2 != 0:\n",
    "            return self.num1 / self.num2\n",
    "        else:\n",
    "            return \"Division by zero is not allowed\"\n",
    "\n",
    "calc = Calculator(10, 5)\n",
    "print(calc.add())\n",
    "print(calc.subtract())\n",
    "print(calc.multiply())\n",
    "print(calc.divide())\n"
   ]
  },
  {
   "cell_type": "code",
   "execution_count": 3,
   "id": "15050795-05a2-4194-b449-ca1e1b21a72a",
   "metadata": {},
   "outputs": [
    {
     "name": "stdout",
     "output_type": "stream",
     "text": [
      "500 deposited. New balance: 1500\n",
      "200 withdrawn. Remaining balance: 1300\n",
      "Account balance for Pranav Jangid: 1300\n"
     ]
    }
   ],
   "source": [
    "# Create a Bank Account Class\n",
    "# define a bankaccount class\n",
    "# Add attributes for account holder name andf balance.\n",
    "# Add methods to deposit, withdraw, and check balance\n",
    "class BankAccount:\n",
    "    def __init__(self, holder_name, balance=0):\n",
    "        self.holder_name = holder_name\n",
    "        self.balance = balance\n",
    "\n",
    "    def deposit(self, amount):\n",
    "        self.balance += amount\n",
    "        print(f\"{amount} deposited. New balance: {self.balance}\")\n",
    "\n",
    "    def withdraw(self, amount):\n",
    "        if amount <= self.balance:\n",
    "            self.balance -= amount\n",
    "            print(f\"{amount} withdrawn. Remaining balance: {self.balance}\")\n",
    "        else:\n",
    "            print(\"Insufficient funds\")\n",
    "\n",
    "    def check_balance(self):\n",
    "        return f\"Account balance for {self.holder_name}: {self.balance}\"\n",
    "\n",
    "account = BankAccount(\"Pranav Jangid\", 1000)\n",
    "account.deposit(500)\n",
    "account.withdraw(200)\n",
    "print(account.check_balance())\n"
   ]
  },
  {
   "cell_type": "code",
   "execution_count": 5,
   "id": "9404615b-1946-410c-8cb9-acb5ff962956",
   "metadata": {},
   "outputs": [
    {
     "name": "stdout",
     "output_type": "stream",
     "text": [
      "500 deposited. New balance: 1500\n",
      "Balance below Rs. 5000. Rs. 500 deducted as penalty.\n",
      "200 withdrawn. Remaining balance: 800\n",
      "Balance below Rs. 5000. Rs. 500 deducted as penalty.\n",
      "Account balance for Pranav Jangid: 300\n",
      "6000 deposited. New balance: 6300\n",
      "2000 withdrawn. Remaining balance: 4300\n",
      "Balance below Rs. 5000. Rs. 500 deducted as penalty.\n"
     ]
    }
   ],
   "source": [
    "# bank account 5000 less than hai to 500 rupay kaat lo\n",
    "class BankAccount:\n",
    "    def __init__(self, holder_name, balance=0):\n",
    "        self.holder_name = holder_name\n",
    "        self.balance = balance\n",
    "\n",
    "    def deposit(self, amount):\n",
    "        self.balance += amount\n",
    "        print(f\"{amount} deposited. New balance: {self.balance}\")\n",
    "        self._check_min_balance()\n",
    "\n",
    "    def withdraw(self, amount):\n",
    "        if amount <= self.balance:\n",
    "            self.balance -= amount\n",
    "            print(f\"{amount} withdrawn. Remaining balance: {self.balance}\")\n",
    "            self._check_min_balance()\n",
    "        else:\n",
    "            print(\"Insufficient funds\")\n",
    "\n",
    "    def check_balance(self):\n",
    "        return f\"Account balance for {self.holder_name}: {self.balance}\"\n",
    "\n",
    "    def _check_min_balance(self):\n",
    "        if self.balance < 5000:\n",
    "            self.balance -= 500\n",
    "            print(\"Balance below Rs. 5000. Rs. 500 deducted as penalty.\")\n",
    "\n",
    "account = BankAccount(\"Pranav Jangid\", 1000)\n",
    "account.deposit(500)\n",
    "account.withdraw(200)\n",
    "print(account.check_balance())\n",
    "account.deposit(6000)\n",
    "account.withdraw(2000)\n"
   ]
  },
  {
   "cell_type": "code",
   "execution_count": 11,
   "id": "c4101500-56a3-41ee-aa11-108eca84aa6e",
   "metadata": {},
   "outputs": [
    {
     "name": "stdout",
     "output_type": "stream",
     "text": [
      "Name: Pranav Jangid, Age: 18, Marks: 85\n",
      "Passed\n"
     ]
    }
   ],
   "source": [
    "# Create a STudent class\n",
    "# Define a Student class with attributes like name, age, and marks.\n",
    "# Add a method to display the student details.\n",
    "# Add a method to check if the student passed (marks>=40)\n",
    "class Student:\n",
    "    def __init__(self, name, age, marks):\n",
    "        self.name = name\n",
    "        self.age = age\n",
    "        self.marks = marks\n",
    "\n",
    "    def display_details(self):\n",
    "        return f\"Name: {self.name}, Age: {self.age}, Marks: {self.marks}\"\n",
    "\n",
    "    def has_passed(self):\n",
    "        return self.marks >= 40\n",
    "\n",
    "student = Student(\"Pranav Jangid\", 18, 85)\n",
    "print(student.display_details())\n",
    "if student.has_passed():\n",
    "    print(\"Passed\")\n",
    "else:\n",
    "    print(\"Failed\")\n"
   ]
  },
  {
   "cell_type": "code",
   "execution_count": 13,
   "id": "88a048f0-8797-45f0-87f6-ac81118403df",
   "metadata": {},
   "outputs": [
    {
     "name": "stdout",
     "output_type": "stream",
     "text": [
      "Name: Pranav Jangid, ID: 101, Salary: 50000\n",
      "Annual Salary: 600000\n"
     ]
    }
   ],
   "source": [
    "# Create an Employee Management System\n",
    "# define an Employee class with attributes name, ID, and salary.\n",
    "# Add a method to calculalte annual salary.\n",
    "# Add a method to display employee details.\n",
    "class Employee:\n",
    "    def __init__(self, name, emp_id, salary):\n",
    "        self.name = name\n",
    "        self.emp_id = emp_id\n",
    "        self.salary = salary\n",
    "\n",
    "    def calculate_annual_salary(self):\n",
    "        return self.salary * 12\n",
    "\n",
    "    def display_details(self):\n",
    "        return f\"Name: {self.name}, ID: {self.emp_id}, Salary: {self.salary}\"\n",
    "\n",
    "employee = Employee(\"Pranav Jangid\", 101, 50000)\n",
    "print(employee.display_details())\n",
    "print(\"Annual Salary:\", employee.calculate_annual_salary())\n"
   ]
  },
  {
   "cell_type": "code",
   "execution_count": 15,
   "id": "a5081a8f-074f-4932-971a-d0e8a22033cb",
   "metadata": {},
   "outputs": [
    {
     "name": "stdout",
     "output_type": "stream",
     "text": [
      "Title: Python Programming, Author: Pranav Jangid\n",
      "Available: True\n",
      "Book borrowed successfully.\n",
      "Available: False\n",
      "Book returned successfully.\n",
      "Available: True\n"
     ]
    }
   ],
   "source": [
    "# Create a Library System \n",
    "# Define a Book class with attributes like title, author, and availability.\n",
    "# Add methods to check availability an borrow/return the book\n",
    "class Book:\n",
    "    def __init__(self, title, author, available=True):\n",
    "        self.title = title\n",
    "        self.author = author\n",
    "        self.available = available\n",
    "\n",
    "    def check_availability(self):\n",
    "        return self.available\n",
    "\n",
    "    def borrow_book(self):\n",
    "        if self.available:\n",
    "            self.available = False\n",
    "            return \"Book borrowed successfully.\"\n",
    "        else:\n",
    "            return \"Book is currently unavailable.\"\n",
    "\n",
    "    def return_book(self):\n",
    "        if not self.available:\n",
    "            self.available = True\n",
    "            return \"Book returned successfully.\"\n",
    "        else:\n",
    "            return \"Book was not borrowed.\"\n",
    "\n",
    "book = Book(\"Python Programming\", \"Pranav Jangid\")\n",
    "print(f\"Title: {book.title}, Author: {book.author}\")\n",
    "print(\"Available:\", book.check_availability())\n",
    "print(book.borrow_book())\n",
    "print(\"Available:\", book.check_availability())\n",
    "print(book.return_book())\n",
    "print(\"Available:\", book.check_availability())\n"
   ]
  },
  {
   "cell_type": "code",
   "execution_count": 5,
   "id": "d0c063af-829d-4c30-beab-68130275aac2",
   "metadata": {},
   "outputs": [],
   "source": [
    "# what is incapsulation in oops?\n",
    "# incapsulation is the process of bandling data(variable) and methods(functions) that operate on the data into a single unit called a class\n",
    "# \"It also involves restricting direct access to some of the object's attributes and methods to protect the integrity of the data. \n",
    "# This is typically done by making attributes private and providing access through public methods.\"\n"
   ]
  },
  {
   "cell_type": "code",
   "execution_count": 3,
   "id": "e2b78a6b-32b9-468a-a10a-35b05b21ea09",
   "metadata": {},
   "outputs": [],
   "source": [
    "# why is incapsulation is important?\n",
    "# 1. it improves data security by restricting unauthorized access\n",
    "# 2. it promotes moduleraity by implementation details\n",
    "# 3. it enables control over the data by providing control access through methods\n",
    "# 4. it inhance code maintainabilty and reusability by protecting data from unintended modification"
   ]
  },
  {
   "cell_type": "code",
   "execution_count": 7,
   "id": "41740d7a-ed61-489b-9190-0e6841997533",
   "metadata": {},
   "outputs": [],
   "source": [
    "# Q-3 How is incapsulation implemented in python?\n",
    "# 1. incapsulation in python is implemented by declaring attributes private using a double underscore prefix\n",
    "# It providing public methods like getter and setter to access and modifies private attributes "
   ]
  },
  {
   "cell_type": "code",
   "execution_count": 9,
   "id": "66b95be5-0afd-4e00-b306-735e1b74210d",
   "metadata": {},
   "outputs": [],
   "source": [
    "# Q-4 how do private and protected attributes relate to incapsulation\n",
    "# private attributes{__attributes} => fully incapsulate the data and they can only we access within the class\n",
    "# Protected attributs {_attributes} => provides partial incapsulation indicating that they should be access only within the clas or subclass.\n"
   ]
  },
  {
   "cell_type": "code",
   "execution_count": 11,
   "id": "4218b739-ab81-4f87-bfe1-1e428145f8ec",
   "metadata": {},
   "outputs": [],
   "source": [
    "# Q-5 Can incapsulation be achieve without using private attributes\n",
    "# Yes, encapsulation can still be achieved without using private attributes by enforcing data integrity through public methods. \n",
    "# However, private attributes provide an additional layer of protection to prevent accidental or unauthorized access.\n"
   ]
  },
  {
   "cell_type": "code",
   "execution_count": 13,
   "id": "797dace4-65c8-43c2-bc61-faff956f814f",
   "metadata": {},
   "outputs": [],
   "source": [
    "# Q-6 How does incapsulation help in debugging and maintaining code\n",
    "# 2. allowing changes to the internal iimplementation without affecting other parts of the programs\n",
    "# 3. it is providing clearing interface for interacting within object data."
   ]
  },
  {
   "cell_type": "code",
   "execution_count": 15,
   "id": "0a041203-d3ee-46b4-b805-c115788c55b4",
   "metadata": {},
   "outputs": [],
   "source": [
    "# Q-7 what are the disadvantage of incapsulation\n",
    "# Increases complexity due to the need for getters and setters.\n",
    "# Slight performance overhead from additional function calls.\n",
    "# Can lead to over-engineering if applied unnecessarily."
   ]
  },
  {
   "cell_type": "code",
   "execution_count": 17,
   "id": "3cec3df1-cba4-4239-b537-40810beb68d9",
   "metadata": {},
   "outputs": [],
   "source": [
    "# Q-8 How can incapsulation violate the dry principle\n",
    "# incapsulaton can dry principle when getter and setter are return redundently for every private attribute especially in cases where direct access\n",
    "# to the data wood safee Exaple => simple dtaa object witout critical security concern\n"
   ]
  },
  {
   "cell_type": "code",
   "execution_count": 39,
   "id": "77de90de-7769-4939-aa5e-2f2f111859ba",
   "metadata": {},
   "outputs": [],
   "source": [
    "# Q-9 Is it possible private attributes outside the class in python\n",
    "# Yes. Private attributes can be access using name mangling \n",
    "# Python internally chnaged the name of private attributes to single _classname __attributes name\n"
   ]
  },
  {
   "cell_type": "code",
   "execution_count": 35,
   "id": "44b1d69e-c2b8-41fb-994c-a72cf16c848e",
   "metadata": {},
   "outputs": [
    {
     "name": "stdout",
     "output_type": "stream",
     "text": [
      "Account Holder: Pranav\n",
      "Account Balance: 1000\n",
      "Deposited: 500. New Balance: 1500\n",
      "Withdrawn: 300. Remaining Balance: 1200\n",
      "Account Balance: 1200\n"
     ]
    }
   ],
   "source": [
    "# Example 1: Bank Account \n",
    "class BankAccount:\n",
    "    def __init__(self, account_holder, initial_balance):\n",
    "        self.__account_holder = account_holder  # Private attribute\n",
    "        self.__balance = initial_balance  # Private attribute\n",
    "\n",
    "    def get_account_holder(self):\n",
    "        return f\"Account Holder: {self.__account_holder}\"\n",
    "\n",
    "    def get_balance(self):\n",
    "        return f\"Account Balance: {self.__balance}\"\n",
    "\n",
    "    def deposit(self, amount):\n",
    "        if amount > 0:\n",
    "            self.__balance += amount\n",
    "            return f\"Deposited: {amount}. New Balance: {self.__balance}\"\n",
    "        return \"Invalid deposit amount.\"\n",
    "\n",
    "    def withdraw(self, amount):\n",
    "        if 0 < amount <= self.__balance:\n",
    "            self.__balance -= amount\n",
    "            return f\"Withdrawn: {amount}. Remaining Balance: {self.__balance}\"\n",
    "        return \"Invalid or insufficient funds.\"\n",
    "\n",
    "# Usage\n",
    "account = BankAccount(\"Pranav\", 1000)\n",
    "print(account.get_account_holder())\n",
    "print(account.get_balance())\n",
    "print(account.deposit(500))\n",
    "print(account.withdraw(300))\n",
    "print(account.get_balance())\n"
   ]
  },
  {
   "cell_type": "code",
   "execution_count": 37,
   "id": "2f51cb14-10d1-48de-aa66-2ce1d8ac7a7a",
   "metadata": {},
   "outputs": [
    {
     "name": "stdout",
     "output_type": "stream",
     "text": [
      "Pranav\n",
      "90\n"
     ]
    }
   ],
   "source": [
    "# Student data\n",
    "class Student:\n",
    "    def __init__(self, name, grade):\n",
    "        self.name = name       # public attribute\n",
    "        self.__grade = grade   # private attribute \n",
    "\n",
    "    # Getter for grade\n",
    "    def get_grade(self):\n",
    "        return self.__grade\n",
    "\n",
    "    # Setter for grade\n",
    "    def set_grade(self, grade):\n",
    "        if 0 <= grade <= 100:\n",
    "            self.__grade = grade\n",
    "        else:\n",
    "            print(\"Invalid grade\")\n",
    "\n",
    "student = Student(\"Pranav\", 90)\n",
    "print(student.name)          \n",
    "print(student.get_grade())  \n",
    "student.set_grade(95)       \n"
   ]
  },
  {
   "cell_type": "code",
   "execution_count": null,
   "id": "9740b0e0-b33d-4491-a413-87a30926aa8f",
   "metadata": {},
   "outputs": [],
   "source": []
  }
 ],
 "metadata": {
  "kernelspec": {
   "display_name": "Python 3 (ipykernel)",
   "language": "python",
   "name": "python3"
  },
  "language_info": {
   "codemirror_mode": {
    "name": "ipython",
    "version": 3
   },
   "file_extension": ".py",
   "mimetype": "text/x-python",
   "name": "python",
   "nbconvert_exporter": "python",
   "pygments_lexer": "ipython3",
   "version": "3.12.4"
  }
 },
 "nbformat": 4,
 "nbformat_minor": 5
}
