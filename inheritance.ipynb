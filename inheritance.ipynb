{
 "cells": [
  {
   "cell_type": "code",
   "execution_count": 5,
   "id": "c9b14a9f-e899-4d2a-b0d9-a42a0c9cba5e",
   "metadata": {},
   "outputs": [
    {
     "name": "stdout",
     "output_type": "stream",
     "text": [
      "Name: Ram, Level: 1, Points: 60, Badges: Beginner\n",
      "Ram leveled up to Level 2!\n",
      "Name: Ram, Level: 2, Points: 110, Badges: Beginner, Intermediate\n",
      "Ram leveled up to Level 3!\n",
      "Name: Ram, Level: 3, Points: 210, Badges: Beginner, Intermediate, Expert\n"
     ]
    }
   ],
   "source": [
    "class User:\n",
    "    def __init__(self, name):  # Fixed method name\n",
    "        self.name = name\n",
    "        self.points = 0\n",
    "        self.level = 1\n",
    "        self.badges = []\n",
    "\n",
    "    def earn_points(self, points):\n",
    "        self.points += points\n",
    "        self.check_level_up()\n",
    "        self.assign_badge()\n",
    "\n",
    "    def check_level_up(self):\n",
    "        while self.points >= self.level * 100:  # Allow for multiple level-ups\n",
    "            self.level += 1\n",
    "            print(f\"{self.name} leveled up to Level {self.level}!\")\n",
    "\n",
    "    def assign_badge(self):\n",
    "        if self.points >= 200 and \"Expert\" not in self.badges:\n",
    "            self.badges.append(\"Expert\")\n",
    "        elif self.points >= 100 and \"Intermediate\" not in self.badges:\n",
    "            self.badges.append(\"Intermediate\")\n",
    "        elif self.points >= 50 and \"Beginner\" not in self.badges:\n",
    "            self.badges.append(\"Beginner\")\n",
    "\n",
    "    def show_progress(self):\n",
    "        print(f\"Name: {self.name}, Level: {self.level}, Points: {self.points}, Badges: {', '.join(self.badges)}\")\n",
    "\n",
    "\n",
    "# Test cases\n",
    "user = User(\"Ram\")\n",
    "user.earn_points(60)\n",
    "user.show_progress()\n",
    "user.earn_points(50)\n",
    "user.show_progress()\n",
    "user.earn_points(100)\n",
    "user.show_progress()\n"
   ]
  },
  {
   "cell_type": "code",
   "execution_count": 9,
   "id": "9ffdc74b-c902-4690-83f3-57e22ea9fb94",
   "metadata": {},
   "outputs": [
    {
     "name": "stdout",
     "output_type": "stream",
     "text": [
      "Face Recognition System Activated!\n",
      "\n",
      " Options:\n",
      "1. Register Face\n",
      "2. Recognize Face\n",
      "3. Exit\n"
     ]
    },
    {
     "name": "stdin",
     "output_type": "stream",
     "text": [
      "Enter your choice:  3\n"
     ]
    },
    {
     "name": "stdout",
     "output_type": "stream",
     "text": [
      "Exiting the system. Goodbye!\n"
     ]
    }
   ],
   "source": [
    "# Face Recognise System\n",
    "class FaceRecognitionSystem:\n",
    "    def _init_(self):\n",
    "        self.faces = []\n",
    "\n",
    "    def register_face(self, name):\n",
    "        if name in self.faces:\n",
    "            print(f\"{name} is already registered.\")\n",
    "        else:\n",
    "            self.faces.append(name)\n",
    "            print(f\"{name} has been successfully registered!\")\n",
    "\n",
    "    def recognize_face(self, name):\n",
    "        if name in self.faces:\n",
    "            print(f\"Welcome back, {name}!\")\n",
    "        else:\n",
    "            print(\"Face not recognized. Please register first.\")\n",
    "\n",
    "    def start(self):\n",
    "        print(\"Face Recognition System Activated!\")\n",
    "        while True:\n",
    "            print(\"\\n Options:\")\n",
    "            print(\"1. Register Face\")\n",
    "            print(\"2. Recognize Face\")\n",
    "            print(\"3. Exit\")\n",
    "            choice = input(\"Enter your choice: \")\n",
    "\n",
    "            if choice == '1':\n",
    "                name = input(\"Enter the name to register: \")\n",
    "                self.register_face(name)\n",
    "\n",
    "            elif choice == '2':\n",
    "                name = input(\"Enter the name to recognize: \")\n",
    "                self.recognize_face(name)\n",
    "\n",
    "            elif choice == '3':\n",
    "                print(\"Exiting the system. Goodbye!\")\n",
    "                break\n",
    "\n",
    "            else:\n",
    "                print(\"Invalid choice! Please try again.\")\n",
    "\n",
    "\n",
    "system = FaceRecognitionSystem()\n",
    "system.start()"
   ]
  }
 ],
 "metadata": {
  "kernelspec": {
   "display_name": "Python 3 (ipykernel)",
   "language": "python",
   "name": "python3"
  },
  "language_info": {
   "codemirror_mode": {
    "name": "ipython",
    "version": 3
   },
   "file_extension": ".py",
   "mimetype": "text/x-python",
   "name": "python",
   "nbconvert_exporter": "python",
   "pygments_lexer": "ipython3",
   "version": "3.12.4"
  }
 },
 "nbformat": 4,
 "nbformat_minor": 5
}
