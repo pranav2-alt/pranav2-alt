{
  "nbformat": 4,
  "nbformat_minor": 0,
  "metadata": {
    "colab": {
      "provenance": [],
      "toc_visible": true
    },
    "kernelspec": {
      "name": "python3",
      "display_name": "Python 3"
    },
    "language_info": {
      "name": "python"
    }
  },
  "cells": [
    {
      "cell_type": "code",
      "execution_count": 1,
      "metadata": {
        "id": "DCDKTYiyUzan"
      },
      "outputs": [],
      "source": [
        "# Q-1 Load the Dataset\n",
        "import pandas as pd"
      ]
    },
    {
      "cell_type": "code",
      "source": [
        "df=pd.read_csv(\"//content//sales_data (1).csv\")"
      ],
      "metadata": {
        "id": "_ZqlNZZtU1NX"
      },
      "execution_count": 4,
      "outputs": []
    },
    {
      "cell_type": "code",
      "source": [
        "df.head()"
      ],
      "metadata": {
        "colab": {
          "base_uri": "https://localhost:8080/",
          "height": 206
        },
        "id": "JfKpgmv1ZTMB",
        "outputId": "17e1bd96-abca-4107-8111-2410b6b7af2f"
      },
      "execution_count": 5,
      "outputs": [
        {
          "output_type": "execute_result",
          "data": {
            "text/plain": [
              "   Order ID                Product  Quantity Ordered  Price Each  \\\n",
              "0       101            USB-C Cable                 2       11.95   \n",
              "1       102            USB-C Cable                 3       11.95   \n",
              "2       103            Wired Mouse                 1       14.95   \n",
              "3       104  AA Batteries (4-pack)                 2        3.84   \n",
              "4       105            USB-C Cable                 1       11.95   \n",
              "\n",
              "         Order Date                Purchase Address  \n",
              "0  2023-01-05 08:00  123 Main St, San Francisco, CA  \n",
              "1  2023-01-12 14:30     456 Maple Ave, New York, NY  \n",
              "2  2023-02-01 10:45     789 Oak St, Los Angeles, CA  \n",
              "3  2023-02-08 16:20         321 Elm St, Chicago, IL  \n",
              "4  2023-03-15 12:00  654 Pine Rd, San Francisco, CA  "
            ],
            "text/html": [
              "\n",
              "  <div id=\"df-94ca9c78-02fb-4e64-8c1b-f83be654d4d5\" class=\"colab-df-container\">\n",
              "    <div>\n",
              "<style scoped>\n",
              "    .dataframe tbody tr th:only-of-type {\n",
              "        vertical-align: middle;\n",
              "    }\n",
              "\n",
              "    .dataframe tbody tr th {\n",
              "        vertical-align: top;\n",
              "    }\n",
              "\n",
              "    .dataframe thead th {\n",
              "        text-align: right;\n",
              "    }\n",
              "</style>\n",
              "<table border=\"1\" class=\"dataframe\">\n",
              "  <thead>\n",
              "    <tr style=\"text-align: right;\">\n",
              "      <th></th>\n",
              "      <th>Order ID</th>\n",
              "      <th>Product</th>\n",
              "      <th>Quantity Ordered</th>\n",
              "      <th>Price Each</th>\n",
              "      <th>Order Date</th>\n",
              "      <th>Purchase Address</th>\n",
              "    </tr>\n",
              "  </thead>\n",
              "  <tbody>\n",
              "    <tr>\n",
              "      <th>0</th>\n",
              "      <td>101</td>\n",
              "      <td>USB-C Cable</td>\n",
              "      <td>2</td>\n",
              "      <td>11.95</td>\n",
              "      <td>2023-01-05 08:00</td>\n",
              "      <td>123 Main St, San Francisco, CA</td>\n",
              "    </tr>\n",
              "    <tr>\n",
              "      <th>1</th>\n",
              "      <td>102</td>\n",
              "      <td>USB-C Cable</td>\n",
              "      <td>3</td>\n",
              "      <td>11.95</td>\n",
              "      <td>2023-01-12 14:30</td>\n",
              "      <td>456 Maple Ave, New York, NY</td>\n",
              "    </tr>\n",
              "    <tr>\n",
              "      <th>2</th>\n",
              "      <td>103</td>\n",
              "      <td>Wired Mouse</td>\n",
              "      <td>1</td>\n",
              "      <td>14.95</td>\n",
              "      <td>2023-02-01 10:45</td>\n",
              "      <td>789 Oak St, Los Angeles, CA</td>\n",
              "    </tr>\n",
              "    <tr>\n",
              "      <th>3</th>\n",
              "      <td>104</td>\n",
              "      <td>AA Batteries (4-pack)</td>\n",
              "      <td>2</td>\n",
              "      <td>3.84</td>\n",
              "      <td>2023-02-08 16:20</td>\n",
              "      <td>321 Elm St, Chicago, IL</td>\n",
              "    </tr>\n",
              "    <tr>\n",
              "      <th>4</th>\n",
              "      <td>105</td>\n",
              "      <td>USB-C Cable</td>\n",
              "      <td>1</td>\n",
              "      <td>11.95</td>\n",
              "      <td>2023-03-15 12:00</td>\n",
              "      <td>654 Pine Rd, San Francisco, CA</td>\n",
              "    </tr>\n",
              "  </tbody>\n",
              "</table>\n",
              "</div>\n",
              "    <div class=\"colab-df-buttons\">\n",
              "\n",
              "  <div class=\"colab-df-container\">\n",
              "    <button class=\"colab-df-convert\" onclick=\"convertToInteractive('df-94ca9c78-02fb-4e64-8c1b-f83be654d4d5')\"\n",
              "            title=\"Convert this dataframe to an interactive table.\"\n",
              "            style=\"display:none;\">\n",
              "\n",
              "  <svg xmlns=\"http://www.w3.org/2000/svg\" height=\"24px\" viewBox=\"0 -960 960 960\">\n",
              "    <path d=\"M120-120v-720h720v720H120Zm60-500h600v-160H180v160Zm220 220h160v-160H400v160Zm0 220h160v-160H400v160ZM180-400h160v-160H180v160Zm440 0h160v-160H620v160ZM180-180h160v-160H180v160Zm440 0h160v-160H620v160Z\"/>\n",
              "  </svg>\n",
              "    </button>\n",
              "\n",
              "  <style>\n",
              "    .colab-df-container {\n",
              "      display:flex;\n",
              "      gap: 12px;\n",
              "    }\n",
              "\n",
              "    .colab-df-convert {\n",
              "      background-color: #E8F0FE;\n",
              "      border: none;\n",
              "      border-radius: 50%;\n",
              "      cursor: pointer;\n",
              "      display: none;\n",
              "      fill: #1967D2;\n",
              "      height: 32px;\n",
              "      padding: 0 0 0 0;\n",
              "      width: 32px;\n",
              "    }\n",
              "\n",
              "    .colab-df-convert:hover {\n",
              "      background-color: #E2EBFA;\n",
              "      box-shadow: 0px 1px 2px rgba(60, 64, 67, 0.3), 0px 1px 3px 1px rgba(60, 64, 67, 0.15);\n",
              "      fill: #174EA6;\n",
              "    }\n",
              "\n",
              "    .colab-df-buttons div {\n",
              "      margin-bottom: 4px;\n",
              "    }\n",
              "\n",
              "    [theme=dark] .colab-df-convert {\n",
              "      background-color: #3B4455;\n",
              "      fill: #D2E3FC;\n",
              "    }\n",
              "\n",
              "    [theme=dark] .colab-df-convert:hover {\n",
              "      background-color: #434B5C;\n",
              "      box-shadow: 0px 1px 3px 1px rgba(0, 0, 0, 0.15);\n",
              "      filter: drop-shadow(0px 1px 2px rgba(0, 0, 0, 0.3));\n",
              "      fill: #FFFFFF;\n",
              "    }\n",
              "  </style>\n",
              "\n",
              "    <script>\n",
              "      const buttonEl =\n",
              "        document.querySelector('#df-94ca9c78-02fb-4e64-8c1b-f83be654d4d5 button.colab-df-convert');\n",
              "      buttonEl.style.display =\n",
              "        google.colab.kernel.accessAllowed ? 'block' : 'none';\n",
              "\n",
              "      async function convertToInteractive(key) {\n",
              "        const element = document.querySelector('#df-94ca9c78-02fb-4e64-8c1b-f83be654d4d5');\n",
              "        const dataTable =\n",
              "          await google.colab.kernel.invokeFunction('convertToInteractive',\n",
              "                                                    [key], {});\n",
              "        if (!dataTable) return;\n",
              "\n",
              "        const docLinkHtml = 'Like what you see? Visit the ' +\n",
              "          '<a target=\"_blank\" href=https://colab.research.google.com/notebooks/data_table.ipynb>data table notebook</a>'\n",
              "          + ' to learn more about interactive tables.';\n",
              "        element.innerHTML = '';\n",
              "        dataTable['output_type'] = 'display_data';\n",
              "        await google.colab.output.renderOutput(dataTable, element);\n",
              "        const docLink = document.createElement('div');\n",
              "        docLink.innerHTML = docLinkHtml;\n",
              "        element.appendChild(docLink);\n",
              "      }\n",
              "    </script>\n",
              "  </div>\n",
              "\n",
              "\n",
              "<div id=\"df-cc9c96f1-05f4-4efd-b3a1-84bd985ec5d9\">\n",
              "  <button class=\"colab-df-quickchart\" onclick=\"quickchart('df-cc9c96f1-05f4-4efd-b3a1-84bd985ec5d9')\"\n",
              "            title=\"Suggest charts\"\n",
              "            style=\"display:none;\">\n",
              "\n",
              "<svg xmlns=\"http://www.w3.org/2000/svg\" height=\"24px\"viewBox=\"0 0 24 24\"\n",
              "     width=\"24px\">\n",
              "    <g>\n",
              "        <path d=\"M19 3H5c-1.1 0-2 .9-2 2v14c0 1.1.9 2 2 2h14c1.1 0 2-.9 2-2V5c0-1.1-.9-2-2-2zM9 17H7v-7h2v7zm4 0h-2V7h2v10zm4 0h-2v-4h2v4z\"/>\n",
              "    </g>\n",
              "</svg>\n",
              "  </button>\n",
              "\n",
              "<style>\n",
              "  .colab-df-quickchart {\n",
              "      --bg-color: #E8F0FE;\n",
              "      --fill-color: #1967D2;\n",
              "      --hover-bg-color: #E2EBFA;\n",
              "      --hover-fill-color: #174EA6;\n",
              "      --disabled-fill-color: #AAA;\n",
              "      --disabled-bg-color: #DDD;\n",
              "  }\n",
              "\n",
              "  [theme=dark] .colab-df-quickchart {\n",
              "      --bg-color: #3B4455;\n",
              "      --fill-color: #D2E3FC;\n",
              "      --hover-bg-color: #434B5C;\n",
              "      --hover-fill-color: #FFFFFF;\n",
              "      --disabled-bg-color: #3B4455;\n",
              "      --disabled-fill-color: #666;\n",
              "  }\n",
              "\n",
              "  .colab-df-quickchart {\n",
              "    background-color: var(--bg-color);\n",
              "    border: none;\n",
              "    border-radius: 50%;\n",
              "    cursor: pointer;\n",
              "    display: none;\n",
              "    fill: var(--fill-color);\n",
              "    height: 32px;\n",
              "    padding: 0;\n",
              "    width: 32px;\n",
              "  }\n",
              "\n",
              "  .colab-df-quickchart:hover {\n",
              "    background-color: var(--hover-bg-color);\n",
              "    box-shadow: 0 1px 2px rgba(60, 64, 67, 0.3), 0 1px 3px 1px rgba(60, 64, 67, 0.15);\n",
              "    fill: var(--button-hover-fill-color);\n",
              "  }\n",
              "\n",
              "  .colab-df-quickchart-complete:disabled,\n",
              "  .colab-df-quickchart-complete:disabled:hover {\n",
              "    background-color: var(--disabled-bg-color);\n",
              "    fill: var(--disabled-fill-color);\n",
              "    box-shadow: none;\n",
              "  }\n",
              "\n",
              "  .colab-df-spinner {\n",
              "    border: 2px solid var(--fill-color);\n",
              "    border-color: transparent;\n",
              "    border-bottom-color: var(--fill-color);\n",
              "    animation:\n",
              "      spin 1s steps(1) infinite;\n",
              "  }\n",
              "\n",
              "  @keyframes spin {\n",
              "    0% {\n",
              "      border-color: transparent;\n",
              "      border-bottom-color: var(--fill-color);\n",
              "      border-left-color: var(--fill-color);\n",
              "    }\n",
              "    20% {\n",
              "      border-color: transparent;\n",
              "      border-left-color: var(--fill-color);\n",
              "      border-top-color: var(--fill-color);\n",
              "    }\n",
              "    30% {\n",
              "      border-color: transparent;\n",
              "      border-left-color: var(--fill-color);\n",
              "      border-top-color: var(--fill-color);\n",
              "      border-right-color: var(--fill-color);\n",
              "    }\n",
              "    40% {\n",
              "      border-color: transparent;\n",
              "      border-right-color: var(--fill-color);\n",
              "      border-top-color: var(--fill-color);\n",
              "    }\n",
              "    60% {\n",
              "      border-color: transparent;\n",
              "      border-right-color: var(--fill-color);\n",
              "    }\n",
              "    80% {\n",
              "      border-color: transparent;\n",
              "      border-right-color: var(--fill-color);\n",
              "      border-bottom-color: var(--fill-color);\n",
              "    }\n",
              "    90% {\n",
              "      border-color: transparent;\n",
              "      border-bottom-color: var(--fill-color);\n",
              "    }\n",
              "  }\n",
              "</style>\n",
              "\n",
              "  <script>\n",
              "    async function quickchart(key) {\n",
              "      const quickchartButtonEl =\n",
              "        document.querySelector('#' + key + ' button');\n",
              "      quickchartButtonEl.disabled = true;  // To prevent multiple clicks.\n",
              "      quickchartButtonEl.classList.add('colab-df-spinner');\n",
              "      try {\n",
              "        const charts = await google.colab.kernel.invokeFunction(\n",
              "            'suggestCharts', [key], {});\n",
              "      } catch (error) {\n",
              "        console.error('Error during call to suggestCharts:', error);\n",
              "      }\n",
              "      quickchartButtonEl.classList.remove('colab-df-spinner');\n",
              "      quickchartButtonEl.classList.add('colab-df-quickchart-complete');\n",
              "    }\n",
              "    (() => {\n",
              "      let quickchartButtonEl =\n",
              "        document.querySelector('#df-cc9c96f1-05f4-4efd-b3a1-84bd985ec5d9 button');\n",
              "      quickchartButtonEl.style.display =\n",
              "        google.colab.kernel.accessAllowed ? 'block' : 'none';\n",
              "    })();\n",
              "  </script>\n",
              "</div>\n",
              "\n",
              "    </div>\n",
              "  </div>\n"
            ],
            "application/vnd.google.colaboratory.intrinsic+json": {
              "type": "dataframe",
              "variable_name": "df",
              "summary": "{\n  \"name\": \"df\",\n  \"rows\": 7,\n  \"fields\": [\n    {\n      \"column\": \"Order ID\",\n      \"properties\": {\n        \"dtype\": \"number\",\n        \"std\": 2,\n        \"min\": 101,\n        \"max\": 107,\n        \"num_unique_values\": 7,\n        \"samples\": [\n          101,\n          102,\n          106\n        ],\n        \"semantic_type\": \"\",\n        \"description\": \"\"\n      }\n    },\n    {\n      \"column\": \"Product\",\n      \"properties\": {\n        \"dtype\": \"string\",\n        \"num_unique_values\": 4,\n        \"samples\": [\n          \"Wired Mouse\",\n          \"27in FHD Monitor\",\n          \"USB-C Cable\"\n        ],\n        \"semantic_type\": \"\",\n        \"description\": \"\"\n      }\n    },\n    {\n      \"column\": \"Quantity Ordered\",\n      \"properties\": {\n        \"dtype\": \"number\",\n        \"std\": 0,\n        \"min\": 1,\n        \"max\": 3,\n        \"num_unique_values\": 3,\n        \"samples\": [\n          2,\n          3,\n          1\n        ],\n        \"semantic_type\": \"\",\n        \"description\": \"\"\n      }\n    },\n    {\n      \"column\": \"Price Each\",\n      \"properties\": {\n        \"dtype\": \"number\",\n        \"std\": 53.18186859841471,\n        \"min\": 3.84,\n        \"max\": 149.99,\n        \"num_unique_values\": 4,\n        \"samples\": [\n          14.95,\n          149.99,\n          11.95\n        ],\n        \"semantic_type\": \"\",\n        \"description\": \"\"\n      }\n    },\n    {\n      \"column\": \"Order Date\",\n      \"properties\": {\n        \"dtype\": \"object\",\n        \"num_unique_values\": 7,\n        \"samples\": [\n          \"2023-01-05 08:00\",\n          \"2023-01-12 14:30\",\n          \"2023-03-20 09:15\"\n        ],\n        \"semantic_type\": \"\",\n        \"description\": \"\"\n      }\n    },\n    {\n      \"column\": \"Purchase Address\",\n      \"properties\": {\n        \"dtype\": \"string\",\n        \"num_unique_values\": 7,\n        \"samples\": [\n          \"123 Main St, San Francisco, CA\",\n          \"456 Maple Ave, New York, NY\",\n          \"987 Cedar St, Boston, MA\"\n        ],\n        \"semantic_type\": \"\",\n        \"description\": \"\"\n      }\n    }\n  ]\n}"
            }
          },
          "metadata": {},
          "execution_count": 5
        }
      ]
    },
    {
      "cell_type": "code",
      "source": [
        "# Q2: Display the total number of missing values in the dataset\n",
        "print(df.isnull().sum())"
      ],
      "metadata": {
        "colab": {
          "base_uri": "https://localhost:8080/"
        },
        "id": "D0V-rAHOZjel",
        "outputId": "f928fe88-2865-468b-a0f6-c730d2cc5c6f"
      },
      "execution_count": 15,
      "outputs": [
        {
          "output_type": "stream",
          "name": "stdout",
          "text": [
            "Order ID            0\n",
            "Product             0\n",
            "Quantity Ordered    0\n",
            "Price Each          0\n",
            "Order Date          0\n",
            "Purchase Address    0\n",
            "Total Price         0\n",
            "Month               0\n",
            "City                0\n",
            "dtype: int64\n"
          ]
        }
      ]
    },
    {
      "cell_type": "code",
      "source": [
        "# Q3: Display the dataset's shape before and after removing missing values\n",
        "\n",
        "print(\"Shape before removing missing values:\", df.shape)"
      ],
      "metadata": {
        "colab": {
          "base_uri": "https://localhost:8080/"
        },
        "id": "uDl0w7ukcC8P",
        "outputId": "b9649102-178e-40ee-f28f-6764810a4dc8"
      },
      "execution_count": 16,
      "outputs": [
        {
          "output_type": "stream",
          "name": "stdout",
          "text": [
            "Shape before removing missing values: (7, 9)\n"
          ]
        }
      ]
    },
    {
      "cell_type": "code",
      "source": [
        "# Q4: Remove rows with missing values (NaN) and verify\n",
        "\n",
        "df = df.dropna()\n",
        "\n",
        "print(df.isnull().sum())"
      ],
      "metadata": {
        "colab": {
          "base_uri": "https://localhost:8080/"
        },
        "id": "g9yq9l5lcLSW",
        "outputId": "0e773e0e-434e-4eaa-81a2-8f3b82c9b0d2"
      },
      "execution_count": 17,
      "outputs": [
        {
          "output_type": "stream",
          "name": "stdout",
          "text": [
            "Order ID            0\n",
            "Product             0\n",
            "Quantity Ordered    0\n",
            "Price Each          0\n",
            "Order Date          0\n",
            "Purchase Address    0\n",
            "Total Price         0\n",
            "Month               0\n",
            "City                0\n",
            "dtype: int64\n"
          ]
        }
      ]
    },
    {
      "cell_type": "code",
      "source": [
        "# Q5: Add a Total Price column\n",
        "df['Total Price'] = df['Quantity Ordered'] * df['Price Each']\n",
        "print(df.head())"
      ],
      "metadata": {
        "colab": {
          "base_uri": "https://localhost:8080/"
        },
        "id": "hezZRuArZsYt",
        "outputId": "99b3f230-3619-463a-bc1c-23019febfe15"
      },
      "execution_count": 9,
      "outputs": [
        {
          "output_type": "stream",
          "name": "stdout",
          "text": [
            "   Order ID                Product  Quantity Ordered  Price Each  \\\n",
            "0       101            USB-C Cable                 2       11.95   \n",
            "1       102            USB-C Cable                 3       11.95   \n",
            "2       103            Wired Mouse                 1       14.95   \n",
            "3       104  AA Batteries (4-pack)                 2        3.84   \n",
            "4       105            USB-C Cable                 1       11.95   \n",
            "\n",
            "         Order Date                Purchase Address  Total Price  \n",
            "0  2023-01-05 08:00  123 Main St, San Francisco, CA        23.90  \n",
            "1  2023-01-12 14:30     456 Maple Ave, New York, NY        35.85  \n",
            "2  2023-02-01 10:45     789 Oak St, Los Angeles, CA        14.95  \n",
            "3  2023-02-08 16:20         321 Elm St, Chicago, IL         7.68  \n",
            "4  2023-03-15 12:00  654 Pine Rd, San Francisco, CA        11.95  \n"
          ]
        }
      ]
    },
    {
      "cell_type": "code",
      "source": [
        "# Q6: Find the most purchased product\n",
        "most_purchased = df.groupby('Product')['Quantity Ordered'].sum().idxmax()\n",
        "print(\"Most Purchased Product:\", most_purchased)"
      ],
      "metadata": {
        "colab": {
          "base_uri": "https://localhost:8080/"
        },
        "id": "by-d_0nQZzvg",
        "outputId": "57ea7134-fa0d-4ff0-f4bd-c69237989131"
      },
      "execution_count": 10,
      "outputs": [
        {
          "output_type": "stream",
          "name": "stdout",
          "text": [
            "Most Purchased Product: USB-C Cable\n"
          ]
        }
      ]
    },
    {
      "cell_type": "code",
      "source": [
        "# Q7: Add a Month column\n",
        "df['Order Date'] = pd.to_datetime(df['Order Date'])\n",
        "\n",
        "df['Month'] = df['Order Date'].dt.month\n",
        "\n",
        "print(df.head())\n"
      ],
      "metadata": {
        "colab": {
          "base_uri": "https://localhost:8080/"
        },
        "id": "UjnsPJTDa4Ec",
        "outputId": "30e8683e-1786-4896-d95b-b275162b9855"
      },
      "execution_count": 11,
      "outputs": [
        {
          "output_type": "stream",
          "name": "stdout",
          "text": [
            "   Order ID                Product  Quantity Ordered  Price Each  \\\n",
            "0       101            USB-C Cable                 2       11.95   \n",
            "1       102            USB-C Cable                 3       11.95   \n",
            "2       103            Wired Mouse                 1       14.95   \n",
            "3       104  AA Batteries (4-pack)                 2        3.84   \n",
            "4       105            USB-C Cable                 1       11.95   \n",
            "\n",
            "           Order Date                Purchase Address  Total Price  Month  \n",
            "0 2023-01-05 08:00:00  123 Main St, San Francisco, CA        23.90      1  \n",
            "1 2023-01-12 14:30:00     456 Maple Ave, New York, NY        35.85      1  \n",
            "2 2023-02-01 10:45:00     789 Oak St, Los Angeles, CA        14.95      2  \n",
            "3 2023-02-08 16:20:00         321 Elm St, Chicago, IL         7.68      2  \n",
            "4 2023-03-15 12:00:00  654 Pine Rd, San Francisco, CA        11.95      3  \n"
          ]
        }
      ]
    },
    {
      "cell_type": "code",
      "source": [
        "# Q8: Determine the month with the highest sales\n",
        "highest_sales_month = df.groupby('Month')['Total Price'].sum().idxmax()\n",
        "\n",
        "print(\"Month with Highest Sales:\", highest_sales_month)"
      ],
      "metadata": {
        "colab": {
          "base_uri": "https://localhost:8080/"
        },
        "id": "IfuzAZabbEHW",
        "outputId": "535a5c82-826d-4d97-ca07-6dd5e16287e1"
      },
      "execution_count": 12,
      "outputs": [
        {
          "output_type": "stream",
          "name": "stdout",
          "text": [
            "Month with Highest Sales: 3\n"
          ]
        }
      ]
    },
    {
      "cell_type": "code",
      "source": [
        "# Q9: Add a City column\n",
        "df['City'] = df['Purchase Address'].apply(lambda x: x.split(',')[1].strip())\n",
        "\n",
        "print(df.head())"
      ],
      "metadata": {
        "colab": {
          "base_uri": "https://localhost:8080/"
        },
        "id": "19UgxygKbNGe",
        "outputId": "2f91c518-9ca9-4f74-8f13-9f331abadf5c"
      },
      "execution_count": 13,
      "outputs": [
        {
          "output_type": "stream",
          "name": "stdout",
          "text": [
            "   Order ID                Product  Quantity Ordered  Price Each  \\\n",
            "0       101            USB-C Cable                 2       11.95   \n",
            "1       102            USB-C Cable                 3       11.95   \n",
            "2       103            Wired Mouse                 1       14.95   \n",
            "3       104  AA Batteries (4-pack)                 2        3.84   \n",
            "4       105            USB-C Cable                 1       11.95   \n",
            "\n",
            "           Order Date                Purchase Address  Total Price  Month  \\\n",
            "0 2023-01-05 08:00:00  123 Main St, San Francisco, CA        23.90      1   \n",
            "1 2023-01-12 14:30:00     456 Maple Ave, New York, NY        35.85      1   \n",
            "2 2023-02-01 10:45:00     789 Oak St, Los Angeles, CA        14.95      2   \n",
            "3 2023-02-08 16:20:00         321 Elm St, Chicago, IL         7.68      2   \n",
            "4 2023-03-15 12:00:00  654 Pine Rd, San Francisco, CA        11.95      3   \n",
            "\n",
            "            City  \n",
            "0  San Francisco  \n",
            "1       New York  \n",
            "2    Los Angeles  \n",
            "3        Chicago  \n",
            "4  San Francisco  \n"
          ]
        }
      ]
    },
    {
      "cell_type": "code",
      "source": [
        "# Q10: Find the most common city for orders\n",
        "most_common_city = df['City'].mode()[0]\n",
        "\n",
        "print(\"Most Common City for Orders:\", most_common_city)"
      ],
      "metadata": {
        "colab": {
          "base_uri": "https://localhost:8080/"
        },
        "id": "PgB31walbTw_",
        "outputId": "ee92a5fc-a697-44ca-fd9b-1662bebd5621"
      },
      "execution_count": 14,
      "outputs": [
        {
          "output_type": "stream",
          "name": "stdout",
          "text": [
            "Most Common City for Orders: New York\n"
          ]
        }
      ]
    }
  ]
}
