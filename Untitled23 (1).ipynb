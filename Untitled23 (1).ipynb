{
 "cells": [
  {
   "cell_type": "code",
   "execution_count": 1,
   "id": "08a27391-418f-44be-b812-f4750167ab88",
   "metadata": {},
   "outputs": [
    {
     "data": {
      "text/plain": [
       "'apr'"
      ]
     },
     "execution_count": 1,
     "metadata": {},
     "output_type": "execute_result"
    }
   ],
   "source": [
    "m=\"jaipur\"\n",
    "m[1:6:2]\n"
   ]
  },
  {
   "cell_type": "code",
   "execution_count": 13,
   "id": "6506cec8-ed4f-4f7f-8ab8-dec02d06ec56",
   "metadata": {},
   "outputs": [
    {
     "data": {
      "text/plain": [
       "'sh'"
      ]
     },
     "execution_count": 13,
     "metadata": {},
     "output_type": "execute_result"
    }
   ],
   "source": [
    "m=\"hey tushar\"\n",
    "m[-4:-2]"
   ]
  },
  {
   "cell_type": "code",
   "execution_count": 23,
   "id": "7d9807a8-904b-44dd-827f-9afb25cb494c",
   "metadata": {},
   "outputs": [
    {
     "name": "stdout",
     "output_type": "stream",
     "text": [
      "0 10\n",
      "1 20\n",
      "2 4\n",
      "5 68\n"
     ]
    }
   ],
   "source": [
    "mylist=[10,20,4,5,21,68]\n",
    "for index in range(0,6):\n",
    "    if mylist[index] % 2 == 0:\n",
    "        print(index,mylist[index])\n",
    "        \n"
   ]
  },
  {
   "cell_type": "code",
   "execution_count": 25,
   "id": "3ee2e7e9-992d-4f60-aced-26dad8a6a692",
   "metadata": {},
   "outputs": [
    {
     "name": "stdout",
     "output_type": "stream",
     "text": [
      "10 100\n",
      "4 16\n",
      "21 441\n",
      "68 4624\n"
     ]
    }
   ],
   "source": [
    "mylist = [10, 'hello', 4, 5.5, 21, 68, 'world']\n",
    "\n",
    "for element in mylist:\n",
    "    if type(element) is type(1): \n",
    "        print(element, element * element)\n"
   ]
  },
  {
   "cell_type": "code",
   "execution_count": 29,
   "id": "351787db-145b-47be-ab7c-fc1abe201d6d",
   "metadata": {},
   "outputs": [
    {
     "name": "stdout",
     "output_type": "stream",
     "text": [
      "True\n"
     ]
    }
   ],
   "source": [
    "x = 11\n",
    "mylist = [10, 20, 11, 30, 40]\n",
    "print(x in mylist)\n"
   ]
  },
  {
   "cell_type": "code",
   "execution_count": 31,
   "id": "a0d39f7e-4c2c-4347-b0da-9e498cfca8a2",
   "metadata": {},
   "outputs": [
    {
     "name": "stdout",
     "output_type": "stream",
     "text": [
      "True\n"
     ]
    }
   ],
   "source": [
    "x = 11\n",
    "mylist = [10, 11, 20, 11, 30, 40]\n",
    "\n",
    "if x in mylist and mylist.count(x) == 2:\n",
    "    print(True)\n",
    "else:\n",
    "    print(False)\n"
   ]
  },
  {
   "cell_type": "code",
   "execution_count": 33,
   "id": "45c2876c-781c-4b41-9890-8ccec7758c52",
   "metadata": {},
   "outputs": [
    {
     "name": "stdout",
     "output_type": "stream",
     "text": [
      "True\n"
     ]
    }
   ],
   "source": [
    "x = 11\n",
    "mylist = [10, 11, 20, 11, 30, 40]\n",
    "if x in mylist and mylist.count(x) == 2:\n",
    "    print(True)\n",
    "else:\n",
    "    print(False)\n"
   ]
  },
  {
   "cell_type": "code",
   "execution_count": 35,
   "id": "2728d91d-15d3-4b15-aff2-a69870e3075d",
   "metadata": {},
   "outputs": [
    {
     "name": "stdout",
     "output_type": "stream",
     "text": [
      "1\n",
      "1\n",
      "2\n",
      "2\n",
      "3\n",
      "3\n",
      "10\n",
      "10\n"
     ]
    }
   ],
   "source": [
    "elements = [1, 2, 3, 4, 2, 5, 3, 6, 1, 7, 10, 10]\n",
    "\n",
    "duplicates = []\n",
    "for element in elements:\n",
    "    if elements.count(element) > 1 and element not in duplicates:\n",
    "        duplicates.append(element)\n",
    "\n",
    "for duplicate in duplicates:\n",
    "    count = elements.count(duplicate)\n",
    "    for _ in range(count):\n",
    "        print(duplicate)\n"
   ]
  },
  {
   "cell_type": "code",
   "execution_count": 21,
   "id": "6bfce62e-fd04-4b7f-a8a9-6ec9253fa288",
   "metadata": {},
   "outputs": [
    {
     "name": "stdout",
     "output_type": "stream",
     "text": [
      "The second maximum number is: 19\n"
     ]
    }
   ],
   "source": [
    "# program\n",
    "# to find the second maximum of the list\n",
    "numbers = [10,20,4,19,8]\n",
    "\n",
    "max = 0\n",
    "sec = 0\n",
    "\n",
    "for i in numbers:\n",
    "    if i > max:\n",
    "        sec = max\n",
    "        max = i\n",
    "    elif i > sec:\n",
    "        sec = i\n",
    "        \n",
    "print(\"The second maximum number is:\", sec)"
   ]
  },
  {
   "cell_type": "code",
   "execution_count": 29,
   "id": "d2d9b266-63f9-42db-b495-08770f35e06a",
   "metadata": {},
   "outputs": [
    {
     "name": "stdout",
     "output_type": "stream",
     "text": [
      "5\n",
      "3\n"
     ]
    }
   ],
   "source": [
    "# creating the array\n",
    "mylist = [4, 5, 5, 5, 3,3,3, 8]\n",
    "size = len(mylist)\n",
    "for i in range(size - 2):\n",
    "\tif mylist[i] == mylist[i + 1] and mylist[i + 1] == mylist[i + 2]:\n",
    "\t\tprint(mylist[i])\n"
   ]
  },
  {
   "cell_type": "code",
   "execution_count": 31,
   "id": "0ccac93a-bf57-4359-b142-9df8820e7638",
   "metadata": {},
   "outputs": [
    {
     "name": "stdout",
     "output_type": "stream",
     "text": [
      "[{(1, 2, 3)}]\n"
     ]
    }
   ],
   "source": [
    "data = \"[{(1, 2, 3)}]\"\n",
    "print(data)"
   ]
  },
  {
   "cell_type": "code",
   "execution_count": 33,
   "id": "08284e15-a0ef-4864-80ab-78828c8c64bf",
   "metadata": {},
   "outputs": [
    {
     "name": "stdout",
     "output_type": "stream",
     "text": [
      "[{(1, -2, 'hello', 3.5, -4.5)}]\n"
     ]
    }
   ],
   "source": [
    "data = \"[{(1, -2, 'hello', 3.5, -4.5)}]\"\n",
    "print(data)"
   ]
  },
  {
   "cell_type": "code",
   "execution_count": 1,
   "id": "93da93d0-33f8-42ef-9ca9-d01ece7c3b43",
   "metadata": {},
   "outputs": [
    {
     "name": "stdout",
     "output_type": "stream",
     "text": [
      "[[1], [1, 1], [1, 2, 1], [1, 3, 3, 1], [1, 4, 6, 4, 1]]\n"
     ]
    }
   ],
   "source": [
    "rows = 5\n",
    "triangle = []\n",
    "\n",
    "for i in range(rows):\n",
    "    row = [1] * (i + 1)\n",
    "    for j in range(1, i):\n",
    "        row[j] = triangle[i - 1][j - 1] + triangle[i - 1][j]\n",
    "    triangle.append(row)\n",
    "\n",
    "print(triangle)\n"
   ]
  },
  {
   "cell_type": "code",
   "execution_count": 9,
   "id": "7b902ee2-fcbc-4ff6-b2fa-c3f2a3cabf05",
   "metadata": {},
   "outputs": [
    {
     "name": "stdout",
     "output_type": "stream",
     "text": [
      "[[1], [1, 1], [1, 2, 1], [1, 3, 3, 1], [1, 4, 6, 4, 1]]\n"
     ]
    }
   ],
   "source": [
    "mylist=[[1]]\n",
    "n=5\n",
    "for i in range(0,n-1):\n",
    "    temp=[0]+mylist[-1]+[0]\n",
    "    list1=[]\n",
    "\n",
    "    for j in range(len(mylist)+1):\n",
    "        list1.append(temp[j]+temp[j+1])\n",
    "    mylist.append(list1)\n",
    "print(mylist)"
   ]
  },
  {
   "cell_type": "code",
   "execution_count": 13,
   "id": "cf9dd57c-7a0a-49c0-b2d8-33db8bccf2b3",
   "metadata": {},
   "outputs": [
    {
     "name": "stdout",
     "output_type": "stream",
     "text": [
      "[[1], [1, 1], [1, 2, 1], [1, 3, 3, 1], [1, 4, 6, 4, 1]]\n"
     ]
    }
   ],
   "source": [
    "n = 5  \n",
    "mylist = []\n",
    "\n",
    "for i in range(n):\n",
    "    row = [] \n",
    "    for j in range(i + 1):  \n",
    "        if j == 0 or j == i:\n",
    "            row.append(1)  \n",
    "        else:\n",
    "            row.append(mylist[i - 1][j - 1] + mylist[i - 1][j])  \n",
    "    mylist.append(row)  \n",
    "print(mylist)"
   ]
  },
  {
   "cell_type": "code",
   "execution_count": 19,
   "id": "e28d2a55-e8ab-4f5e-94da-1c7e96dc35d8",
   "metadata": {},
   "outputs": [
    {
     "name": "stdout",
     "output_type": "stream",
     "text": [
      "    1 \n",
      "   1 1 \n",
      "  1 2 1 \n",
      " 1 3 3 1 \n",
      "1 4 6 4 1 \n"
     ]
    }
   ],
   "source": [
    "n = 5 \n",
    "for i in range(n):\n",
    "    print(\" \" * (n - i - 1), end=\"\")\n",
    "    value = 1  \n",
    "    for j in range(i + 1):\n",
    "        print(value, end=\" \")  \n",
    "        value = value * (i - j) // (j + 1)  \n",
    "    print()  \n"
   ]
  },
  {
   "cell_type": "code",
   "execution_count": null,
   "id": "a8046f2f-8b23-45ba-be9e-15e53b2156f8",
   "metadata": {},
   "outputs": [],
   "source": []
  }
 ],
 "metadata": {
  "kernelspec": {
   "display_name": "Python 3 (ipykernel)",
   "language": "python",
   "name": "python3"
  },
  "language_info": {
   "codemirror_mode": {
    "name": "ipython",
    "version": 3
   },
   "file_extension": ".py",
   "mimetype": "text/x-python",
   "name": "python",
   "nbconvert_exporter": "python",
   "pygments_lexer": "ipython3",
   "version": "3.12.4"
  }
 },
 "nbformat": 4,
 "nbformat_minor": 5
}
