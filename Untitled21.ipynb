{
 "cells": [
  {
   "cell_type": "code",
   "execution_count": 10,
   "id": "fbf59d13-960e-476a-bbb7-7aead04f819f",
   "metadata": {},
   "outputs": [
    {
     "name": "stdout",
     "output_type": "stream",
     "text": [
      "24\n"
     ]
    }
   ],
   "source": [
    "n=3241\n",
    "product=1\n",
    "while(n>0):\n",
    "    rem=n%10\n",
    "    product=product*rem\n",
    "    n=n//10\n",
    "print(product)"
   ]
  },
  {
   "cell_type": "code",
   "execution_count": 12,
   "id": "9c1d1938-915f-4cb1-9609-88a3f5305e17",
   "metadata": {},
   "outputs": [
    {
     "name": "stdout",
     "output_type": "stream",
     "text": [
      "Factorial: 120\n"
     ]
    }
   ],
   "source": [
    "number = 5\n",
    "factorial = 1\n",
    "while number > 0:\n",
    "    factorial *= number\n",
    "    number -= 1\n",
    "print(\"Factorial:\", factorial)"
   ]
  },
  {
   "cell_type": "code",
   "execution_count": 24,
   "id": "756f6955-450c-46fa-be8d-4d96ee162f14",
   "metadata": {},
   "outputs": [
    {
     "name": "stdout",
     "output_type": "stream",
     "text": [
      "1\n",
      "2\n",
      "3\n",
      "5\n",
      "6\n",
      "10\n",
      "15\n",
      "30\n"
     ]
    }
   ],
   "source": [
    "n=30\n",
    "sum=0\n",
    "factor=1\n",
    "while factor<=n:\n",
    "    if n % factor == 0:\n",
    "        print(factor)\n",
    "    sum=sum+factor\n",
    "    factor+=1\n"
   ]
  },
  {
   "cell_type": "code",
   "execution_count": null,
   "id": "eb76f0b5-32e3-4bf0-8ea5-4718c7916ad3",
   "metadata": {},
   "outputs": [],
   "source": [
    "num=145 \n",
    "total = num\n",
    "sum = 0\n",
    "\n",
    "while num != 0:\n",
    "    digit = num % 10\n",
    "    factorial = 1\n",
    "    i = 1\n",
    "    while i <= digit:\n",
    "        factorial *= i\n",
    "        i += 1\n",
    "    sum += factorial\n",
    "    num //= 10\n",
    "\n",
    "if sum == total:\n",
    "    print(total, \"is a strong number.\")\n",
    "else:\n",
    "    print(total, \"is not a strong number.\")\n"
   ]
  },
  {
   "cell_type": "code",
   "execution_count": 12,
   "id": "07c08646-81bd-41e8-847b-0be841858be9",
   "metadata": {},
   "outputs": [
    {
     "name": "stdin",
     "output_type": "stream",
     "text": [
      "Enter a number:  45\n"
     ]
    },
    {
     "name": "stdout",
     "output_type": "stream",
     "text": [
      "45 is not a palindrome number.\n"
     ]
    }
   ],
   "source": [
    "num = int(input(\"Enter a number: \"))\n",
    "original = num\n",
    "sum = 0\n",
    "\n",
    "while num > 0:\n",
    "    remainder = num % 10\n",
    "    sum = sum * 10 + remainder\n",
    "    num //= 10\n",
    "\n",
    "if sum == original:\n",
    "    print(original, \"is a palindrome number.\")\n",
    "else:\n",
    "    print(original, \"is not a palindrome number.\")\n",
    "\n",
    "\n"
   ]
  },
  {
   "cell_type": "code",
   "execution_count": 26,
   "id": "09c04eca-b824-4ad1-b369-0a43dee8151c",
   "metadata": {},
   "outputs": [
    {
     "name": "stdout",
     "output_type": "stream",
     "text": [
      "hey\n",
      "hello 10\n",
      "hello 11\n",
      "hey\n",
      "hello 10\n",
      "hello 11\n",
      "hey\n",
      "hello 10\n",
      "hello 11\n"
     ]
    }
   ],
   "source": [
    "# nested loop\n",
    "\n",
    "for i in range(1,4):\n",
    "    print(\"hey\")\n",
    "    for j in range (10,12):\n",
    "        print(\"hello\",j)"
   ]
  },
  {
   "cell_type": "code",
   "execution_count": 57,
   "id": "40252a28-ecba-496f-9725-b9c91cff1b0f",
   "metadata": {},
   "outputs": [
    {
     "name": "stdout",
     "output_type": "stream",
     "text": [
      "Factor 2\n",
      "Factor 2\n",
      "\n",
      "Factor 3\n",
      "Factor 3\n",
      "\n",
      "Factor 4\n",
      "Factor 4\n",
      "Factor 4\n",
      "\n"
     ]
    }
   ],
   "source": [
    "for i in range(2, 5):\n",
    "    for j in range(1, i+1):\n",
    "        if(i%j==0):\n",
    "            print(\"Factor\",i)\n",
    "    print()\n"
   ]
  },
  {
   "cell_type": "code",
   "execution_count": 82,
   "id": "9c1778cd-f06c-42d5-b2f0-aa05ef8e0289",
   "metadata": {},
   "outputs": [
    {
     "name": "stdout",
     "output_type": "stream",
     "text": [
      "2\n",
      "---\n",
      "2\n",
      "---\n",
      "3\n",
      "---\n",
      "3\n",
      "---\n",
      "3\n",
      "---\n",
      "4\n",
      "---\n",
      "4\n",
      "---\n",
      "4\n",
      "---\n",
      "4\n",
      "---\n",
      "5\n",
      "---\n",
      "5\n",
      "---\n",
      "5\n",
      "---\n",
      "5\n",
      "---\n",
      "5\n",
      "---\n",
      "6\n",
      "---\n",
      "6\n",
      "---\n",
      "6\n",
      "---\n",
      "6\n",
      "---\n",
      "6\n",
      "---\n",
      "6\n",
      "---\n",
      "7\n",
      "---\n",
      "7\n",
      "---\n",
      "7\n",
      "---\n",
      "7\n",
      "---\n",
      "7\n",
      "---\n",
      "7\n",
      "---\n",
      "7\n",
      "---\n",
      "8\n",
      "---\n",
      "8\n",
      "---\n",
      "8\n",
      "---\n",
      "8\n",
      "---\n",
      "8\n",
      "---\n",
      "8\n",
      "---\n",
      "8\n",
      "---\n",
      "8\n",
      "---\n",
      "9\n",
      "---\n",
      "9\n",
      "---\n",
      "9\n",
      "---\n",
      "9\n",
      "---\n",
      "9\n",
      "---\n",
      "9\n",
      "---\n",
      "9\n",
      "---\n",
      "9\n",
      "---\n",
      "9\n",
      "---\n"
     ]
    }
   ],
   "source": [
    "for i in range (2,10):\n",
    "    for j in range(1,i+1):\n",
    "        if (n % factor == 0):\n",
    "            print(i)\n",
    "        print(\"---\")\n",
    "       "
   ]
  },
  {
   "cell_type": "code",
   "execution_count": 89,
   "id": "90cbb87f-da34-43c4-b67c-f3df0536cf65",
   "metadata": {},
   "outputs": [
    {
     "name": "stdout",
     "output_type": "stream",
     "text": [
      "* * * * \n",
      "*     * \n",
      "*     * \n",
      "* * * * \n"
     ]
    }
   ],
   "source": [
    "for i in range(1,5):\n",
    "    for j in range(1,5):\n",
    "        if(i==1 or i==4 or j==1 or j==4):\n",
    "            print(\"*\",end=\" \")\n",
    "        else:\n",
    "            print(\" \",end=\" \")\n",
    "    print()\n",
    "        "
   ]
  },
  {
   "cell_type": "code",
   "execution_count": 3,
   "id": "7bb5c767-3803-4005-9225-11cdd83814ba",
   "metadata": {},
   "outputs": [
    {
     "name": "stdout",
     "output_type": "stream",
     "text": [
      "* * * * \n",
      "* * * \n",
      "* * \n",
      "* \n"
     ]
    }
   ],
   "source": [
    "for row in range (1,5):\n",
    "    for column in range(5,row,-1):\n",
    "        print(\"*\", end= \" \")\n",
    "    print()"
   ]
  },
  {
   "cell_type": "code",
   "execution_count": 7,
   "id": "1491a21b-a459-4373-b498-3710d315bc5d",
   "metadata": {},
   "outputs": [
    {
     "name": "stdout",
     "output_type": "stream",
     "text": [
      "* \n",
      "* * \n",
      "* * * \n",
      "* * * * \n"
     ]
    }
   ],
   "source": [
    "for row in range (1,5):\n",
    "    for column in range(1, row+1):\n",
    "        print(\"*\", end= \" \")\n",
    "    print()"
   ]
  },
  {
   "cell_type": "code",
   "execution_count": 11,
   "id": "6717aeb8-6831-4c84-a2af-74179792b158",
   "metadata": {},
   "outputs": [
    {
     "name": "stdout",
     "output_type": "stream",
     "text": [
      "4444\n",
      "333\n",
      "22\n",
      "1\n"
     ]
    }
   ],
   "source": [
    "for i in range(4, 0, -1):\n",
    "    for j in range(i):\n",
    "        print(i, end=\"\")\n",
    "    print()\n"
   ]
  },
  {
   "cell_type": "code",
   "execution_count": 19,
   "id": "7d322950-c0c5-4025-8fa5-e1619a244cca",
   "metadata": {},
   "outputs": [
    {
     "name": "stdout",
     "output_type": "stream",
     "text": [
      "1234\n",
      "123\n",
      "12\n",
      "1\n"
     ]
    }
   ],
   "source": [
    "for i in range(4, 0, -1):\n",
    "    for j in range(1, i + 1):\n",
    "        print(j, end=\"\")\n",
    "    print()\n"
   ]
  },
  {
   "cell_type": "code",
   "execution_count": 28,
   "id": "e3904ea5-7561-4811-b030-4d991ff5404b",
   "metadata": {},
   "outputs": [
    {
     "name": "stdout",
     "output_type": "stream",
     "text": [
      "7 8 9 10 \n",
      "7 8 9 \n",
      "7 8 \n",
      "7 \n"
     ]
    }
   ],
   "source": [
    "for i in range(4, 0, -1):\n",
    "    for j in range(7, 8 + i -1):\n",
    "        print(j, end=\" \")\n",
    "    print()  \n"
   ]
  },
  {
   "cell_type": "code",
   "execution_count": 42,
   "id": "3fa475fd-b401-47dd-a25c-bef9fd87673e",
   "metadata": {},
   "outputs": [
    {
     "name": "stdout",
     "output_type": "stream",
     "text": [
      "A B C D \n",
      "A B C \n",
      "A B \n",
      "A \n"
     ]
    }
   ],
   "source": [
    "for i in range (4,0,-1):\n",
    "    for j in range(0,i):\n",
    "        print(chr(j+65), end=\" \")\n",
    "    print()"
   ]
  },
  {
   "cell_type": "code",
   "execution_count": null,
   "id": "8a8055de-12ce-4b2e-9684-24ae9550afee",
   "metadata": {},
   "outputs": [],
   "source": []
  },
  {
   "cell_type": "code",
   "execution_count": 52,
   "id": "b1c060d1-f13f-4861-82c4-ecd48c0014e8",
   "metadata": {},
   "outputs": [
    {
     "name": "stdout",
     "output_type": "stream",
     "text": [
      "20 21 22 23 \n",
      "20 21 22 \n",
      "20 21 \n",
      "20 \n"
     ]
    }
   ],
   "source": [
    "for i in range(4, 0, -1):\n",
    "    for j in range(20, 21 + i -1):\n",
    "        print(j, end=\" \")\n",
    "    print()  "
   ]
  },
  {
   "cell_type": "code",
   "execution_count": 58,
   "id": "f13f5f4e-b279-457e-bf04-36eb316810d8",
   "metadata": {},
   "outputs": [
    {
     "name": "stdout",
     "output_type": "stream",
     "text": [
      "20 21 22 23 \n",
      "24 25 26 \n",
      "27 28 \n",
      "29 \n"
     ]
    }
   ],
   "source": [
    "num = 20\n",
    "for i in range(4, 0, -1):\n",
    "    for j in range(num, num + i):\n",
    "        print(j, end=\" \")\n",
    "    num += i \n",
    "    print()  \n"
   ]
  },
  {
   "cell_type": "code",
   "execution_count": null,
   "id": "c31995d7-6c7e-4858-8d46-c365cd721098",
   "metadata": {},
   "outputs": [],
   "source": []
  }
 ],
 "metadata": {
  "kernelspec": {
   "display_name": "Python 3 (ipykernel)",
   "language": "python",
   "name": "python3"
  },
  "language_info": {
   "codemirror_mode": {
    "name": "ipython",
    "version": 3
   },
   "file_extension": ".py",
   "mimetype": "text/x-python",
   "name": "python",
   "nbconvert_exporter": "python",
   "pygments_lexer": "ipython3",
   "version": "3.12.4"
  }
 },
 "nbformat": 4,
 "nbformat_minor": 5
}
