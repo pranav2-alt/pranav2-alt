{
  "nbformat": 4,
  "nbformat_minor": 0,
  "metadata": {
    "colab": {
      "provenance": []
    },
    "kernelspec": {
      "name": "python3",
      "display_name": "Python 3"
    },
    "language_info": {
      "name": "python"
    }
  },
  "cells": [
    {
      "cell_type": "code",
      "source": [
        "import pickle"
      ],
      "metadata": {
        "id": "zj-0-MgQBUyI"
      },
      "execution_count": null,
      "outputs": []
    },
    {
      "cell_type": "code",
      "execution_count": null,
      "metadata": {
        "id": "8159XKYp_nAJ"
      },
      "outputs": [],
      "source": [
        "class Model:\n",
        "\n",
        "    def init(self):\n",
        "        pass\n",
        "\n",
        "    def data_read(self, path):\n",
        "        import pandas as pd\n",
        "        import numpy as np\n",
        "        self.df = pd.read_csv(path)\n",
        "        return self.df.head(3)\n",
        "    def preprocessing(self):\n",
        "      print('Starting Data preprocessing')\n",
        "\n",
        "      num_cols = self.df.select_dtypes(include=['int64', 'float64']).columns\n",
        "      cat_cols = self.df.select_dtypes(include=['object']).columns\n",
        "      from sklearn.preprocessing import LabelEncoder\n",
        "      for col in cat_cols:\n",
        "            le = LabelEncoder()\n",
        "            self.df[col] = le.fit_transform(self.df[col])\n",
        "\n",
        "      # using simple imputer\n",
        "      from sklearn.impute import SimpleImputer\n",
        "      si = SimpleImputer()\n",
        "      self.df[num_cols]=si.fit_transform(self.df[num_cols])\n",
        "\n",
        "      # get target columns\n",
        "    def get_target_column(self):\n",
        "        while True:\n",
        "            target_col = input(\"Enter the target column name from the above list: \").strip()\n",
        "            if target_col in self.df.columns:\n",
        "                self.target_column = target_col\n",
        "                print(f\"Target column set to: {self.target_column}\")\n",
        "                break\n",
        "            else:\n",
        "                print(\"Invalid column name! Please enter a valid column.\")\n",
        "    # train test split\n",
        "    def train_test_split(self, test_size=0.2, random_state=42):\n",
        "         \"\"\"Splits data into training and testing sets.\"\"\"\n",
        "         if self.target_column is None:\n",
        "            print(\"Target column not set. Please run get_target_column() first.\")\n",
        "            return\n",
        "\n",
        "         X = self.df.drop(columns=[self.target_column])\n",
        "         y = self.df[self.target_column]\n",
        "         from sklearn.model_selection import train_test_split\n",
        "         self.X_train, self.X_test, self.y_train, self.y_test = train_test_split(\n",
        "            X, y, test_size=0.2, random_state=random_state)\n",
        "         from sklearn.preprocessing import StandardScaler\n",
        "         self.sc = StandardScaler()\n",
        "         self.X_train = self.sc.fit_transform(self.X_train)\n",
        "         self.X_test = self.sc.transform(self.X_test)\n",
        "    def train_naive_bayes(self):\n",
        "        from sklearn.naive_bayes import GaussianNB , MultinomialNB , BernoulliNB\n",
        "        \"\"\"Trains a Gaussian Naïve Bayes classifier and evaluates it.\"\"\"\n",
        "        if self.X_train is None or self.y_train is None:\n",
        "            print(\"Data not yet split. Run train_test_split() first.\")\n",
        "            return\n",
        "\n",
        "        self.model = GaussianNB()\n",
        "        self.model.fit(self.X_train, self.y_train)\n",
        "        print(\"Naïve Bayes model trained.\")\n",
        "\n",
        "        # Make predictions\n",
        "        y_pred = self.model.predict(self.X_test)\n",
        "\n",
        "        from sklearn.metrics import accuracy_score\n",
        "        accuracy = accuracy_score(self.y_test, y_pred)\n",
        "        print(f\"Model Accuracy: {accuracy:.2f}\")\n",
        "\n",
        "        from sklearn.metrics import precision_score\n",
        "        precision = precision_score(self.y_test,y_pred)\n",
        "        print(f\"Model Precision :{precision:.2f}\")\n",
        "    import pickle\n",
        "    def save_model(self, filename=\"model.pkl\"):\n",
        "\n",
        "        if self.model:\n",
        "            with open(filename, 'wb') as file:\n",
        "                pickle.dump({'model': self.model, 'scaler': self.sc}, file)\n",
        "            print(f\"Model saved successfully as {filename}\")\n",
        "        else:\n",
        "            print(\"Model not trained yet! Train the model before saving.\")\n",
        "\n",
        "    def load_model(self, filename=\"model.pkl\"):\n",
        "        \"\"\"Loads a trained model from a pickle file.\"\"\"\n",
        "        try:\n",
        "            with open(filename, 'rb') as file:\n",
        "                data = pickle.load(file)\n",
        "                self.model = data['model']\n",
        "                self.sc = data['scaler']\n",
        "            print(f\"Model loaded successfully from {filename}\")\n",
        "        except FileNotFoundError:\n",
        "            print(\"No saved model found! Train and save a model first.\")"
      ]
    },
    {
      "cell_type": "code",
      "source": [
        "model = Model()\n",
        "model.data_read('/content/Social_Network_Ads.csv')\n",
        "model.preprocessing()\n",
        "model.get_target_column()\n",
        "model.train_test_split()\n",
        "model.train_naive_bayes()\n",
        "# Save the trained model\n",
        "model.save_model(\"naive_bayes_model.pkl\")\n",
        "\n",
        "# Load the saved model in a new session (optional)\n",
        "model.load_model(\"naive_bayes_model.pkl\")\n"
      ],
      "metadata": {
        "colab": {
          "base_uri": "https://localhost:8080/"
        },
        "id": "u0vTGMEq_vBy",
        "outputId": "5d11f4e9-663d-442b-90f3-92d8f979fef4"
      },
      "execution_count": null,
      "outputs": [
        {
          "output_type": "stream",
          "name": "stdout",
          "text": [
            "Starting Data preprocessing\n",
            "Enter the target column name from the above list: Purchased\n",
            "Target column set to: Purchased\n",
            "Naïve Bayes model trained.\n",
            "Model Accuracy: 0.91\n",
            "Model Precision :0.89\n",
            "Model saved successfully as naive_bayes_model.pkl\n",
            "Model loaded successfully from naive_bayes_model.pkl\n"
          ]
        }
      ]
    },
    {
      "cell_type": "code",
      "source": [
        "with open(\"/content/naive_bayes_model.pkl\", \"rb\") as file:\n",
        "    data = pickle.load(file)\n",
        "    model = data[\"model\"]\n",
        "    scaler = data[\"scaler\"]"
      ],
      "metadata": {
        "id": "unpTVpC8BoqZ"
      },
      "execution_count": null,
      "outputs": []
    }
  ]
}