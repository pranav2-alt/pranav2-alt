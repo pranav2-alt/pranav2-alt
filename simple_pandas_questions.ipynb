{
 "cells": [
  {
   "cell_type": "code",
   "execution_count": null,
   "id": "0d0eb359",
   "metadata": {},
   "outputs": [],
   "source": [
    "import pandas as pd\n",
    "\n",
    "# Question 1: Create a DataFrame\n",
    "data = {'Name': ['Alice', 'Bob', 'Charlie'], 'Age': [25, 30, 35], 'City': ['New York', 'Los Angeles', 'Chicago']}\n",
    "df = pd.DataFrame(data)\n",
    "df"
   ]
  },
  {
   "cell_type": "code",
   "execution_count": null,
   "id": "4fc1650a",
   "metadata": {},
   "outputs": [],
   "source": [
    "# Question 2: Add a new column\n",
    "df['Salary'] = [70000, 80000, 120000]\n",
    "df"
   ]
  },
  {
   "cell_type": "code",
   "execution_count": null,
   "id": "1438bba1",
   "metadata": {},
   "outputs": [],
   "source": [
    "# Question 3: Filter rows based on condition\n",
    "filtered_df = df[df['Age'] > 30]\n",
    "filtered_df"
   ]
  },
  {
   "cell_type": "code",
   "execution_count": null,
   "id": "3ef71d9e",
   "metadata": {},
   "outputs": [],
   "source": [
    "# Question 4: Calculate the mean of a column\n",
    "mean_age = df['Age'].mean()\n",
    "mean_age"
   ]
  },
  {
   "cell_type": "code",
   "execution_count": null,
   "id": "595d0840",
   "metadata": {},
   "outputs": [],
   "source": [
    "# Question 5: Sort the DataFrame by a column\n",
    "sorted_df = df.sort_values(by='Salary', ascending=False)\n",
    "sorted_df"
   ]
  },
  {
   "cell_type": "code",
   "execution_count": null,
   "id": "c98092bb",
   "metadata": {},
   "outputs": [],
   "source": [
    "# Question 6: Group by and calculate the sum of Salary by City\n",
    "grouped_df = df.groupby('City')['Salary'].sum()\n",
    "grouped_df"
   ]
  },
  {
   "cell_type": "code",
   "execution_count": null,
   "id": "8e790a56",
   "metadata": {},
   "outputs": [],
   "source": [
    "# Question 7: Drop a column\n",
    "df_dropped = df.drop(columns=['City'])\n",
    "df_dropped"
   ]
  },
  {
   "cell_type": "code",
   "execution_count": null,
   "id": "ffc486e4",
   "metadata": {},
   "outputs": [],
   "source": [
    "# Question 8: Rename a column\n",
    "df_renamed = df.rename(columns={'Salary': 'Annual Salary'})\n",
    "df_renamed"
   ]
  },
  {
   "cell_type": "code",
   "execution_count": null,
   "id": "a808e3a4",
   "metadata": {},
   "outputs": [],
   "source": [
    "# Question 9: Save DataFrame to CSV\n",
    "df.to_csv('simple_pandas.csv', index=False)"
   ]
  },
  {
   "cell_type": "code",
   "execution_count": null,
   "id": "f0b07c42",
   "metadata": {},
   "outputs": [],
   "source": [
    "# Question 10: Read the saved CSV file\n",
    "read_df = pd.read_csv('simple_pandas.csv')\n",
    "read_df"
   ]
  }
 ],
 "metadata": {},
 "nbformat": 4,
 "nbformat_minor": 5
}
