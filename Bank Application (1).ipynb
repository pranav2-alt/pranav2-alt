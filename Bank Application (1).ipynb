{
 "cells": [
  {
   "cell_type": "code",
   "execution_count": null,
   "id": "5ca792f0-af28-471a-b6aa-829696c68daf",
   "metadata": {},
   "outputs": [
    {
     "name": "stdin",
     "output_type": "stream",
     "text": [
      "\n",
      "        Press 1 for Login\n",
      "        Press 2 for Signup \n",
      "        Press 3 for Forget Password\n",
      "        Press 4 for Exit\n",
      "     1\n",
      "Enter Account no:  A101\n",
      "Enter Password:  pranav\n"
     ]
    },
    {
     "name": "stdout",
     "output_type": "stream",
     "text": [
      "Login Successfully\n"
     ]
    },
    {
     "name": "stdin",
     "output_type": "stream",
     "text": [
      "\n",
      "                        Press 1 for Credit\n",
      "                        Press 2 for Debit \n",
      "                        Press 3 for Check Balance\n",
      "                        Press 4 for Show Detail\n",
      "                        Press 5 for Change Password\n",
      "                        Press 6 for Log Out\n",
      "                     2\n",
      "Enter Amount to debit:  50\n"
     ]
    },
    {
     "name": "stdout",
     "output_type": "stream",
     "text": [
      "Successfully Debited 50\n"
     ]
    },
    {
     "name": "stdin",
     "output_type": "stream",
     "text": [
      "\n",
      "                        Press 1 for Credit\n",
      "                        Press 2 for Debit \n",
      "                        Press 3 for Check Balance\n",
      "                        Press 4 for Show Detail\n",
      "                        Press 5 for Change Password\n",
      "                        Press 6 for Log Out\n",
      "                     3\n"
     ]
    },
    {
     "name": "stdout",
     "output_type": "stream",
     "text": [
      "Current Balance: 50\n"
     ]
    },
    {
     "name": "stdin",
     "output_type": "stream",
     "text": [
      "\n",
      "                        Press 1 for Credit\n",
      "                        Press 2 for Debit \n",
      "                        Press 3 for Check Balance\n",
      "                        Press 4 for Show Detail\n",
      "                        Press 5 for Change Password\n",
      "                        Press 6 for Log Out\n",
      "                     4\n"
     ]
    },
    {
     "name": "stdout",
     "output_type": "stream",
     "text": [
      "Details:\n",
      "Name: Sachin\n",
      "Phone: 7878012779\n",
      "Address: Jaipur\n",
      "Balance: 50\n"
     ]
    },
    {
     "name": "stdin",
     "output_type": "stream",
     "text": [
      "\n",
      "                        Press 1 for Credit\n",
      "                        Press 2 for Debit \n",
      "                        Press 3 for Check Balance\n",
      "                        Press 4 for Show Detail\n",
      "                        Press 5 for Change Password\n",
      "                        Press 6 for Log Out\n",
      "                     5\n",
      "Enter New Password:  pranav@987]\n"
     ]
    },
    {
     "name": "stdout",
     "output_type": "stream",
     "text": [
      "Password Changed Successfully\n"
     ]
    }
   ],
   "source": [
    "Account = {\n",
    "    'A101': {\n",
    "        'password': 'pranav@11',\n",
    "        'name': 'pranav',\n",
    "        'phone': 7878012779,\n",
    "        'address': 'Jaipur',\n",
    "        'balance': 100\n",
    "    }\n",
    "}\n",
    "\n",
    "while True:\n",
    "    \n",
    "    n = int(input('''\n",
    "        Press 1 for Login\n",
    "        Press 2 for Signup \n",
    "        Press 3 for Forget Password\n",
    "        Press 4 for Exit\n",
    "    '''))\n",
    "    \n",
    "    if n == 1:\n",
    "        account = input('Enter Account no: ')\n",
    "        if account in Account:\n",
    "            password = input('Enter Password: ')\n",
    "            if Account[account]['password'] == password:\n",
    "                print('Login Successfully')\n",
    "                while True:\n",
    "                    n = int(input('''\n",
    "                        Press 1 for Credit\n",
    "                        Press 2 for Debit \n",
    "                        Press 3 for Check Balance\n",
    "                        Press 4 for Show Detail\n",
    "                        Press 5 for Change Password\n",
    "                        Press 6 for Log Out\n",
    "                    '''))\n",
    "                    if n == 1:\n",
    "                        amount = int(input('Enter amount to deposit: '))\n",
    "                        Account[account]['balance'] += amount\n",
    "                        print(f'Successfully Credited {amount}')\n",
    "                    elif n == 2:\n",
    "                        debit = int(input('Enter Amount to debit: '))\n",
    "                        if debit <= Account[account]['balance']:\n",
    "                            Account[account]['balance'] -= debit\n",
    "                            print(f'Successfully Debited {debit}')\n",
    "                        else:\n",
    "                            print('Insufficient Balance')\n",
    "                    elif n == 3:\n",
    "                        print('Current Balance:', Account[account]['balance'])\n",
    "                    elif n == 4:\n",
    "                        print('Details:')\n",
    "                        for key, value in Account[account].items():\n",
    "                            if key != 'password':\n",
    "                                print(f'{key.capitalize()}: {value}')\n",
    "                    elif n == 5:\n",
    "                        new_password = input('Enter New Password: ')\n",
    "                        Account[account]['password'] = new_password\n",
    "                        print('Password Changed Successfully')\n",
    "                    elif n == 6:\n",
    "                        break\n",
    "                    else:\n",
    "                        print('Invalid Input')\n",
    "            else:\n",
    "                print('Invalid Password')\n",
    "        else:\n",
    "            print('No Such Account Found')\n",
    "    \n",
    "    elif n == 2:\n",
    "        name = input('Enter name: ')\n",
    "        phone = int(input('Enter contact number: '))\n",
    "        address = input('Enter address: ')\n",
    "        password = input('Enter New Password: ')\n",
    "        last_account_number = list(Account.keys())[-1]\n",
    "        account_number = 'A' + str(int(last_account_number[1:]) + 1)\n",
    "        print(f'''\n",
    "        Welcome {name}\n",
    "        Your Account Number: {account_number}\n",
    "        Password: {password}\n",
    "        ''')\n",
    "        while True:\n",
    "            balance = int(input('Enter Initial amount to deposit (minimum 2000): '))\n",
    "            if balance >= 2000:\n",
    "                break\n",
    "            else:\n",
    "                print('Low Balance')\n",
    "        Account[account_number] = {\n",
    "            'password': password,\n",
    "            'name': name,\n",
    "            'phone': phone,\n",
    "            'address': address,\n",
    "            'balance': balance\n",
    "        }\n",
    "    \n",
    "    elif n == 3:\n",
    "        account = input('Enter Account no: ')\n",
    "        if account in Account:\n",
    "            phone = int(input('Enter Phone no: '))\n",
    "            if Account[account]['phone'] == phone:\n",
    "                new_password = input('Enter New Password: ')\n",
    "                Account[account]['password'] = new_password\n",
    "                print('Password Changed Successfully')\n",
    "            else:\n",
    "                print('Invalid Credentials')\n",
    "        else:\n",
    "            print('No Such Account Found')\n",
    "    \n",
    "    elif n == 4:\n",
    "        print('Closing Application...')\n",
    "        break\n",
    "    \n",
    "    else:\n",
    "        print('Invalid Input')\n"
   ]
  },
  {
   "cell_type": "code",
   "execution_count": null,
   "id": "36a5d50e-dd8c-4527-b8f9-3f7e577834fd",
   "metadata": {},
   "outputs": [],
   "source": []
  }
 ],
 "metadata": {
  "kernelspec": {
   "display_name": "Python 3 (ipykernel)",
   "language": "python",
   "name": "python3"
  },
  "language_info": {
   "codemirror_mode": {
    "name": "ipython",
    "version": 3
   },
   "file_extension": ".py",
   "mimetype": "text/x-python",
   "name": "python",
   "nbconvert_exporter": "python",
   "pygments_lexer": "ipython3",
   "version": "3.12.4"
  }
 },
 "nbformat": 4,
 "nbformat_minor": 5
}
