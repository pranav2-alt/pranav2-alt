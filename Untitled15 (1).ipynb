{
 "cells": [
  {
   "cell_type": "code",
   "execution_count": 1,
   "id": "f97f43f1",
   "metadata": {},
   "outputs": [],
   "source": [
    "# Numpy ===> Numpy is an open-source library that is used for scientific calculations. "
   ]
  },
  {
   "cell_type": "code",
   "execution_count": 2,
   "id": "fefec735",
   "metadata": {},
   "outputs": [],
   "source": [
    "# Why we use Numpy whenever we have list ? \n",
    "# (1). Homogeneous data type \n",
    "# (2). memory less consume \n",
    "# (3). less time consume "
   ]
  },
  {
   "cell_type": "code",
   "execution_count": 3,
   "id": "06e2b868",
   "metadata": {},
   "outputs": [],
   "source": [
    "# !pip install numpy "
   ]
  },
  {
   "cell_type": "code",
   "execution_count": 4,
   "id": "f62ea653",
   "metadata": {},
   "outputs": [],
   "source": [
    "import numpy as np "
   ]
  },
  {
   "cell_type": "code",
   "execution_count": 5,
   "id": "67dbca40",
   "metadata": {},
   "outputs": [
    {
     "data": {
      "text/plain": [
       "list"
      ]
     },
     "execution_count": 5,
     "metadata": {},
     "output_type": "execute_result"
    }
   ],
   "source": [
    "a = [1,34,67,90]\n",
    "type(a) "
   ]
  },
  {
   "cell_type": "code",
   "execution_count": 6,
   "id": "3a8b173d",
   "metadata": {},
   "outputs": [
    {
     "data": {
      "text/plain": [
       "array([ 1, 34, 67, 90])"
      ]
     },
     "execution_count": 6,
     "metadata": {},
     "output_type": "execute_result"
    }
   ],
   "source": [
    "b = np.array(a) \n",
    "b"
   ]
  },
  {
   "cell_type": "code",
   "execution_count": 7,
   "id": "b4ed3f68",
   "metadata": {},
   "outputs": [
    {
     "data": {
      "text/plain": [
       "numpy.ndarray"
      ]
     },
     "execution_count": 7,
     "metadata": {},
     "output_type": "execute_result"
    }
   ],
   "source": [
    "type(b) "
   ]
  },
  {
   "cell_type": "code",
   "execution_count": 8,
   "id": "00acf45e",
   "metadata": {},
   "outputs": [],
   "source": [
    "# Dimension ===> \n",
    "# 1-D  ===> element exist in x-direction \n",
    "# 2-D  ===> element exist in x and y direction \n",
    "# 3-D  ===> element exist in x,y,z direction "
   ]
  },
  {
   "cell_type": "code",
   "execution_count": 9,
   "id": "acc2ed3e",
   "metadata": {},
   "outputs": [
    {
     "name": "stdout",
     "output_type": "stream",
     "text": [
      "Total Shape: (4,)\n"
     ]
    }
   ],
   "source": [
    "print(\"Total Shape:\" , b.shape)  ## shape = n(rows) , n(columns)"
   ]
  },
  {
   "cell_type": "code",
   "execution_count": 10,
   "id": "414dab4b",
   "metadata": {},
   "outputs": [
    {
     "name": "stdout",
     "output_type": "stream",
     "text": [
      "Total Elements: 4\n"
     ]
    }
   ],
   "source": [
    "print(\"Total Elements:\", b.size) ## size = n(row)*n(column) "
   ]
  },
  {
   "cell_type": "code",
   "execution_count": 11,
   "id": "f2fd5294",
   "metadata": {},
   "outputs": [
    {
     "name": "stdout",
     "output_type": "stream",
     "text": [
      "Total Dimension: 1\n"
     ]
    }
   ],
   "source": [
    "print(\"Total Dimension:\" , b.ndim)  ### ndim is refer to dimension of array . "
   ]
  },
  {
   "cell_type": "code",
   "execution_count": 12,
   "id": "ab7e8ff2",
   "metadata": {},
   "outputs": [
    {
     "data": {
      "text/plain": [
       "[[1, 2, 3], [4, 5, 6], [7, 8, 9]]"
      ]
     },
     "execution_count": 12,
     "metadata": {},
     "output_type": "execute_result"
    }
   ],
   "source": [
    "a = [[1,2,3],[4,5,6],[7,8,9]]\n",
    "a"
   ]
  },
  {
   "cell_type": "code",
   "execution_count": 13,
   "id": "faac4ab2",
   "metadata": {},
   "outputs": [
    {
     "data": {
      "text/plain": [
       "array([[1, 2, 3],\n",
       "       [4, 5, 6],\n",
       "       [7, 8, 9]])"
      ]
     },
     "execution_count": 13,
     "metadata": {},
     "output_type": "execute_result"
    }
   ],
   "source": [
    "b = np.array(a) \n",
    "b"
   ]
  },
  {
   "cell_type": "code",
   "execution_count": 14,
   "id": "0a075927",
   "metadata": {},
   "outputs": [
    {
     "data": {
      "text/plain": [
       "numpy.ndarray"
      ]
     },
     "execution_count": 14,
     "metadata": {},
     "output_type": "execute_result"
    }
   ],
   "source": [
    "type(b) "
   ]
  },
  {
   "cell_type": "code",
   "execution_count": 15,
   "id": "5b0c92cc",
   "metadata": {},
   "outputs": [
    {
     "name": "stdout",
     "output_type": "stream",
     "text": [
      "Total Rows and Columns: (3, 3)\n",
      "Total Elements : 9\n",
      "Total Dimension : 2\n"
     ]
    }
   ],
   "source": [
    "print(\"Total Rows and Columns:\" , b.shape) ## shape = n(row) , n(column)\n",
    "print(\"Total Elements :\" , b.size) ## size = n(row)*n(column)\n",
    "print(\"Total Dimension :\", b.ndim)  ## ndim ---> dimension "
   ]
  },
  {
   "cell_type": "markdown",
   "id": "bc3d0a5f",
   "metadata": {},
   "source": [
    "# How can we create a user defined Array ? "
   ]
  },
  {
   "cell_type": "code",
   "execution_count": 16,
   "id": "625d789c",
   "metadata": {},
   "outputs": [
    {
     "name": "stdout",
     "output_type": "stream",
     "text": [
      "Enter size:2\n",
      "Enter number:12\n",
      "Enter number:45\n"
     ]
    },
    {
     "data": {
      "text/plain": [
       "array([12, 45])"
      ]
     },
     "execution_count": 16,
     "metadata": {},
     "output_type": "execute_result"
    }
   ],
   "source": [
    "a = [] \n",
    "size = int(input(\"Enter size:\"))\n",
    "for i in range(size):\n",
    "    val = int(input(\"Enter number:\"))\n",
    "    a.append(val) \n",
    "b = np.array(a) \n",
    "b"
   ]
  },
  {
   "cell_type": "markdown",
   "id": "7b1ec2ef",
   "metadata": {},
   "source": [
    "# Numpy Functions "
   ]
  },
  {
   "cell_type": "code",
   "execution_count": 17,
   "id": "fe17441c",
   "metadata": {},
   "outputs": [],
   "source": [
    "# Images ===> Pixels(0-255)px ===> 0px(black) , 255px(white) ===> Normalize ===> (0-1)px \n",
    "\n",
    "# (a). black&white image ===> height , width \n",
    "# (b). Colorfull Image ===> height , width , color_channel(red,green,blue)\n",
    "\n",
    "# Matrix ===> n(rows) = n(columns) ===> Symmatric Matrix  , n(r)!= n(c) ===> Asymmatric Matrix \n",
    "\n",
    "# random number generation ===> random module \n",
    "\n",
    "# Data Science ===> simple line equation = y = mx + b   ## (x,y)= co-ordinates , m=weight, b=intercept\n",
    "\n",
    "# Matrix ===> row , column \n",
    "# Matrix ===> digonal positional element = [(1,1), (2,2), (3,3)......(n,n)]"
   ]
  },
  {
   "cell_type": "markdown",
   "id": "1cae6633",
   "metadata": {},
   "source": [
    "# (1). zeros() ===> It will create an array in which all the values are 0 . "
   ]
  },
  {
   "cell_type": "code",
   "execution_count": 18,
   "id": "43a2946b",
   "metadata": {},
   "outputs": [
    {
     "data": {
      "text/plain": [
       "array([0., 0., 0.])"
      ]
     },
     "execution_count": 18,
     "metadata": {},
     "output_type": "execute_result"
    }
   ],
   "source": [
    "a = np.zeros(3)\n",
    "a"
   ]
  },
  {
   "cell_type": "code",
   "execution_count": 19,
   "id": "9f96f936",
   "metadata": {},
   "outputs": [
    {
     "data": {
      "text/plain": [
       "array([[0., 0., 0.],\n",
       "       [0., 0., 0.]])"
      ]
     },
     "execution_count": 19,
     "metadata": {},
     "output_type": "execute_result"
    }
   ],
   "source": [
    "a = np.zeros((2,3))\n",
    "a"
   ]
  },
  {
   "cell_type": "markdown",
   "id": "5f2bbb8f",
   "metadata": {},
   "source": [
    "# (2). ones() ===> It will create an array in which all the values are 1 . "
   ]
  },
  {
   "cell_type": "code",
   "execution_count": 20,
   "id": "e105cf31",
   "metadata": {},
   "outputs": [
    {
     "data": {
      "text/plain": [
       "array([1., 1., 1.])"
      ]
     },
     "execution_count": 20,
     "metadata": {},
     "output_type": "execute_result"
    }
   ],
   "source": [
    "a = np.ones(3) \n",
    "a"
   ]
  },
  {
   "cell_type": "code",
   "execution_count": 21,
   "id": "e6b7232e",
   "metadata": {},
   "outputs": [
    {
     "data": {
      "text/plain": [
       "array([[1., 1., 1., 1.],\n",
       "       [1., 1., 1., 1.],\n",
       "       [1., 1., 1., 1.]])"
      ]
     },
     "execution_count": 21,
     "metadata": {},
     "output_type": "execute_result"
    }
   ],
   "source": [
    "a = np.ones((3,4))\n",
    "a"
   ]
  },
  {
   "cell_type": "code",
   "execution_count": 22,
   "id": "0c5a5786",
   "metadata": {},
   "outputs": [
    {
     "data": {
      "text/plain": [
       "(3, 4)"
      ]
     },
     "execution_count": 22,
     "metadata": {},
     "output_type": "execute_result"
    }
   ],
   "source": [
    "a.shape"
   ]
  },
  {
   "cell_type": "markdown",
   "id": "0d2c7829",
   "metadata": {},
   "source": [
    "# (3). eye() ===> It will create an array in which digonal positional elements are 1 and \n",
    "# rest all are 0 . "
   ]
  },
  {
   "cell_type": "code",
   "execution_count": 23,
   "id": "5e7855a9",
   "metadata": {},
   "outputs": [
    {
     "data": {
      "text/plain": [
       "array([[1., 0., 0.],\n",
       "       [0., 1., 0.],\n",
       "       [0., 0., 1.]])"
      ]
     },
     "execution_count": 23,
     "metadata": {},
     "output_type": "execute_result"
    }
   ],
   "source": [
    "a = np.eye(3)   ### Symmatric Matrix \n",
    "a"
   ]
  },
  {
   "cell_type": "code",
   "execution_count": 24,
   "id": "61fb7e91",
   "metadata": {},
   "outputs": [
    {
     "data": {
      "text/plain": [
       "array([[1., 0., 0., 0.],\n",
       "       [0., 1., 0., 0.],\n",
       "       [0., 0., 1., 0.]])"
      ]
     },
     "execution_count": 24,
     "metadata": {},
     "output_type": "execute_result"
    }
   ],
   "source": [
    "a = np.eye(3,4)  ### Asymmatric Matrix \n",
    "a"
   ]
  },
  {
   "cell_type": "code",
   "execution_count": 25,
   "id": "fdd4aac8",
   "metadata": {},
   "outputs": [],
   "source": [
    "# (4). diag() ===> It will create an array in which we can customize our digonal positional elements."
   ]
  },
  {
   "cell_type": "code",
   "execution_count": 26,
   "id": "9355dd90",
   "metadata": {},
   "outputs": [
    {
     "data": {
      "text/plain": [
       "array([[  1,   0,   0,   0],\n",
       "       [  0,  56,   0,   0],\n",
       "       [  0,   0,  89,   0],\n",
       "       [  0,   0,   0, 700]])"
      ]
     },
     "execution_count": 26,
     "metadata": {},
     "output_type": "execute_result"
    }
   ],
   "source": [
    "a = np.diag([1,56,89,700])\n",
    "a"
   ]
  },
  {
   "cell_type": "code",
   "execution_count": 27,
   "id": "5213f50f",
   "metadata": {},
   "outputs": [],
   "source": [
    "# (5). Random Module ====> \n",
    "# (a). OTP Generation\n",
    "# (b). Dataset ===> 1 dummy column add \n",
    "# (c). randomly weights initialize "
   ]
  },
  {
   "cell_type": "code",
   "execution_count": 28,
   "id": "1abcf244",
   "metadata": {},
   "outputs": [],
   "source": [
    "# (a). Randint(min_number , max_number , total_numbers) "
   ]
  },
  {
   "cell_type": "code",
   "execution_count": 29,
   "id": "000ea7df",
   "metadata": {},
   "outputs": [
    {
     "data": {
      "text/plain": [
       "array([9, 5, 4])"
      ]
     },
     "execution_count": 29,
     "metadata": {},
     "output_type": "execute_result"
    }
   ],
   "source": [
    "a = np.random.randint(1,10,3)\n",
    "a"
   ]
  },
  {
   "cell_type": "code",
   "execution_count": 30,
   "id": "d1b5cc1e",
   "metadata": {},
   "outputs": [],
   "source": [
    "# (b). Rand(total_numbers) ===> It will return numbers from 0 to 1 ."
   ]
  },
  {
   "cell_type": "code",
   "execution_count": 31,
   "id": "26b8f872",
   "metadata": {},
   "outputs": [
    {
     "data": {
      "text/plain": [
       "array([0.43186905, 0.77632589, 0.36209883, 0.85395866, 0.58201297])"
      ]
     },
     "execution_count": 31,
     "metadata": {},
     "output_type": "execute_result"
    }
   ],
   "source": [
    "a = np.random.rand(5)\n",
    "a"
   ]
  },
  {
   "cell_type": "code",
   "execution_count": 32,
   "id": "6514f4d3",
   "metadata": {},
   "outputs": [],
   "source": [
    "# (c). Randn() ===> -3 to +3 . "
   ]
  },
  {
   "cell_type": "code",
   "execution_count": 33,
   "id": "31c03325",
   "metadata": {},
   "outputs": [
    {
     "data": {
      "text/plain": [
       "array([-0.85361929, -1.39140442, -1.60750375, -0.05941515,  1.08100778])"
      ]
     },
     "execution_count": 33,
     "metadata": {},
     "output_type": "execute_result"
    }
   ],
   "source": [
    "a = np.random.randn(5)\n",
    "a"
   ]
  },
  {
   "cell_type": "code",
   "execution_count": 34,
   "id": "cc5462c9",
   "metadata": {},
   "outputs": [],
   "source": [
    "# (d). seed() ===> It  will fix our data once the data has been generated . "
   ]
  },
  {
   "cell_type": "code",
   "execution_count": 35,
   "id": "2c4f405a",
   "metadata": {},
   "outputs": [
    {
     "data": {
      "text/plain": [
       "array([4, 5, 7])"
      ]
     },
     "execution_count": 35,
     "metadata": {},
     "output_type": "execute_result"
    }
   ],
   "source": [
    "np.random.seed(20) \n",
    "a = np.random.randint(1,10,3)\n",
    "a"
   ]
  },
  {
   "cell_type": "markdown",
   "id": "ab0538a4",
   "metadata": {},
   "source": [
    "# View vs Copy "
   ]
  },
  {
   "cell_type": "code",
   "execution_count": 38,
   "id": "34140267",
   "metadata": {},
   "outputs": [
    {
     "data": {
      "text/plain": [
       "array([10, 20,  0,  0,  0, 60, 70, 80])"
      ]
     },
     "execution_count": 38,
     "metadata": {},
     "output_type": "execute_result"
    }
   ],
   "source": [
    "a = np.array([10,20,30,40,50,60,70,80])  ##View means modification in original data . \n",
    "b = a[2:5]\n",
    "b[:] = 0 \n",
    "a"
   ]
  },
  {
   "cell_type": "code",
   "execution_count": 42,
   "id": "18e050ad",
   "metadata": {},
   "outputs": [
    {
     "data": {
      "text/plain": [
       "array([10, 20, 30, 40, 50, 60, 70, 80])"
      ]
     },
     "execution_count": 42,
     "metadata": {},
     "output_type": "execute_result"
    }
   ],
   "source": [
    "a = np.array([10,20,30,40,50,60,70,80]) ## copy() means modification in duplicate file . \n",
    "b = a[2:5].copy()\n",
    "b[:] = 0\n",
    "a"
   ]
  },
  {
   "cell_type": "markdown",
   "id": "48d39348",
   "metadata": {},
   "source": [
    "# Reshaping the data "
   ]
  },
  {
   "cell_type": "code",
   "execution_count": 43,
   "id": "a32a4f0b",
   "metadata": {},
   "outputs": [],
   "source": [
    "# We know that \n",
    "# n(rows)*n(columns) = n(total_elements) \n",
    "# if we have total_elements = 12 \n",
    "# 1*12 , 12*1 \n",
    "# 2*6 , 6*2 \n",
    "# 3**4 , 4*3 \n",
    "\n",
    "\n",
    "# if we have total_elements = 36 \n",
    "# 1*36 , 36*1 \n",
    "# 2*18 , 18*2 \n",
    "# 3*12 , 12*3 \n",
    "# 4*9 , 9*4 \n",
    "# 6*6 "
   ]
  },
  {
   "cell_type": "code",
   "execution_count": 44,
   "id": "ff06504f",
   "metadata": {},
   "outputs": [
    {
     "data": {
      "text/plain": [
       "array([ 8, 35, 33, 41, 22, 27, 27, 20, 17, 39, 39, 17])"
      ]
     },
     "execution_count": 44,
     "metadata": {},
     "output_type": "execute_result"
    }
   ],
   "source": [
    "a = np.random.randint(1,50,12)\n",
    "a"
   ]
  },
  {
   "cell_type": "code",
   "execution_count": 45,
   "id": "1641b0bb",
   "metadata": {},
   "outputs": [
    {
     "data": {
      "text/plain": [
       "(12,)"
      ]
     },
     "execution_count": 45,
     "metadata": {},
     "output_type": "execute_result"
    }
   ],
   "source": [
    "a.shape"
   ]
  },
  {
   "cell_type": "code",
   "execution_count": 46,
   "id": "6f76c24c",
   "metadata": {},
   "outputs": [
    {
     "data": {
      "text/plain": [
       "array([[ 8, 35, 33, 41, 22, 27],\n",
       "       [27, 20, 17, 39, 39, 17]])"
      ]
     },
     "execution_count": 46,
     "metadata": {},
     "output_type": "execute_result"
    }
   ],
   "source": [
    "a.reshape(2,6)"
   ]
  },
  {
   "cell_type": "code",
   "execution_count": 47,
   "id": "21d29166",
   "metadata": {},
   "outputs": [
    {
     "data": {
      "text/plain": [
       "array([[ 8, 35],\n",
       "       [33, 41],\n",
       "       [22, 27],\n",
       "       [27, 20],\n",
       "       [17, 39],\n",
       "       [39, 17]])"
      ]
     },
     "execution_count": 47,
     "metadata": {},
     "output_type": "execute_result"
    }
   ],
   "source": [
    "a.reshape(6,2)"
   ]
  },
  {
   "cell_type": "code",
   "execution_count": 48,
   "id": "2796d82d",
   "metadata": {},
   "outputs": [
    {
     "data": {
      "text/plain": [
       "array([[ 8, 35, 33, 41],\n",
       "       [22, 27, 27, 20],\n",
       "       [17, 39, 39, 17]])"
      ]
     },
     "execution_count": 48,
     "metadata": {},
     "output_type": "execute_result"
    }
   ],
   "source": [
    "a.reshape(3,4)"
   ]
  },
  {
   "cell_type": "code",
   "execution_count": 49,
   "id": "0550aa8b",
   "metadata": {},
   "outputs": [
    {
     "data": {
      "text/plain": [
       "array([[ 8, 35, 33],\n",
       "       [41, 22, 27],\n",
       "       [27, 20, 17],\n",
       "       [39, 39, 17]])"
      ]
     },
     "execution_count": 49,
     "metadata": {},
     "output_type": "execute_result"
    }
   ],
   "source": [
    "a.reshape(4,3)"
   ]
  },
  {
   "cell_type": "code",
   "execution_count": 52,
   "id": "58fabe34",
   "metadata": {},
   "outputs": [
    {
     "ename": "ValueError",
     "evalue": "cannot reshape array of size 12 into shape (12,12)",
     "output_type": "error",
     "traceback": [
      "\u001b[1;31m---------------------------------------------------------------------------\u001b[0m",
      "\u001b[1;31mValueError\u001b[0m                                Traceback (most recent call last)",
      "Input \u001b[1;32mIn [52]\u001b[0m, in \u001b[0;36m<cell line: 1>\u001b[1;34m()\u001b[0m\n\u001b[1;32m----> 1\u001b[0m \u001b[43ma\u001b[49m\u001b[38;5;241;43m.\u001b[39;49m\u001b[43mreshape\u001b[49m\u001b[43m(\u001b[49m\u001b[38;5;241;43m12\u001b[39;49m\u001b[43m,\u001b[49m\u001b[38;5;241;43m12\u001b[39;49m\u001b[43m)\u001b[49m\n",
      "\u001b[1;31mValueError\u001b[0m: cannot reshape array of size 12 into shape (12,12)"
     ]
    }
   ],
   "source": [
    "a.reshape(12,12)"
   ]
  },
  {
   "cell_type": "code",
   "execution_count": 53,
   "id": "547b38b3",
   "metadata": {},
   "outputs": [],
   "source": [
    "# min_number = 1\n",
    "# max_number = 100 \n",
    "# total_numbers = 72 \n",
    "\n",
    "# reshape all the data ? "
   ]
  },
  {
   "cell_type": "markdown",
   "id": "40a967b3",
   "metadata": {},
   "source": [
    "# Conditional Selection in Numpy "
   ]
  },
  {
   "cell_type": "code",
   "execution_count": 59,
   "id": "d7329825",
   "metadata": {},
   "outputs": [
    {
     "data": {
      "text/plain": [
       "array([ 1,  2,  3,  4,  5,  6,  7,  8,  9, 10, 11, 12, 13, 14, 15])"
      ]
     },
     "execution_count": 59,
     "metadata": {},
     "output_type": "execute_result"
    }
   ],
   "source": [
    "a = np.arange(1,16)\n",
    "a"
   ]
  },
  {
   "cell_type": "code",
   "execution_count": 60,
   "id": "5b177363",
   "metadata": {},
   "outputs": [
    {
     "data": {
      "text/plain": [
       "array([False, False, False, False, False, False, False, False, False,\n",
       "       False,  True,  True,  True,  True,  True])"
      ]
     },
     "execution_count": 60,
     "metadata": {},
     "output_type": "execute_result"
    }
   ],
   "source": [
    "a>10"
   ]
  },
  {
   "cell_type": "code",
   "execution_count": 61,
   "id": "262f92c7",
   "metadata": {},
   "outputs": [
    {
     "data": {
      "text/plain": [
       "array([ True,  True,  True,  True,  True,  True,  True,  True,  True,\n",
       "       False, False, False, False, False, False])"
      ]
     },
     "execution_count": 61,
     "metadata": {},
     "output_type": "execute_result"
    }
   ],
   "source": [
    "a<10 "
   ]
  },
  {
   "cell_type": "code",
   "execution_count": 62,
   "id": "664d8dc6",
   "metadata": {},
   "outputs": [
    {
     "data": {
      "text/plain": [
       "array([11, 12, 13, 14, 15])"
      ]
     },
     "execution_count": 62,
     "metadata": {},
     "output_type": "execute_result"
    }
   ],
   "source": [
    "b = a>10\n",
    "a[b]"
   ]
  },
  {
   "cell_type": "code",
   "execution_count": 64,
   "id": "d6f5f786",
   "metadata": {},
   "outputs": [
    {
     "data": {
      "text/plain": [
       "array([ 1,  2,  3,  4,  5,  6,  7,  8,  9, 10])"
      ]
     },
     "execution_count": 64,
     "metadata": {},
     "output_type": "execute_result"
    }
   ],
   "source": [
    "c = a<=10\n",
    "a[c]"
   ]
  },
  {
   "cell_type": "code",
   "execution_count": 66,
   "id": "59946bc0",
   "metadata": {},
   "outputs": [
    {
     "data": {
      "text/plain": [
       "array([ 2,  4,  6,  8, 10, 12, 14])"
      ]
     },
     "execution_count": 66,
     "metadata": {},
     "output_type": "execute_result"
    }
   ],
   "source": [
    "a[a%2==0]"
   ]
  },
  {
   "cell_type": "code",
   "execution_count": 67,
   "id": "abd4b654",
   "metadata": {},
   "outputs": [
    {
     "data": {
      "text/plain": [
       "array([ 1,  3,  5,  7,  9, 11, 13, 15])"
      ]
     },
     "execution_count": 67,
     "metadata": {},
     "output_type": "execute_result"
    }
   ],
   "source": [
    "a[a%2!=0]"
   ]
  },
  {
   "cell_type": "code",
   "execution_count": 69,
   "id": "8a35453f",
   "metadata": {},
   "outputs": [
    {
     "data": {
      "text/plain": [
       "array([[1, 2],\n",
       "       [3, 4]])"
      ]
     },
     "execution_count": 69,
     "metadata": {},
     "output_type": "execute_result"
    }
   ],
   "source": [
    "a = np.arange(1,5).reshape(2,2)\n",
    "a"
   ]
  },
  {
   "cell_type": "code",
   "execution_count": 70,
   "id": "4fae5976",
   "metadata": {},
   "outputs": [
    {
     "data": {
      "text/plain": [
       "array([[5, 6],\n",
       "       [7, 8]])"
      ]
     },
     "execution_count": 70,
     "metadata": {},
     "output_type": "execute_result"
    }
   ],
   "source": [
    "b = np.arange(5,9).reshape(2,2)\n",
    "b"
   ]
  },
  {
   "cell_type": "code",
   "execution_count": 71,
   "id": "dab0c9ac",
   "metadata": {},
   "outputs": [
    {
     "data": {
      "text/plain": [
       "array([[ 6,  8],\n",
       "       [10, 12]])"
      ]
     },
     "execution_count": 71,
     "metadata": {},
     "output_type": "execute_result"
    }
   ],
   "source": [
    "a+b  ## 1+5 =6 , 2+6 = 8 , 3+7 = 10 , 4+8 = 12"
   ]
  },
  {
   "cell_type": "code",
   "execution_count": 72,
   "id": "9f37b146",
   "metadata": {},
   "outputs": [
    {
     "data": {
      "text/plain": [
       "array([[-4, -4],\n",
       "       [-4, -4]])"
      ]
     },
     "execution_count": 72,
     "metadata": {},
     "output_type": "execute_result"
    }
   ],
   "source": [
    "a-b"
   ]
  },
  {
   "cell_type": "code",
   "execution_count": 73,
   "id": "e7143024",
   "metadata": {},
   "outputs": [
    {
     "data": {
      "text/plain": [
       "array([[ 5, 12],\n",
       "       [21, 32]])"
      ]
     },
     "execution_count": 73,
     "metadata": {},
     "output_type": "execute_result"
    }
   ],
   "source": [
    "a*b  ## Wrong way "
   ]
  },
  {
   "cell_type": "code",
   "execution_count": 74,
   "id": "e840ad2d",
   "metadata": {},
   "outputs": [
    {
     "data": {
      "text/plain": [
       "array([[19, 22],\n",
       "       [43, 50]])"
      ]
     },
     "execution_count": 74,
     "metadata": {},
     "output_type": "execute_result"
    }
   ],
   "source": [
    "a.dot(b) "
   ]
  },
  {
   "cell_type": "code",
   "execution_count": 76,
   "id": "a0d24f7a",
   "metadata": {},
   "outputs": [
    {
     "data": {
      "text/plain": [
       "array([[1, 2, 3],\n",
       "       [4, 5, 6],\n",
       "       [7, 8, 9]])"
      ]
     },
     "execution_count": 76,
     "metadata": {},
     "output_type": "execute_result"
    }
   ],
   "source": [
    "a = np.arange(1,10).reshape(3,3)\n",
    "a"
   ]
  },
  {
   "cell_type": "code",
   "execution_count": 77,
   "id": "0468bbe7",
   "metadata": {},
   "outputs": [
    {
     "data": {
      "text/plain": [
       "45"
      ]
     },
     "execution_count": 77,
     "metadata": {},
     "output_type": "execute_result"
    }
   ],
   "source": [
    "np.sum(a) "
   ]
  },
  {
   "cell_type": "code",
   "execution_count": 78,
   "id": "ab56682f",
   "metadata": {},
   "outputs": [
    {
     "data": {
      "text/plain": [
       "array([ 6, 15, 24])"
      ]
     },
     "execution_count": 78,
     "metadata": {},
     "output_type": "execute_result"
    }
   ],
   "source": [
    "np.sum(a , axis = 1) ## Row wise total "
   ]
  },
  {
   "cell_type": "code",
   "execution_count": 79,
   "id": "b9ab1a05",
   "metadata": {},
   "outputs": [
    {
     "data": {
      "text/plain": [
       "array([12, 15, 18])"
      ]
     },
     "execution_count": 79,
     "metadata": {},
     "output_type": "execute_result"
    }
   ],
   "source": [
    "np.sum(a, axis=0)  ## Column wise total "
   ]
  },
  {
   "cell_type": "code",
   "execution_count": 80,
   "id": "e2d04f55",
   "metadata": {},
   "outputs": [],
   "source": [
    "# Unique() ===> It will return unique values or eliminate duplicate values.\n",
    "# It will return 3 array \n",
    "# (1). Unique value's array .\n",
    "# (2). Indexing of original value . \n",
    "# (3). Returns frequency of each unique value . "
   ]
  },
  {
   "cell_type": "code",
   "execution_count": 83,
   "id": "0f29f335",
   "metadata": {},
   "outputs": [
    {
     "data": {
      "text/plain": [
       "array([1, 2, 2, 2, 3, 4, 3, 2, 3, 3, 3, 5, 4, 6])"
      ]
     },
     "execution_count": 83,
     "metadata": {},
     "output_type": "execute_result"
    }
   ],
   "source": [
    "a = np.array([1,2,2,2,3,4,3,2,3,3,3,5,4,6])\n",
    "a"
   ]
  },
  {
   "cell_type": "code",
   "execution_count": 84,
   "id": "92093767",
   "metadata": {},
   "outputs": [
    {
     "data": {
      "text/plain": [
       "(array([1, 2, 3, 4, 5, 6]),\n",
       " array([ 0,  1,  4,  5, 11, 13], dtype=int64),\n",
       " array([1, 4, 5, 2, 1, 1], dtype=int64))"
      ]
     },
     "execution_count": 84,
     "metadata": {},
     "output_type": "execute_result"
    }
   ],
   "source": [
    "np.unique(a , return_index=True , return_counts=True)"
   ]
  },
  {
   "cell_type": "code",
   "execution_count": 85,
   "id": "77452c57",
   "metadata": {},
   "outputs": [],
   "source": [
    "# LinSpace() ===> It will create an array in which difference of each value will be equal."
   ]
  },
  {
   "cell_type": "code",
   "execution_count": 86,
   "id": "c2633e72",
   "metadata": {},
   "outputs": [
    {
     "data": {
      "text/plain": [
       "array([1.  , 1.25, 1.5 , 1.75, 2.  ])"
      ]
     },
     "execution_count": 86,
     "metadata": {},
     "output_type": "execute_result"
    }
   ],
   "source": [
    "a = np.linspace(1,2,5)\n",
    "a"
   ]
  },
  {
   "cell_type": "code",
   "execution_count": 87,
   "id": "565d8898",
   "metadata": {},
   "outputs": [],
   "source": [
    "# Stacking in Numpy \n",
    "# (1). hstack() ===> It will combined multiple arrays into horizontally . "
   ]
  },
  {
   "cell_type": "code",
   "execution_count": 89,
   "id": "fea0cee8",
   "metadata": {},
   "outputs": [],
   "source": [
    "a = np.arange(1,5)\n",
    "b = np.arange(5,9)\n",
    "c = np.arange(9,13)"
   ]
  },
  {
   "cell_type": "code",
   "execution_count": 93,
   "id": "7f0f12fc",
   "metadata": {},
   "outputs": [
    {
     "data": {
      "text/plain": [
       "array([ 1,  2,  3,  4,  5,  6,  7,  8,  9, 10, 11, 12])"
      ]
     },
     "execution_count": 93,
     "metadata": {},
     "output_type": "execute_result"
    }
   ],
   "source": [
    "np.hstack((a,b,c))"
   ]
  },
  {
   "cell_type": "code",
   "execution_count": 94,
   "id": "d57b1933",
   "metadata": {},
   "outputs": [],
   "source": [
    "# (2). vstack() ===> It will combined multiple arrays into vertically . "
   ]
  },
  {
   "cell_type": "code",
   "execution_count": 95,
   "id": "11172e35",
   "metadata": {},
   "outputs": [],
   "source": [
    "a = np.arange(1,5)\n",
    "b = np.arange(5,9)\n",
    "c = np.arange(9,13)"
   ]
  },
  {
   "cell_type": "code",
   "execution_count": 96,
   "id": "48fc5717",
   "metadata": {},
   "outputs": [
    {
     "data": {
      "text/plain": [
       "array([[ 1,  2,  3,  4],\n",
       "       [ 5,  6,  7,  8],\n",
       "       [ 9, 10, 11, 12]])"
      ]
     },
     "execution_count": 96,
     "metadata": {},
     "output_type": "execute_result"
    }
   ],
   "source": [
    "np.vstack((a,b,c))"
   ]
  },
  {
   "cell_type": "code",
   "execution_count": null,
   "id": "17cb3b14",
   "metadata": {},
   "outputs": [],
   "source": []
  }
 ],
 "metadata": {
  "kernelspec": {
   "display_name": "Python 3 (ipykernel)",
   "language": "python",
   "name": "python3"
  },
  "language_info": {
   "codemirror_mode": {
    "name": "ipython",
    "version": 3
   },
   "file_extension": ".py",
   "mimetype": "text/x-python",
   "name": "python",
   "nbconvert_exporter": "python",
   "pygments_lexer": "ipython3",
   "version": "3.9.12"
  }
 },
 "nbformat": 4,
 "nbformat_minor": 5
}
