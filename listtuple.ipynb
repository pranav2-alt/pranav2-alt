{
 "cells": [
  {
   "cell_type": "code",
   "execution_count": 21,
   "id": "f87de5f0-88d4-47d7-85a6-267e0eec131b",
   "metadata": {},
   "outputs": [
    {
     "name": "stdout",
     "output_type": "stream",
     "text": [
      "Total price: 160\n"
     ]
    }
   ],
   "source": [
    "# Q.1 You have a list of item prices and their quantities in a shopping cart. Write a Python program that calculates the total price by multiplying the price of each item by its quantity and summing up the results.\n",
    "# Input: list of item prices and quantities\n",
    "prices = [10, 20, 30]  \n",
    "quantities = [2, 1, 4]  \n",
    "\n",
    "total = 0\n",
    "for i in range(len(prices)):\n",
    "    total += prices[i] * quantities[i]\n",
    "\n",
    "print(\"Total price:\", total)\n"
   ]
  },
  {
   "cell_type": "code",
   "execution_count": 19,
   "id": "0470b52e-9b6c-4ae0-aa46-e282e86a5987",
   "metadata": {},
   "outputs": [
    {
     "name": "stdin",
     "output_type": "stream",
     "text": [
      "Enter the number of items:  2\n",
      "Enter the price of item 1:  50\n",
      "Enter the quantity of item 1:  3\n",
      "Enter the price of item 2:  100\n",
      "Enter the quantity of item 2:  2\n"
     ]
    },
    {
     "name": "stdout",
     "output_type": "stream",
     "text": [
      "Total price: 350.0\n"
     ]
    }
   ],
   "source": [
    "# Q.2 Write a program that asks the user to enter a temperature value in Celsius or Fahrenheit. Based on the input, convert the temperature to the other unit and display the result (use \"C\" for Celsius and \"F\" for Fahrenheit).\n",
    "\n",
    "items = int(input(\"Enter the number of items: \"))\n",
    "\n",
    "prices = []\n",
    "quantities = []\n",
    "\n",
    "for i in range(items):\n",
    "    price = float(input(f\"Enter the price of item {i + 1}: \"))\n",
    "    quantity = int(input(f\"Enter the quantity of item {i + 1}: \"))\n",
    "    prices.append(price)\n",
    "    quantities.append(quantity)\n",
    "\n",
    "total = 0\n",
    "for i in range(items):\n",
    "    total += prices[i] * quantities[i]\n",
    "\n",
    "print(\"Total price:\", total)\n"
   ]
  },
  {
   "cell_type": "code",
   "execution_count": 15,
   "id": "a2b710b1-d669-48e8-a14c-7578a04837b4",
   "metadata": {},
   "outputs": [
    {
     "name": "stdin",
     "output_type": "stream",
     "text": [
      "Enter the temperature value:  98\n",
      "Enter the unit (C for Celsius, F for Fahrenheit):  f\n"
     ]
    },
    {
     "name": "stdout",
     "output_type": "stream",
     "text": [
      "Converted temperature: 36.666666666666664 °C\n"
     ]
    }
   ],
   "source": [
    "# Q.2 Write a program that asks the user to enter a temperature value in Celsius or Fahrenheit. Based on the input, convert the temperature to the other unit and display the result (use \"C\" for Celsius and \"F\" for Fahrenheit).\n",
    "\n",
    "temperature = float(input(\"Enter the temperature value: \"))\n",
    "unit = input(\"Enter the unit (C for Celsius, F for Fahrenheit): \")\n",
    "\n",
    "if unit == \"C\" or unit == \"c\":\n",
    "    converted_temperature = (temperature * 9 / 5) + 32\n",
    "    converted_unit = \"F\"\n",
    "    print(\"Converted temperature:\", converted_temperature, \"°F\")\n",
    "elif unit == \"F\" or unit == \"f\":\n",
    "    converted_temperature = (temperature - 32) * 5 / 9\n",
    "    converted_unit = \"C\"\n",
    "    print(\"Converted temperature:\", converted_temperature, \"°C\")\n",
    "else:\n",
    "    print(\"Invalid unit. enter 'C' for Celsius or 'F' for Fahrenheit.\")\n"
   ]
  },
  {
   "cell_type": "code",
   "execution_count": 31,
   "id": "76e938b5-592c-4fd2-a8d1-edc9e952e4c3",
   "metadata": {},
   "outputs": [
    {
     "name": "stdin",
     "output_type": "stream",
     "text": [
      "Enter a list of integers separated by spaces:  12 34 45 57 45 68\n"
     ]
    },
    {
     "name": "stdout",
     "output_type": "stream",
     "text": [
      "Even numbers: [12, 34, 68]\n",
      "Odd numbers: [45, 57, 45]\n"
     ]
    }
   ],
   "source": [
    "# Q.3 Write a Python program that separates even and odd numbers from a list of integers into two different lists.\n",
    "# Input: list of integers\n",
    "numbers = input(\"Enter a list of integers separated by spaces: \")\n",
    "numbers_list = numbers.split()  # Split the input into a list of strings\n",
    "\n",
    "even_numbers = []\n",
    "odd_numbers = []\n",
    "\n",
    "index = 0\n",
    "while index < len(numbers_list):\n",
    "    number = int(numbers_list[index]) \n",
    "    if number % 2 == 0:\n",
    "        even_numbers.append(number)  \n",
    "    else:\n",
    "        odd_numbers.append(number)  \n",
    "    index = index + 1 \n",
    "    \n",
    "print(\"Even numbers:\", even_numbers)\n",
    "print(\"Odd numbers:\", odd_numbers)\n"
   ]
  },
  {
   "cell_type": "code",
   "execution_count": 44,
   "id": "3f83208e-1547-49ae-85b8-be95f4484bc3",
   "metadata": {},
   "outputs": [
    {
     "name": "stdout",
     "output_type": "stream",
     "text": [
      "Course Title: Python Programming\n",
      "Instructor: John Doe\n",
      "Duration: 6 weeks\n"
     ]
    }
   ],
   "source": [
    "# Q.4 Create a tuple to store information about an online course, including the course title, instructor, and duration. Write a Python program to display the course details.\n",
    "\n",
    "course_info = (\"Python Programming\", \"John Doe\", \"6 weeks\")\n",
    "\n",
    "print(\"Course Title:\", course_info[0])\n",
    "print(\"Instructor:\", course_info[1])\n",
    "print(\"Duration:\", course_info[2])\n"
   ]
  },
  {
   "cell_type": "code",
   "execution_count": 46,
   "id": "f9b7f2c0-70d3-4d40-b5b5-d19a039404ae",
   "metadata": {},
   "outputs": [
    {
     "name": "stdout",
     "output_type": "stream",
     "text": [
      "Welcome to the bank!\n",
      "Your initial balance is: 1000\n"
     ]
    },
    {
     "name": "stdin",
     "output_type": "stream",
     "text": [
      "Enter the withdrawal amount:  500\n"
     ]
    },
    {
     "name": "stdout",
     "output_type": "stream",
     "text": [
      "Withdrawal successful! New balance: 500.0\n"
     ]
    },
    {
     "name": "stdin",
     "output_type": "stream",
     "text": [
      "Enter the withdrawal amount:  500\n"
     ]
    },
    {
     "name": "stdout",
     "output_type": "stream",
     "text": [
      "Withdrawal successful! New balance: 0.0\n"
     ]
    },
    {
     "name": "stdin",
     "output_type": "stream",
     "text": [
      "Enter the withdrawal amount:  100\n"
     ]
    },
    {
     "name": "stdout",
     "output_type": "stream",
     "text": [
      "Insufficient funds! Your current balance is: 0.0\n",
      "Thank you for using our bank services!\n"
     ]
    }
   ],
   "source": [
    "# Q.5 Create a Python program that simulates a bank account withdrawal. The program should allow the user to input a withdrawal amount repeatedly until the balance is insufficient to cover the withdrawal.\n",
    "balance = 1000\n",
    "print(\"Welcome to the bank!\")\n",
    "print(\"Your initial balance is:\", balance)\n",
    "\n",
    "attempts = 0\n",
    "max_attempts = 5\n",
    "\n",
    "while attempts < max_attempts:\n",
    "    withdrawal_amount = float(input(\"Enter the withdrawal amount: \"))\n",
    "    \n",
    "    if withdrawal_amount <= balance:\n",
    "        balance -= withdrawal_amount\n",
    "        print(\"Withdrawal successful! New balance:\", balance)\n",
    "    else:\n",
    "        print(\"Insufficient funds! Your current balance is:\", balance)\n",
    "        break\n",
    "\n",
    "    attempts += 1\n",
    "\n",
    "if attempts == max_attempts:\n",
    "    print(\"You have reached the maximum number of attempts.\")\n",
    "\n",
    "print(\"Thank you for using our bank services!\")\n"
   ]
  },
  {
   "cell_type": "code",
   "execution_count": 48,
   "id": "b1ad650b-6d1a-41e4-bee1-8e30f707bdde",
   "metadata": {},
   "outputs": [
    {
     "name": "stdout",
     "output_type": "stream",
     "text": [
      "Average Score: 86.6\n",
      "Score 85 is below average.\n",
      "Score 90 is above average.\n",
      "Score 78 is below average.\n",
      "Score 92 is above average.\n",
      "Score 88 is above average.\n"
     ]
    }
   ],
   "source": [
    "# Q.6 You have a list of student scores. Write a Python program that uses a loop to calculate the average score and then classifies students as \"above average\" or \"below average\" based on their scores.\n",
    "\n",
    "\n",
    "scores = [85, 90, 78, 92, 88]  \n",
    "\n",
    "total_score = 0\n",
    "num_students = len(scores)\n",
    "\n",
    "for score in scores:\n",
    "    total_score += score\n",
    "\n",
    "average_score = total_score / num_students\n",
    "\n",
    "print(\"Average Score:\", average_score)\n",
    "\n",
    "for score in scores:\n",
    "    if score > average_score:\n",
    "        print(\"Score\", score, \"is above average.\")\n",
    "    else:\n",
    "        print(\"Score\", score, \"is below average.\")\n"
   ]
  },
  {
   "cell_type": "code",
   "execution_count": 50,
   "id": "fcf19521-2b46-4edf-888f-0cef7d643682",
   "metadata": {},
   "outputs": [
    {
     "name": "stdout",
     "output_type": "stream",
     "text": [
      "Employees earning more than $50,000:\n",
      "Alice\n",
      "Charlie\n",
      "David\n"
     ]
    }
   ],
   "source": [
    "# Q.7 Given a tuple containing employee records (employee name, salary, department), write a Python program to print the names of employees who earn more than $50,000.\n",
    "\n",
    "employees = (\n",
    "    (\"Alice\", 60000, \"HR\"),\n",
    "    (\"Bob\", 48000, \"IT\"),\n",
    "    (\"Charlie\", 55000, \"Finance\"),\n",
    "    (\"David\", 52000, \"Marketing\"),\n",
    "    (\"Eve\", 45000, \"IT\")\n",
    ")\n",
    "\n",
    "print(\"Employees earning more than $50,000:\")\n",
    "for employee in employees:\n",
    "    name, salary, department = employee\n",
    "    if salary > 50000:\n",
    "        print(name)\n"
   ]
  },
  {
   "cell_type": "code",
   "execution_count": 52,
   "id": "62e83474-c045-479d-8a5b-d50317767418",
   "metadata": {},
   "outputs": [
    {
     "name": "stdin",
     "output_type": "stream",
     "text": [
      "Enter the total amount of your shopping bill:  500\n"
     ]
    },
    {
     "name": "stdout",
     "output_type": "stream",
     "text": [
      "A 15% holiday discount has been applied.\n",
      "Final bill amount: $ 425.0\n"
     ]
    }
   ],
   "source": [
    "# Q.8 Create a program that asks a customer for the total amount of their shopping bill. If the amount exceeds $200, apply a 15% holiday discount and print the final bill.\n",
    "total_bill = float(input(\"Enter the total amount of your shopping bill: \"))\n",
    "\n",
    "if total_bill > 200:\n",
    "    discount = total_bill * 0.15\n",
    "    final_bill = total_bill - discount\n",
    "    print(\"A 15% holiday discount has been applied.\")\n",
    "else:\n",
    "    final_bill = total_bill\n",
    "\n",
    "print(\"Final bill amount: $\", final_bill)\n"
   ]
  },
  {
   "cell_type": "code",
   "execution_count": 54,
   "id": "43a36ca3-0572-4288-9679-5a40ccbe83af",
   "metadata": {},
   "outputs": [
    {
     "name": "stdout",
     "output_type": "stream",
     "text": [
      "apple : 3\n",
      "banana : 2\n",
      "orange : 1\n"
     ]
    }
   ],
   "source": [
    "# Q.9 Write a Python program that takes a list of words and counts how many times each word appears in the list. Print each word along with its count.\n",
    "words = [\"apple\", \"banana\", \"orange\", \"apple\", \"banana\", \"apple\"]\n",
    "\n",
    "word_count = {}\n",
    "\n",
    "for word in words:\n",
    "    if word in word_count:\n",
    "        word_count[word] += 1\n",
    "    else:\n",
    "        word_count[word] = 1\n",
    "\n",
    "for word, count in word_count.items():\n",
    "    print(word, \":\", count)\n"
   ]
  },
  {
   "cell_type": "code",
   "execution_count": 56,
   "id": "a6b798e1-ad69-4e3a-bb74-04c35a30d075",
   "metadata": {},
   "outputs": [
    {
     "name": "stdout",
     "output_type": "stream",
     "text": [
      "1 \n",
      "1 2 \n",
      "1 2 3 \n",
      "1 2 3 4 \n",
      "1 2 3 4 5 \n"
     ]
    }
   ],
   "source": [
    "# Q.10 Write a Python program to print the following pattern using a loop:\n",
    "\n",
    "# 1\n",
    "# 1 2\n",
    "# 1 2 3\n",
    "# 1 2 3 4\n",
    "# 1 2 3 4 5\n",
    "n = 5  # Number of rows\n",
    "\n",
    "for i in range(1, n + 1):\n",
    "    for j in range(1, i + 1):\n",
    "        print(j, end=' ')\n",
    "    print() \n"
   ]
  },
  {
   "cell_type": "code",
   "execution_count": null,
   "id": "622fe226-c743-408e-a6be-8d0b8e6f13eb",
   "metadata": {},
   "outputs": [],
   "source": []
  }
 ],
 "metadata": {
  "kernelspec": {
   "display_name": "Python 3 (ipykernel)",
   "language": "python",
   "name": "python3"
  },
  "language_info": {
   "codemirror_mode": {
    "name": "ipython",
    "version": 3
   },
   "file_extension": ".py",
   "mimetype": "text/x-python",
   "name": "python",
   "nbconvert_exporter": "python",
   "pygments_lexer": "ipython3",
   "version": "3.12.4"
  }
 },
 "nbformat": 4,
 "nbformat_minor": 5
}
