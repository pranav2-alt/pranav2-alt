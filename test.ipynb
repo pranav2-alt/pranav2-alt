{
 "cells": [
  {
   "cell_type": "code",
   "execution_count": 9,
   "id": "38f29369-14e8-474d-9692-d11e7a3e8bd4",
   "metadata": {},
   "outputs": [
    {
     "name": "stdout",
     "output_type": "stream",
     "text": [
      "15\n"
     ]
    }
   ],
   "source": [
    "# Q.1 Write a function that takes a list of numbers and returns the sum.\n",
    "numbers = [1, 2, 3, 4, 5]\n",
    "def list_sum(numbers):\n",
    "    total = 0.\n",
    "    for num in numbers:\n",
    "        total += num\n",
    "    return total\n",
    "\n",
    "result = list_sum(numbers)\n",
    "print(result)\n"
   ]
  },
  {
   "cell_type": "code",
   "execution_count": 13,
   "id": "6ce8624c-4168-47c9-8640-edfcfc7403ba",
   "metadata": {},
   "outputs": [
    {
     "name": "stdout",
     "output_type": "stream",
     "text": [
      "[1, 2, 3, 4, 5, 6, 7]\n"
     ]
    }
   ],
   "source": [
    "# Q.2 How can you remove duplicates from a list?\n",
    "mylist = [1, 2, 2, 3, 4, 5, 6, 7, 7]\n",
    "def rem(mylist):\n",
    "    unique = []\n",
    "    for item in mylist:\n",
    "        if item not in unique:\n",
    "            unique.append(item)\n",
    "    return unique\n",
    "\n",
    "result = rem(mylist)\n",
    "print(result)\n"
   ]
  },
  {
   "cell_type": "code",
   "execution_count": 17,
   "id": "541e2534-9093-4b04-85fa-dd9f21bfde9d",
   "metadata": {},
   "outputs": [
    {
     "name": "stdout",
     "output_type": "stream",
     "text": [
      "25\n"
     ]
    }
   ],
   "source": [
    "# Q.3 What is a lambda function? Provide an example.\n",
    "square = lambda x: x * x\n",
    "result = square(5)\n",
    "print(result)"
   ]
  },
  {
   "cell_type": "code",
   "execution_count": 21,
   "id": "ec04845a-7874-40f1-af5a-9f822deb8692",
   "metadata": {},
   "outputs": [
    {
     "name": "stdout",
     "output_type": "stream",
     "text": [
      "Before\n",
      "Hello\n",
      "after\n"
     ]
    }
   ],
   "source": [
    "# Q.4 What are decorators in Python and how are they used?\n",
    "def decorator (func):\n",
    "    def wrapper():\n",
    "        print(\"Before\")\n",
    "        func()\n",
    "        print(\"after\")\n",
    "    return wrapper\n",
    "\n",
    "@decorator\n",
    "def say_hello():\n",
    "    print(\"Hello\")\n",
    "say_hello()"
   ]
  },
  {
   "cell_type": "code",
   "execution_count": 27,
   "id": "a8a334fc-9e09-4e9b-8e41-362b85b10429",
   "metadata": {},
   "outputs": [
    {
     "name": "stdout",
     "output_type": "stream",
     "text": [
      "[4, 5, 1, 2, 3]\n"
     ]
    }
   ],
   "source": [
    "# Q.5 Write a program to rotate a list n positions to the right without using slicing ([:]) or any\n",
    "# predefined rotation methods.\n",
    "# Example Input: lst = [1, 2, 3, 4, 5], n = 2\n",
    "# Expected Output: [4, 5, 1, 2, 3]\n",
    "list1 = [1, 2, 3, 4, 5]\n",
    "n = 2\n",
    "size1 = len(list1)\n",
    "n = n % size1\n",
    "lst = [0] * size1\n",
    "\n",
    "for index in range(size1):\n",
    "    total = (index + n) % size1\n",
    "    lst[total] = list1[index]\n",
    "print(lst)"
   ]
  },
  {
   "cell_type": "code",
   "execution_count": 33,
   "id": "ccc46ca4-1d0c-440d-bdff-a92bc05720c8",
   "metadata": {},
   "outputs": [
    {
     "name": "stdout",
     "output_type": "stream",
     "text": [
      "[['a', 1], ['b', 2]]\n"
     ]
    }
   ],
   "source": [
    "# Q.6 Convert a dictionary into a nested list of keys and values without using any predefined dictionary\n",
    "# methods.\n",
    "# Example Input: {&#39;a&#39;: 1, &#39;b&#39;: 2}\n",
    "# Expected Output: [[&#39;a&#39;, 1], [&#39;b&#39;, 2]]\n",
    "\n",
    "def dict(d):\n",
    "    result=[]\n",
    "    for key in d:\n",
    "        result.append([key,d[key]])\n",
    "    return result\n",
    "    \n",
    "d= {'a': 1, 'b' : 2}\n",
    "print(dict(d))"
   ]
  },
  {
   "cell_type": "code",
   "execution_count": 39,
   "id": "106cea01-6ffc-4fa4-b6c5-5dede92069cc",
   "metadata": {},
   "outputs": [
    {
     "name": "stdout",
     "output_type": "stream",
     "text": [
      "[(1, 3), (1, 4), (2, 3), (2, 4)]\n"
     ]
    }
   ],
   "source": [
    "# Q.8 Write a program to generate all possible pairs from two tuples without using libraries like\n",
    "# itertools.\n",
    "# Example Input: tuple1 = (1, 2), tuple2 = (3, 4)\n",
    "# Expected Output: [(1, 3), (1, 4), (2, 3), (2, 4)]\n",
    "\n",
    "def pairs(tuple1,tuple2):\n",
    "    p=[]\n",
    "    for i in tuple1:\n",
    "        for j in tuple2:\n",
    "            p.append((i,j))\n",
    "    return p\n",
    "tuple1 = (1,2)\n",
    "tuple2 = (3,4)\n",
    "print(pairs(tuple1,tuple2))"
   ]
  },
  {
   "cell_type": "code",
   "execution_count": 48,
   "id": "4da949f5-f832-4ee7-a4bf-a7ad6fb6cc62",
   "metadata": {},
   "outputs": [
    {
     "name": "stdin",
     "output_type": "stream",
     "text": [
      "Enter the Number 5\n"
     ]
    },
    {
     "name": "stdout",
     "output_type": "stream",
     "text": [
      "1 \n",
      "1 1 \n",
      "1 2 1 \n",
      "1 3 3 1 \n",
      "1 4 6 4 1 \n"
     ]
    }
   ],
   "source": [
    "# Q.10 Generate the first n rows of Pascal&#39;s Triangle without using predefined methods or recursion.\n",
    "# Example Input: n = 5\n",
    "# Expected Output:\n",
    "# 1\n",
    "# 1 1\n",
    "# 1 2 1\n",
    "# 1 3 3 1\n",
    "# 1 4 6 4 1\n",
    "\n",
    "n = int(input(\"Enter the Number\"))\n",
    "for i in range(n):\n",
    "    row = [1]\n",
    "    for j in range(1, i + 1):\n",
    "        row.append(row[j - 1] * (i - j + 1) // j)\n",
    "    for k in row:\n",
    "        print(k, end=' ')\n",
    "    print() "
   ]
  },
  {
   "cell_type": "code",
   "execution_count": null,
   "id": "99063aa3-100e-4fb0-9757-7f7681726e8c",
   "metadata": {},
   "outputs": [],
   "source": []
  }
 ],
 "metadata": {
  "kernelspec": {
   "display_name": "Python 3 (ipykernel)",
   "language": "python",
   "name": "python3"
  },
  "language_info": {
   "codemirror_mode": {
    "name": "ipython",
    "version": 3
   },
   "file_extension": ".py",
   "mimetype": "text/x-python",
   "name": "python",
   "nbconvert_exporter": "python",
   "pygments_lexer": "ipython3",
   "version": "3.12.4"
  }
 },
 "nbformat": 4,
 "nbformat_minor": 5
}
