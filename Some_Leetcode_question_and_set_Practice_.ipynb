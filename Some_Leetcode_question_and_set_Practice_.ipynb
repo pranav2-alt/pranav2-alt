{
  "nbformat": 4,
  "nbformat_minor": 0,
  "metadata": {
    "colab": {
      "provenance": []
    },
    "kernelspec": {
      "name": "python3",
      "display_name": "Python 3"
    },
    "language_info": {
      "name": "python"
    }
  },
  "cells": [
    {
      "cell_type": "code",
      "source": [
        "# K Maximum\n",
        "\n",
        "mylist = [5,7,85,32,74,5,7,53,32,5,7,4,8,4]\n",
        "unique_list = []\n",
        "\n",
        "for i in mylist:\n",
        "    if i not in unique_list:\n",
        "        unique_list.append(i)\n",
        "\n",
        "left = 0\n",
        "right = len(unique_list) - 1\n",
        "\n",
        "while left < right:\n",
        "    if unique_list[left] < unique_list[right]:\n",
        "        unique_list[left], unique_list[right] = unique_list[right], unique_list[left]\n",
        "    right -= 1\n",
        "    if left >= right:\n",
        "        left += 1\n",
        "        right = len(unique_list) - 1\n",
        "\n",
        "print(unique_list)\n",
        "k = int(input(\"Enter the value of k :\"))\n",
        "\n",
        "if k<=len(unique_list):\n",
        "    print(f\"{k} maxinum : {unique_list[k-1]}\")\n",
        "else:\n",
        "    print(\"List index out of range! Please Give the right index.\")"
      ],
      "metadata": {
        "colab": {
          "base_uri": "https://localhost:8080/"
        },
        "id": "tIHpngg7Iadf",
        "outputId": "f68879b6-81e6-4820-d9cd-684292a0e4e3"
      },
      "execution_count": null,
      "outputs": [
        {
          "output_type": "stream",
          "name": "stdout",
          "text": [
            "[85, 74, 53, 32, 8, 7, 5, 4]\n",
            "Enter the value of k :7\n",
            "7 maxinum : 5\n"
          ]
        }
      ]
    },
    {
      "cell_type": "code",
      "source": [
        "# Int To Roman\n",
        "\n",
        "def intToRoman(num):\n",
        "        roman_numerals = [\n",
        "                (\"M\", 1000),(\"CM\", 900),(\"D\", 500),(\"CD\", 400),\n",
        "                (\"C\", 100),(\"XC\", 90),(\"L\", 50),(\"XL\", 40),\n",
        "                (\"X\", 10),(\"IX\", 9),(\"V\", 5),(\"IV\", 4),(\"I\", 1)]\n",
        "        res = []\n",
        "        for symbol,value in roman_numerals:\n",
        "            if num==0:\n",
        "                break\n",
        "            count = num//value\n",
        "            res.append(symbol*count)\n",
        "            num-= count*value\n",
        "        return \"\".join(res)\n",
        "print(intToRoman(3749))"
      ],
      "metadata": {
        "colab": {
          "base_uri": "https://localhost:8080/"
        },
        "id": "i9q4ehN0QBb1",
        "outputId": "ad38edea-4867-429e-d189-3e4e9b912c25"
      },
      "execution_count": null,
      "outputs": [
        {
          "output_type": "stream",
          "name": "stdout",
          "text": [
            "MMMDCCXLIX\n"
          ]
        }
      ]
    },
    {
      "cell_type": "code",
      "source": [
        "# Roman To Int\n",
        "\n",
        "def romanToInt(s):\n",
        "        dict={\"I\":1,\"V\":5,\"X\":10,\"L\":50,\"C\":100,\"D\":500,\"M\":1000}\n",
        "        prev=0\n",
        "        total=0\n",
        "        for i in range(len(s)):\n",
        "            current = dict[s[i]]\n",
        "            if current > prev:\n",
        "                total+=current - 2* prev\n",
        "                prev = current\n",
        "            else:\n",
        "                total+=current\n",
        "                prev=current\n",
        "        return total\n",
        "\n",
        "print(romanToInt(\"XLI\"))"
      ],
      "metadata": {
        "colab": {
          "base_uri": "https://localhost:8080/"
        },
        "id": "-WEePQ1CQO0R",
        "outputId": "45051cb0-fae5-4ead-e1ea-affe98e25e88"
      },
      "execution_count": null,
      "outputs": [
        {
          "output_type": "stream",
          "name": "stdout",
          "text": [
            "41\n"
          ]
        }
      ]
    },
    {
      "cell_type": "code",
      "source": [
        "str1=\"Python is great and Python is fun\"\n",
        "l1=str1.split()\n",
        "dict1={}\n",
        "for i in l1:\n",
        "  if i in dict1:\n",
        "    dict1[i]+=1\n",
        "  else:\n",
        "    dict1[i]=1\n",
        "print(dict1)\n"
      ],
      "metadata": {
        "colab": {
          "base_uri": "https://localhost:8080/"
        },
        "id": "uDmPUMskVUF7",
        "outputId": "2c565efb-b8ac-4b99-d85c-51056cc01082"
      },
      "execution_count": null,
      "outputs": [
        {
          "output_type": "stream",
          "name": "stdout",
          "text": [
            "{'Python': 2, 'is': 2, 'great': 1, 'and': 1, 'fun': 1}\n"
          ]
        }
      ]
    },
    {
      "cell_type": "code",
      "source": [
        "# prime\n",
        "\n",
        "def find_prime_factor(n):\n",
        "  prime=[]\n",
        "  for i in range(2,n+1):\n",
        "    while n%i==0:\n",
        "      if  not  prime:\n",
        "        prime.append(i)\n",
        "      n//=i\n",
        "  return prime\n",
        "print(find_prime_factor(56))"
      ],
      "metadata": {
        "colab": {
          "base_uri": "https://localhost:8080/"
        },
        "id": "KBv2vKQAWKPY",
        "outputId": "cd42c709-23c8-44ac-9705-263409b7fab5"
      },
      "execution_count": null,
      "outputs": [
        {
          "output_type": "stream",
          "name": "stdout",
          "text": [
            "[2]\n"
          ]
        }
      ]
    },
    {
      "cell_type": "code",
      "source": [
        "def find_prime_factor(n):\n",
        "    prime = set()\n",
        "    for i in range(2, n + 1):\n",
        "        while n % i == 0:\n",
        "            prime.add(i)\n",
        "            n //= i\n",
        "    return list[prime]\n",
        "\n",
        "print(find_prime_factor(56))\n"
      ],
      "metadata": {
        "colab": {
          "base_uri": "https://localhost:8080/"
        },
        "id": "mwH3b_BNXLSv",
        "outputId": "c1565081-0d05-44b0-a01f-6a8db328a966"
      },
      "execution_count": null,
      "outputs": [
        {
          "output_type": "stream",
          "name": "stdout",
          "text": [
            "list[{2, 7}]\n"
          ]
        }
      ]
    },
    {
      "cell_type": "code",
      "source": [
        "newlist=[]\n",
        "for i in range(1,10):\n",
        "  newlist.append(i)\n",
        "print(newlist)"
      ],
      "metadata": {
        "colab": {
          "base_uri": "https://localhost:8080/"
        },
        "id": "P86EboWVUz-F",
        "outputId": "fac9c73e-059d-4407-becd-8207c41b8fa0"
      },
      "execution_count": null,
      "outputs": [
        {
          "output_type": "stream",
          "name": "stdout",
          "text": [
            "[1, 2, 3, 4, 5, 6, 7, 8, 9]\n"
          ]
        }
      ]
    },
    {
      "cell_type": "code",
      "source": [
        "[ i for i in range(1,10)]  # list comprehension"
      ],
      "metadata": {
        "colab": {
          "base_uri": "https://localhost:8080/"
        },
        "id": "glRMoGhwU-Ps",
        "outputId": "657fd4ab-474e-464c-f937-11a57572ba1d"
      },
      "execution_count": null,
      "outputs": [
        {
          "output_type": "execute_result",
          "data": {
            "text/plain": [
              "[1, 2, 3, 4, 5, 6, 7, 8, 9]"
            ]
          },
          "metadata": {},
          "execution_count": 32
        }
      ]
    },
    {
      "cell_type": "code",
      "source": [
        "{i:1 for i in range(1,10)}   # dict comprehension"
      ],
      "metadata": {
        "colab": {
          "base_uri": "https://localhost:8080/"
        },
        "id": "MaqiXzF_VGHf",
        "outputId": "2d657cff-e58f-4c61-ec1f-46d8cb268550"
      },
      "execution_count": null,
      "outputs": [
        {
          "output_type": "execute_result",
          "data": {
            "text/plain": [
              "{1: 1, 2: 1, 3: 1, 4: 1, 5: 1, 6: 1, 7: 1, 8: 1, 9: 1}"
            ]
          },
          "metadata": {},
          "execution_count": 33
        }
      ]
    },
    {
      "cell_type": "code",
      "source": [
        "{i for i in range(1,10)}"
      ],
      "metadata": {
        "colab": {
          "base_uri": "https://localhost:8080/"
        },
        "id": "DZjHQWXTVN2z",
        "outputId": "b021a75d-6f4c-4752-9f88-c878d5ad7cb5"
      },
      "execution_count": null,
      "outputs": [
        {
          "output_type": "execute_result",
          "data": {
            "text/plain": [
              "{1, 2, 3, 4, 5, 6, 7, 8, 9}"
            ]
          },
          "metadata": {},
          "execution_count": 34
        }
      ]
    },
    {
      "cell_type": "code",
      "source": [
        "# Set - > unordered unindexed , and mutable datatype\n",
        "#  collection of unique elements"
      ],
      "metadata": {
        "id": "RB6ApmSXR1bN"
      },
      "execution_count": null,
      "outputs": []
    },
    {
      "cell_type": "code",
      "source": [
        "# How to create a empty set ?\n",
        "s = set()\n",
        "print(type(s))"
      ],
      "metadata": {
        "colab": {
          "base_uri": "https://localhost:8080/"
        },
        "id": "FE3mcsCZSBGh",
        "outputId": "003a13cd-a6c2-4402-861f-d58e255ee8fc"
      },
      "execution_count": null,
      "outputs": [
        {
          "output_type": "stream",
          "name": "stdout",
          "text": [
            "<class 'set'>\n"
          ]
        }
      ]
    },
    {
      "cell_type": "code",
      "source": [
        "set1={1,2,3,4}\n",
        "set1.add(6)\n",
        "print(set1)"
      ],
      "metadata": {
        "colab": {
          "base_uri": "https://localhost:8080/"
        },
        "id": "Nv9y0DHgSJYV",
        "outputId": "526fd43f-0175-4425-825f-44e1be75bac5"
      },
      "execution_count": null,
      "outputs": [
        {
          "output_type": "stream",
          "name": "stdout",
          "text": [
            "{1, 2, 3, 4, 6}\n"
          ]
        }
      ]
    },
    {
      "cell_type": "code",
      "source": [
        "myset = {10,20,20,30,40}\n",
        "print(myset)"
      ],
      "metadata": {
        "colab": {
          "base_uri": "https://localhost:8080/"
        },
        "id": "-OCraNo2SP80",
        "outputId": "07047146-2a94-431d-f0fe-c97f890d331a"
      },
      "execution_count": null,
      "outputs": [
        {
          "output_type": "stream",
          "name": "stdout",
          "text": [
            "{40, 10, 20, 30}\n"
          ]
        }
      ]
    },
    {
      "cell_type": "code",
      "source": [
        "myset.add(50)\n",
        "print(myset)"
      ],
      "metadata": {
        "colab": {
          "base_uri": "https://localhost:8080/"
        },
        "id": "PBD__Hp3StS-",
        "outputId": "ee94482e-d4f1-49d3-86b7-c7dace23b310"
      },
      "execution_count": null,
      "outputs": [
        {
          "output_type": "stream",
          "name": "stdout",
          "text": [
            "{40, 10, 50, 20, 30}\n"
          ]
        }
      ]
    },
    {
      "cell_type": "code",
      "source": [
        "myset.update({100,200})\n",
        "print(myset)"
      ],
      "metadata": {
        "colab": {
          "base_uri": "https://localhost:8080/"
        },
        "id": "4NWjhEEZSxph",
        "outputId": "8fb83be4-60a5-4719-bf7b-761fbe1c1a59"
      },
      "execution_count": null,
      "outputs": [
        {
          "output_type": "stream",
          "name": "stdout",
          "text": [
            "{100, 40, 200, 10, 50, 20, 30}\n"
          ]
        }
      ]
    },
    {
      "cell_type": "code",
      "source": [
        "myset.pop()\n"
      ],
      "metadata": {
        "colab": {
          "base_uri": "https://localhost:8080/"
        },
        "id": "IgaFKfmFTGFO",
        "outputId": "d0d43387-e7b0-4dd8-81be-203ec1e09f66"
      },
      "execution_count": null,
      "outputs": [
        {
          "output_type": "execute_result",
          "data": {
            "text/plain": [
              "100"
            ]
          },
          "metadata": {},
          "execution_count": 12
        }
      ]
    },
    {
      "cell_type": "code",
      "source": [
        "myset.remove(20)\n",
        "print(myset)"
      ],
      "metadata": {
        "colab": {
          "base_uri": "https://localhost:8080/"
        },
        "id": "yoLp9lE-TRca",
        "outputId": "183d654b-6162-4d57-9e5b-0845f834774c"
      },
      "execution_count": null,
      "outputs": [
        {
          "output_type": "stream",
          "name": "stdout",
          "text": [
            "{40, 200, 10, 50, 30}\n"
          ]
        }
      ]
    },
    {
      "cell_type": "code",
      "source": [
        "# myset.discard(20)  not give error if value is not present\n",
        "print(myset)"
      ],
      "metadata": {
        "colab": {
          "base_uri": "https://localhost:8080/"
        },
        "id": "cV7sYaKGTazi",
        "outputId": "074e75cb-26fe-4978-8aec-4746c488a6e5"
      },
      "execution_count": null,
      "outputs": [
        {
          "output_type": "stream",
          "name": "stdout",
          "text": [
            "{40, 200, 10, 50, 30}\n"
          ]
        }
      ]
    },
    {
      "cell_type": "code",
      "source": [
        "myset1={10,20,30,40,50,60}\n",
        "myset2={40,50,60}\n",
        "myset1.union(myset2)"
      ],
      "metadata": {
        "colab": {
          "base_uri": "https://localhost:8080/"
        },
        "id": "YUaVFNgfThsJ",
        "outputId": "12cd8eee-a047-44f6-8b0d-9addec2619c7"
      },
      "execution_count": null,
      "outputs": [
        {
          "output_type": "execute_result",
          "data": {
            "text/plain": [
              "{10, 20, 30, 40, 50, 60}"
            ]
          },
          "metadata": {},
          "execution_count": 26
        }
      ]
    },
    {
      "cell_type": "code",
      "source": [
        "myset1.difference(myset2)"
      ],
      "metadata": {
        "colab": {
          "base_uri": "https://localhost:8080/"
        },
        "id": "ZCGJdbK_TpCZ",
        "outputId": "e2753026-c5ce-449d-b28b-17192858050a"
      },
      "execution_count": null,
      "outputs": [
        {
          "output_type": "execute_result",
          "data": {
            "text/plain": [
              "{10, 20, 30}"
            ]
          },
          "metadata": {},
          "execution_count": 27
        }
      ]
    },
    {
      "cell_type": "code",
      "source": [
        "myset1.intersection(myset2)"
      ],
      "metadata": {
        "colab": {
          "base_uri": "https://localhost:8080/"
        },
        "id": "e2RwwikYT0oT",
        "outputId": "8ee92253-2af1-40c4-9c2c-8b100f0ce1f9"
      },
      "execution_count": null,
      "outputs": [
        {
          "output_type": "execute_result",
          "data": {
            "text/plain": [
              "{40, 50, 60}"
            ]
          },
          "metadata": {},
          "execution_count": 28
        }
      ]
    },
    {
      "cell_type": "code",
      "source": [
        "myset1.issubset(myset2)"
      ],
      "metadata": {
        "colab": {
          "base_uri": "https://localhost:8080/"
        },
        "id": "E3mH0hjyT5vv",
        "outputId": "bc681f45-d6f3-4872-b5af-b884b9be6481"
      },
      "execution_count": null,
      "outputs": [
        {
          "output_type": "execute_result",
          "data": {
            "text/plain": [
              "False"
            ]
          },
          "metadata": {},
          "execution_count": 29
        }
      ]
    },
    {
      "cell_type": "code",
      "source": [
        "myset1.issuperset(myset2)"
      ],
      "metadata": {
        "colab": {
          "base_uri": "https://localhost:8080/"
        },
        "id": "vSiBLphtUCG_",
        "outputId": "600e5d91-68c5-4077-88e2-993fe98ecd4c"
      },
      "execution_count": null,
      "outputs": [
        {
          "output_type": "execute_result",
          "data": {
            "text/plain": [
              "True"
            ]
          },
          "metadata": {},
          "execution_count": 30
        }
      ]
    },
    {
      "cell_type": "code",
      "source": [
        "# o to 256 cashe memory"
      ],
      "metadata": {
        "id": "HOFJoeomXmZH"
      },
      "execution_count": null,
      "outputs": []
    },
    {
      "cell_type": "code",
      "source": [
        "x = 257\n",
        "a = 257   # if 256 se aage vale ka memory address different\n",
        "print(id(x),id(a))"
      ],
      "metadata": {
        "colab": {
          "base_uri": "https://localhost:8080/"
        },
        "id": "PlOmtqd9XyIi",
        "outputId": "e4e01595-0b6b-4506-c09f-57fe7037697f"
      },
      "execution_count": null,
      "outputs": [
        {
          "output_type": "stream",
          "name": "stdout",
          "text": [
            "139880797879984 139880797869712\n"
          ]
        }
      ]
    },
    {
      "cell_type": "code",
      "source": [
        "x = 256\n",
        "a = 256\n",
        "print(id(x),id(a))"
      ],
      "metadata": {
        "colab": {
          "base_uri": "https://localhost:8080/"
        },
        "id": "yxbCC8rUX3py",
        "outputId": "d2b09dc4-6ef4-4147-955d-2b5f44aa2988"
      },
      "execution_count": null,
      "outputs": [
        {
          "output_type": "stream",
          "name": "stdout",
          "text": [
            "10759016 10759016\n"
          ]
        }
      ]
    },
    {
      "cell_type": "code",
      "source": [
        "# python me call by object refence use hota h"
      ],
      "metadata": {
        "id": "rz4iuHWiYdO6"
      },
      "execution_count": null,
      "outputs": []
    },
    {
      "cell_type": "code",
      "source": [
        "# Function\n",
        "#  collection of statement and block of code\n",
        "# use it multiple time\n",
        "# code reusability"
      ],
      "metadata": {
        "id": "2pxj9MTTY7sc"
      },
      "execution_count": null,
      "outputs": []
    },
    {
      "cell_type": "code",
      "source": [
        "def func():\n",
        "  print(\"Hii\")\n",
        "func()"
      ],
      "metadata": {
        "colab": {
          "base_uri": "https://localhost:8080/"
        },
        "id": "aGrJccilZT6n",
        "outputId": "a65e43df-d6ff-428e-c563-3e880e4f7506"
      },
      "execution_count": null,
      "outputs": [
        {
          "output_type": "stream",
          "name": "stdout",
          "text": [
            "Hii\n"
          ]
        }
      ]
    },
    {
      "cell_type": "code",
      "source": [
        "def func():\n",
        "  x1=10\n",
        "  print(\"Hii\",x1)\n",
        "func()"
      ],
      "metadata": {
        "colab": {
          "base_uri": "https://localhost:8080/"
        },
        "id": "2h4U1lUvZkBd",
        "outputId": "ef037232-524b-4b23-cfae-33bca781a695"
      },
      "execution_count": null,
      "outputs": [
        {
          "output_type": "stream",
          "name": "stdout",
          "text": [
            "Hii 10\n"
          ]
        }
      ]
    },
    {
      "cell_type": "code",
      "source": [
        "# Global variable me kuch change hua vo function ke bahar humesha change hoge"
      ],
      "metadata": {
        "id": "Yf_PcazOaPbh"
      },
      "execution_count": null,
      "outputs": []
    },
    {
      "cell_type": "code",
      "source": [
        "y=20\n",
        "def func():\n",
        "  x1=10\n",
        "  y=500\n",
        "  print(\"Hii\",x1,y)\n",
        "\n",
        "func()\n",
        "print('outside function => ', y)"
      ],
      "metadata": {
        "colab": {
          "base_uri": "https://localhost:8080/"
        },
        "id": "620dMOFmaWVI",
        "outputId": "18d8bfb5-01da-4b3e-99f2-7272b4d776f6"
      },
      "execution_count": null,
      "outputs": [
        {
          "output_type": "stream",
          "name": "stdout",
          "text": [
            "Hii 10 500\n",
            "outside function =>  20\n"
          ]
        }
      ]
    },
    {
      "cell_type": "code",
      "source": [
        "# global varible me local change hua vo local show hoga global nhi"
      ],
      "metadata": {
        "id": "o6un4YUFalZM"
      },
      "execution_count": null,
      "outputs": []
    },
    {
      "cell_type": "code",
      "source": [
        "y=20\n",
        "def func():\n",
        "  global y\n",
        "  x1=10\n",
        "  y=500\n",
        "  print(\"Hii\",x1,y)"
      ],
      "metadata": {
        "id": "812E4VAla34T"
      },
      "execution_count": null,
      "outputs": []
    },
    {
      "cell_type": "code",
      "source": [
        "func()\n",
        "print('outside function => ', y)"
      ],
      "metadata": {
        "colab": {
          "base_uri": "https://localhost:8080/"
        },
        "id": "2mOfdqr8a7T_",
        "outputId": "c5a4177f-ee11-4693-8728-6bbbc3a812ce"
      },
      "execution_count": null,
      "outputs": [
        {
          "output_type": "stream",
          "name": "stdout",
          "text": [
            "Hii 10 500\n",
            "outside function =>  500\n"
          ]
        }
      ]
    },
    {
      "cell_type": "code",
      "source": [
        "def func(z):\n",
        "  print(\"Hey Gaurav\",z)\n",
        "\n",
        "func(20)\n",
        "func('Ujjwal')"
      ],
      "metadata": {
        "colab": {
          "base_uri": "https://localhost:8080/"
        },
        "id": "Ld64AlszbOfG",
        "outputId": "bfaf8d17-9ec0-4ad8-ff8b-7cba30e16d73"
      },
      "execution_count": null,
      "outputs": [
        {
          "output_type": "stream",
          "name": "stdout",
          "text": [
            "Hey Gaurav 20\n",
            "Hey Gaurav Ujjwal\n"
          ]
        }
      ]
    },
    {
      "cell_type": "code",
      "source": [
        "# type hinting\n",
        "def func(z:int):\n",
        "  print(\"Hey Gaurav\",z)\n",
        "\n",
        "func(20)\n",
        "func('Yash')"
      ],
      "metadata": {
        "colab": {
          "base_uri": "https://localhost:8080/"
        },
        "id": "aNUXMIN_cP-t",
        "outputId": "fa507fb8-e527-45fc-ea92-ff47f2721811"
      },
      "execution_count": null,
      "outputs": [
        {
          "output_type": "stream",
          "name": "stdout",
          "text": [
            "Hey Gaurav 20\n",
            "Hey Gaurav Yash\n"
          ]
        }
      ]
    },
    {
      "cell_type": "code",
      "source": [
        "def func(z:int,k:str):   # parameter\n",
        "  print(\"Hey Gaurav\",z,k)\n",
        "\n",
        "func(20,'raj')   # argument"
      ],
      "metadata": {
        "colab": {
          "base_uri": "https://localhost:8080/"
        },
        "id": "M1YLnE3Vcxu4",
        "outputId": "d13ceab0-cab0-462a-9277-7ab8eca68f1a"
      },
      "execution_count": null,
      "outputs": [
        {
          "output_type": "stream",
          "name": "stdout",
          "text": [
            "Hey Gaurav 20 raj\n"
          ]
        }
      ]
    },
    {
      "cell_type": "code",
      "source": [],
      "metadata": {
        "id": "HyW8p6MOdH54"
      },
      "execution_count": null,
      "outputs": []
    }
  ]
}