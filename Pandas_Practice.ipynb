{
 "cells": [
  {
   "cell_type": "code",
   "execution_count": null,
   "id": "af899d93",
   "metadata": {},
   "outputs": [],
   "source": [
    "import pandas as pd"
   ]
  },
  {
   "cell_type": "code",
   "execution_count": null,
   "id": "add38894",
   "metadata": {},
   "outputs": [],
   "source": [
    "# Question 1: Create a DataFrame\n",
    "data = {'Name': ['Pranav', 'Chirag', 'Vaibhav'], 'Age': [24, 27, 22], 'City': ['Jaipur', 'Mumbai', 'Delhi']}\n",
    "df = pd.DataFrame(data)\n",
    "print(df)"
   ]
  },
  {
   "cell_type": "code",
   "execution_count": null,
   "id": "b301321c",
   "metadata": {},
   "outputs": [],
   "source": [
    "# Question 2: Add a Column\n",
    "df['Salary'] = [48000, 52000, 47000]\n",
    "print(df)"
   ]
  },
  {
   "cell_type": "code",
   "execution_count": null,
   "id": "01019192",
   "metadata": {},
   "outputs": [],
   "source": [
    "# Question 3: Filter Rows\n",
    "filtered_df = df[df['Age'] > 23]\n",
    "print(filtered_df)"
   ]
  },
  {
   "cell_type": "code",
   "execution_count": null,
   "id": "9a896e06",
   "metadata": {},
   "outputs": [],
   "source": [
    "# Question 4: Calculate Mean\n",
    "mean_age = df['Age'].mean()\n",
    "print(mean_age)"
   ]
  },
  {
   "cell_type": "code",
   "execution_count": null,
   "id": "f938a8c8",
   "metadata": {},
   "outputs": [],
   "source": [
    "# Question 5: Group By and Aggregate\n",
    "grouped = df.groupby('City')['Salary'].mean()\n",
    "print(grouped)"
   ]
  },
  {
   "cell_type": "code",
   "execution_count": null,
   "id": "6f297a1d",
   "metadata": {},
   "outputs": [],
   "source": [
    "# Question 6: Add a Derived Column\n",
    "df['Tax'] = df.apply(lambda row: 0.1 * row['Salary'] if row['Age'] > 25 else 0.05 * row['Salary'], axis=1)\n",
    "print(df)"
   ]
  },
  {
   "cell_type": "code",
   "execution_count": null,
   "id": "257fea0c",
   "metadata": {},
   "outputs": [],
   "source": [
    "# Question 7: Replace Values\n",
    "df['City'] = df['City'].replace('Delhi', 'New Delhi')\n",
    "print(df)"
   ]
  },
  {
   "cell_type": "code",
   "execution_count": null,
   "id": "bed8cafe",
   "metadata": {},
   "outputs": [],
   "source": [
    "# Question 8: Sort by Multiple Columns\n",
    "sorted_df = df.sort_values(by=['Salary', 'Age'], ascending=[False, True])\n",
    "print(sorted_df)"
   ]
  },
  {
   "cell_type": "code",
   "execution_count": null,
   "id": "a73181f4",
   "metadata": {},
   "outputs": [],
   "source": [
    "# Question 9: Pivot Table\n",
    "pivot_table = df.pivot_table(values='Salary', index='City', aggfunc='sum')\n",
    "print(pivot_table)"
   ]
  },
  {
   "cell_type": "code",
   "execution_count": null,
   "id": "a84b5cd4",
   "metadata": {},
   "outputs": [],
   "source": [
    "# Question 10: Handle Missing Values\n",
    "df['Bonus'] = [5000, None, 3000]\n",
    "df['Bonus'] = df['Bonus'].fillna(df['Bonus'].mean())\n",
    "print(df)"
   ]
  }
 ],
 "metadata": {},
 "nbformat": 4,
 "nbformat_minor": 5
}
