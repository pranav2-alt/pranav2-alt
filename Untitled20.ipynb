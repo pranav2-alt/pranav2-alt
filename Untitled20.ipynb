{
 "cells": [
  {
   "cell_type": "code",
   "execution_count": 1,
   "id": "d939adb0-8ba1-4277-b232-c45da3451900",
   "metadata": {},
   "outputs": [
    {
     "name": "stdin",
     "output_type": "stream",
     "text": [
      "Enter a number:  56\n"
     ]
    },
    {
     "name": "stdout",
     "output_type": "stream",
     "text": [
      "even\n"
     ]
    }
   ],
   "source": [
    "# Q1 Write a python program that takes an integer input from the user and checks whether the number is odd or even.\n",
    "num = int(input(\"Enter a number: \"))\n",
    "check = num % 2\n",
    "if check == 0:\n",
    "    print(\"even\")\n",
    "if check != 0:\n",
    "    print(\"odd\")\n"
   ]
  },
  {
   "cell_type": "code",
   "execution_count": 3,
   "id": "c89ea6ba-5cc6-49a8-b7b5-8c1627f99689",
   "metadata": {},
   "outputs": [
    {
     "name": "stdin",
     "output_type": "stream",
     "text": [
      "Enter first number:  34\n",
      "Enter second number:  45\n",
      "Enter third number:  56\n"
     ]
    },
    {
     "name": "stdout",
     "output_type": "stream",
     "text": [
      "56\n"
     ]
    }
   ],
   "source": [
    "# Q2 Write a program that takes three numbers as input and prints the largest of the three.\n",
    "num1 = int(input(\"Enter first number: \"))\n",
    "num2 = int(input(\"Enter second number: \"))\n",
    "num3 = int(input(\"Enter third number: \"))\n",
    "\n",
    "if num1 >= num2 and num1 >= num3:\n",
    "    print(num1)\n",
    "if num2 >= num1 and num2 >= num3:\n",
    "    print(num2)\n",
    "if num3 >= num1 and num3 >= num2:\n",
    "    print(num3)\n"
   ]
  },
  {
   "cell_type": "code",
   "execution_count": 5,
   "id": "e1d8f04f-6709-4a83-80bd-e85efa74bd23",
   "metadata": {},
   "outputs": [
    {
     "name": "stdin",
     "output_type": "stream",
     "text": [
      "Enter a year:  2024\n"
     ]
    },
    {
     "name": "stdout",
     "output_type": "stream",
     "text": [
      "Leap year\n"
     ]
    }
   ],
   "source": [
    "# Q3 Write a program to check if a given year is a leap year. A leap year is divisible by 4 but not by 100 unless it is also divisible by 400.\n",
    "year = int(input(\"Enter a year: \"))\n",
    "\n",
    "if (year % 4 == 0 and year % 100 != 0) or (year % 400 == 0):\n",
    "    print(\"Leap year\")\n",
    "else:\n",
    "    print(\"Not a leap year\")\n"
   ]
  },
  {
   "cell_type": "code",
   "execution_count": 7,
   "id": "ba88ef40-ddda-4d4e-ae01-aaa7a12d36c4",
   "metadata": {},
   "outputs": [
    {
     "name": "stdin",
     "output_type": "stream",
     "text": [
      "Enter percentage:  67\n"
     ]
    },
    {
     "name": "stdout",
     "output_type": "stream",
     "text": [
      "Grade D\n"
     ]
    }
   ],
   "source": [
    "# Q4 Write a program that takes a percentage (integer) as input and prints the corresponding grade based on the following criteria:\n",
    "# >= 90: Grade A\n",
    "# >= 80: Grade B\n",
    "# >= 70: Grade C\n",
    "# >= 60: Grade D\n",
    "# < 60: Grade F\n",
    "percentage = int(input(\"Enter percentage: \"))\n",
    "\n",
    "if percentage >= 90:\n",
    "    print(\"Grade A\")\n",
    "if percentage >= 80 and percentage < 90:\n",
    "    print(\"Grade B\")\n",
    "if percentage >= 70 and percentage < 80:\n",
    "    print(\"Grade C\")\n",
    "if percentage >= 60 and percentage < 70:\n",
    "    print(\"Grade D\")\n",
    "if percentage < 60:\n",
    "    print(\"Grade F\")\n"
   ]
  },
  {
   "cell_type": "code",
   "execution_count": 11,
   "id": "34e11c07-5518-4509-b552-b242c7d849a0",
   "metadata": {},
   "outputs": [
    {
     "name": "stdin",
     "output_type": "stream",
     "text": [
      "Enter a letter:  a\n"
     ]
    },
    {
     "name": "stdout",
     "output_type": "stream",
     "text": [
      "vowel\n"
     ]
    }
   ],
   "source": [
    "# Q5 Write a program that checks if a given letter is a vowel (a, e, i, o, u) or a consonant.\n",
    "letter = input(\"Enter a letter: \")\n",
    "\n",
    "if letter == 'a' or letter == 'e' or letter == 'i' or letter == 'o' or letter == 'u' or letter == 'A' or letter == 'E' or letter == 'I' or letter == 'O' or letter == 'U':\n",
    "    print(\"vowel\")\n",
    "else:\n",
    "    print(\"consonant\")\n"
   ]
  },
  {
   "cell_type": "code",
   "execution_count": 15,
   "id": "be0c1a16-f2b2-44a2-bce9-7cb33f751267",
   "metadata": {},
   "outputs": [
    {
     "name": "stdin",
     "output_type": "stream",
     "text": [
      "Enter first number:  12\n",
      "Enter second number:  23\n",
      "Enter operator (+, -, *, /):  +\n"
     ]
    },
    {
     "name": "stdout",
     "output_type": "stream",
     "text": [
      "35\n"
     ]
    }
   ],
   "source": [
    "# Q6 Write a basic calculator program that takes two numbers and an operator (+, -, *, /) as input and performs the specified operation. Print the result based on the operation.\n",
    "num1 = int(input(\"Enter first number: \"))\n",
    "num2 = int(input(\"Enter second number: \"))\n",
    "operator = input(\"Enter operator (+, -, *, /): \")\n",
    "\n",
    "if operator == '+':\n",
    "    print(num1 + num2)\n",
    "if operator == '-':\n",
    "    print(num1 - num2)\n",
    "if operator == '*':\n",
    "    print(num1 * num2)\n",
    "if operator == '/':\n",
    "    print(num1 / num2)\n"
   ]
  },
  {
   "cell_type": "code",
   "execution_count": 17,
   "id": "79793813-fb94-4364-95c5-aa069bd12e8c",
   "metadata": {},
   "outputs": [
    {
     "name": "stdin",
     "output_type": "stream",
     "text": [
      "Enter a number:  5\n"
     ]
    },
    {
     "name": "stdout",
     "output_type": "stream",
     "text": [
      "Positive\n"
     ]
    }
   ],
   "source": [
    "# Q7 Write a program that takes a number as input and checks whether it is positive, negative, or zero.\n",
    "number = int(input(\"Enter a number: \"))\n",
    "\n",
    "if number > 0:\n",
    "    print(\"Positive\")\n",
    "if number < 0:\n",
    "    print(\"Negative\")\n",
    "if number == 0:\n",
    "    print(\"Zero\")\n"
   ]
  },
  {
   "cell_type": "code",
   "execution_count": 19,
   "id": "1daf23a8-142a-4094-afa8-dce1e34a2911",
   "metadata": {},
   "outputs": [
    {
     "name": "stdin",
     "output_type": "stream",
     "text": [
      "Enter username:  admin\n",
      "Enter password:  1234\n"
     ]
    },
    {
     "name": "stdout",
     "output_type": "stream",
     "text": [
      "Login Successful\n"
     ]
    }
   ],
   "source": [
    "# Q8 Write a program that checks if a username and password entered by the user match the pre-set valuesusername = \"admin\" and password = \"1234\". If both match, print \"Login Successful\", otherwise print \"Login Failed\".\n",
    "username = input(\"Enter username: \")\n",
    "password = input(\"Enter password: \")\n",
    "\n",
    "if username == \"admin\" and password == \"1234\":\n",
    "    print(\"Login Successful\")\n",
    "else:\n",
    "    print(\"Login Failed\")\n"
   ]
  },
  {
   "cell_type": "code",
   "execution_count": 21,
   "id": "3117447f-c641-458f-b935-58eb1a9adb0a",
   "metadata": {},
   "outputs": [
    {
     "name": "stdin",
     "output_type": "stream",
     "text": [
      "Enter first side:  34\n",
      "Enter second side:  45\n",
      "Enter third side:  12\n"
     ]
    },
    {
     "name": "stdout",
     "output_type": "stream",
     "text": [
      "Valid triangle\n"
     ]
    }
   ],
   "source": [
    "# Q9 Write a program that takes three sides of a triangle as input and checks if those sides form a valid triangle. A triangle is valid if the sum of any two sides is greater than the third side. Check conditions like a + b > c, b + c > a, and a + c > b.\n",
    "a = int(input(\"Enter first side: \"))\n",
    "b = int(input(\"Enter second side: \"))\n",
    "c = int(input(\"Enter third side: \"))\n",
    "\n",
    "if a + b > c and b + c > a and a + c > b:\n",
    "    print(\"Valid triangle\")\n",
    "else:\n",
    "    print(\"Invalid triangle\")\n"
   ]
  },
  {
   "cell_type": "code",
   "execution_count": 23,
   "id": "ac6bbb82-6b97-447b-8442-bbb4777dd548",
   "metadata": {},
   "outputs": [
    {
     "name": "stdin",
     "output_type": "stream",
     "text": [
      "Enter weight in kilograms:  45\n",
      "Enter height in meters:  5\n"
     ]
    },
    {
     "name": "stdout",
     "output_type": "stream",
     "text": [
      "Underweight\n"
     ]
    }
   ],
   "source": [
    "# Q10 Write a program that calculates the Body Mass Index (BMI) based on user input for weight (in kilograms) and height (in meters). Then categorize the BMI into:\n",
    "# Underweight (BMI < 18.5)\n",
    "# Normal weight (18.5 <= BMI < 24.9)\n",
    "# Overweight (25 <= BMI < 29.9)\n",
    "# Obesity (BMI >= 30)\n",
    "# Use the formula: BMI = weight / (height ** 2)\n",
    "weight = float(input(\"Enter weight in kilograms: \"))\n",
    "height = float(input(\"Enter height in meters: \"))\n",
    "\n",
    "bmi = weight / (height ** 2)\n",
    "\n",
    "if bmi < 18.5:\n",
    "    print(\"Underweight\")\n",
    "if 18.5 <= bmi < 24.9:\n",
    "    print(\"Normal weight\")\n",
    "if 25 <= bmi < 29.9:\n",
    "    print(\"Overweight\")\n",
    "if bmi >= 30:\n",
    "    print(\"Obesity\")\n"
   ]
  },
  {
   "cell_type": "code",
   "execution_count": 25,
   "id": "70be3a73-8f85-4797-b1a6-8a4c133db47d",
   "metadata": {},
   "outputs": [
    {
     "name": "stdin",
     "output_type": "stream",
     "text": [
      "Enter the price of the product:  100\n"
     ]
    },
    {
     "name": "stdout",
     "output_type": "stream",
     "text": [
      "Final price after discount:  100.0\n"
     ]
    }
   ],
   "source": [
    "# Q11 Write a program that calculates the discount for a product based on its price:\n",
    "# If price is greater than 1000, discount is 10%\n",
    "# If price is between 500 and 1000, discount is 5%\n",
    "# Otherwise, no discount\n",
    "# Print the final price after applying the discount.\n",
    "price = float(input(\"Enter the price of the product: \"))\n",
    "\n",
    "if price > 1000:\n",
    "    discount = 0.10\n",
    "elif price >= 500:\n",
    "    discount = 0.05\n",
    "else:\n",
    "    discount = 0.0\n",
    "\n",
    "final_price = price * (1 - discount)\n",
    "print(\"Final price after discount: \", final_price)\n"
   ]
  },
  {
   "cell_type": "code",
   "execution_count": 30,
   "id": "8ef91a10-d3da-4eea-9941-fa0c60b1dfff",
   "metadata": {},
   "outputs": [
    {
     "name": "stdin",
     "output_type": "stream",
     "text": [
      "Enter the name of the month:  January\n",
      "Enter the year:  2024\n"
     ]
    },
    {
     "name": "stdout",
     "output_type": "stream",
     "text": [
      "31 days\n"
     ]
    }
   ],
   "source": [
    "# Q12 Write a program that takes the name of a month as input and prints the number of days in that month. Consider leap years for February.\n",
    "month = input(\"Enter the name of the month: \")\n",
    "year = int(input(\"Enter the year: \"))\n",
    "\n",
    "if month == \"January\" or month == \"March\" or month == \"May\" or month == \"July\" or month == \"August\" or month == \"October\" or month == \"December\":\n",
    "    print(\"31 days\")\n",
    "elif month == \"April\" or month == \"June\" or month == \"September\" or month == \"November\":\n",
    "    print(\"30 days\")\n",
    "elif month == \"February\":\n",
    "    if (year % 4 == 0 and year % 100 != 0) or (year % 400 == 0):\n",
    "        print(\"29 days (leap year)\")\n",
    "    else:\n",
    "        print(\"28 days\")\n",
    "else:\n",
    "    print(\"Invalid month\")\n"
   ]
  },
  {
   "cell_type": "code",
   "execution_count": null,
   "id": "77cb0a2f-a20c-403c-a30e-dcac90964c7d",
   "metadata": {},
   "outputs": [],
   "source": [
    "# Q13 Write a program that simulates a simple ATM. The user should be able to:\n",
    "# Check balance\n",
    "# Deposit money\n",
    "# Withdraw money (ensure the balance doesn't go negative) Use an if-else structure to handle the user's choices.\n",
    "\n",
    "while True:\n",
    "    print(\"\\nATM Menu:\")\n",
    "    print(\"1. Check Balance\")\n",
    "    print(\"2. Deposit Money\")\n",
    "    print(\"3. Withdraw Money\")\n",
    "    print(\"4. Exit\")\n",
    "    \n",
    "    choice = int(input(\"Enter your choice (1-4): \"))\n",
    "    \n",
    "    if choice == 1:\n",
    "        print(\"Your balance is:\", balance)\n",
    "    \n",
    "    elif choice == 2:\n",
    "        deposit = float(input(\"Enter amount to deposit: \"))\n",
    "        balance += deposit\n",
    "        print(\"Deposit successful. New balance is:\", balance)\n",
    "    \n",
    "    elif choice == 3:\n",
    "        withdraw = float(input(\"Enter amount to withdraw: \"))\n",
    "        if withdraw > balance:\n",
    "            print(\"Insufficient balance. Transaction failed.\")\n",
    "        else:\n",
    "            balance -= withdraw\n",
    "            print(\"Withdrawal successful. New balance is:\", balance)\n",
    "    \n",
    "    elif choice == 4:\n",
    "        print(\"Thank you for using the ATM!\")\n",
    "        break\n",
    "    \n",
    "    else:\n",
    "        print(\"Invalid choice. Please try again.\")\n"
   ]
  },
  {
   "cell_type": "code",
   "execution_count": 32,
   "id": "50edae59-3585-4040-b6e0-81a52af737e2",
   "metadata": {},
   "outputs": [
    {
     "name": "stdin",
     "output_type": "stream",
     "text": [
      "Enter age:  45\n"
     ]
    },
    {
     "name": "stdout",
     "output_type": "stream",
     "text": [
      "Adult\n"
     ]
    }
   ],
   "source": [
    "# Q14 Write a program that categorizes a given age into different groups:\n",
    "# Infant (0-1 year)\n",
    "# Toddler (2-4 years)\n",
    "# Child (5-12 years)\n",
    "# Teenager (13-19 years)\n",
    "# Adult (20-59 years)\n",
    "# Senior (60 years and above)\n",
    "age = int(input(\"Enter age: \"))\n",
    "\n",
    "if age >= 0 and age <= 1:\n",
    "    print(\"Infant\")\n",
    "elif age >= 2 and age <= 4:\n",
    "    print(\"Toddler\")\n",
    "elif age >= 5 and age <= 12:\n",
    "    print(\"Child\")\n",
    "elif age >= 13 and age <= 19:\n",
    "    print(\"Teenager\")\n",
    "elif age >= 20 and age <= 59:\n",
    "    print(\"Adult\")\n",
    "elif age >= 60:\n",
    "    print(\"Senior\")\n",
    "else:\n",
    "    print(\"Invalid age\")\n"
   ]
  },
  {
   "cell_type": "code",
   "execution_count": 34,
   "id": "f61519b0-6bb4-464a-aa24-a4b349e1b081",
   "metadata": {},
   "outputs": [
    {
     "name": "stdin",
     "output_type": "stream",
     "text": [
      "Enter an integer (1-7):  3\n"
     ]
    },
    {
     "name": "stdout",
     "output_type": "stream",
     "text": [
      "Wednesday\n"
     ]
    }
   ],
   "source": [
    "# Q15 Write a program that takes an integer (1-7) as input and prints the corresponding day of the week (1 for Monday, 2 for Tuesday, etc.).\n",
    "day_number = int(input(\"Enter an integer (1-7): \"))\n",
    "\n",
    "if day_number == 1:\n",
    "    print(\"Monday\")\n",
    "elif day_number == 2:\n",
    "    print(\"Tuesday\")\n",
    "elif day_number == 3:\n",
    "    print(\"Wednesday\")\n",
    "elif day_number == 4:\n",
    "    print(\"Thursday\")\n",
    "elif day_number == 5:\n",
    "    print(\"Friday\")\n",
    "elif day_number == 6:\n",
    "    print(\"Saturday\")\n",
    "elif day_number == 7:\n",
    "    print(\"Sunday\")\n",
    "else:\n",
    "    print(\"Invalid input, please enter a number between 1 and 7.\")\n"
   ]
  },
  {
   "cell_type": "code",
   "execution_count": 7,
   "id": "e6808fd0-9065-4639-a213-cd872838f7dc",
   "metadata": {},
   "outputs": [
    {
     "ename": "SyntaxError",
     "evalue": "invalid syntax. Perhaps you forgot a comma? (1959378563.py, line 1)",
     "output_type": "error",
     "traceback": [
      "\u001b[1;36m  Cell \u001b[1;32mIn[7], line 1\u001b[1;36m\u001b[0m\n\u001b[1;33m    city=int(input(\"Enter The City:\")\u001b[0m\n\u001b[1;37m             ^\u001b[0m\n\u001b[1;31mSyntaxError\u001b[0m\u001b[1;31m:\u001b[0m invalid syntax. Perhaps you forgot a comma?\n"
     ]
    }
   ],
   "source": [
    "city=int(input(\"Enter The City:\")\n",
    "age=int(input(\"Enter The Age:\")\n",
    "    if(x>18 and city = \"Jaipur\"):\n",
    "        print(\"You are Adult\")\n",
    "          if (city==\"jaipur\"):\n",
    "            print(\"You are from jaipur\")\n",
    "            "
   ]
  },
  {
   "cell_type": "code",
   "execution_count": 15,
   "id": "d39c1aec-2721-4c80-9503-f8f90d0ec088",
   "metadata": {},
   "outputs": [
    {
     "name": "stdin",
     "output_type": "stream",
     "text": [
      "Enter The Number: 5\n"
     ]
    },
    {
     "name": "stdout",
     "output_type": "stream",
     "text": [
      "Odd Number\n"
     ]
    }
   ],
   "source": [
    "n=int(input(\"Enter The Number:\"))\n",
    "if(n%2!=0):\n",
    "    print(\"Odd Number\")\n",
    "    if(n%5==0 and n%7==0):\n",
    "      print(\"divissible by 5 and 7\")"
   ]
  },
  {
   "cell_type": "code",
   "execution_count": 17,
   "id": "55b85029-c816-47e6-9dc3-82e9b6857c13",
   "metadata": {},
   "outputs": [
    {
     "name": "stdout",
     "output_type": "stream",
     "text": [
      "Hello\n",
      "Hello\n",
      "Hello\n"
     ]
    }
   ],
   "source": [
    "# basic loops\n",
    "# for , while\n",
    "\n",
    "# for ===> number of iteration/repeatation are decided\n",
    "# for variable in range(start, stop, [step])\n",
    "# 4 ( stopping that is excluded)\n",
    "for x in range(1,4):\n",
    "    print(\"Hello\")"
   ]
  },
  {
   "cell_type": "code",
   "execution_count": 35,
   "id": "6808c8b2-4b54-4e1d-ad46-163b74dfff3f",
   "metadata": {},
   "outputs": [
    {
     "name": "stdout",
     "output_type": "stream",
     "text": [
      "2353167545440149328190807524689507368021356707840000000\n"
     ]
    }
   ],
   "source": [
    "product=1\n",
    "for x in range(80,50,-1):\n",
    "    product=product*x\n",
    "print(product)"
   ]
  },
  {
   "cell_type": "code",
   "execution_count": 61,
   "id": "5351c889-19b4-46d9-b319-6652f8bbfd0d",
   "metadata": {},
   "outputs": [
    {
     "ename": "IndentationError",
     "evalue": "unexpected indent (3809101493.py, line 9)",
     "output_type": "error",
     "traceback": [
      "\u001b[1;36m  Cell \u001b[1;32mIn[61], line 9\u001b[1;36m\u001b[0m\n\u001b[1;33m    else:\u001b[0m\n\u001b[1;37m    ^\u001b[0m\n\u001b[1;31mIndentationError\u001b[0m\u001b[1;31m:\u001b[0m unexpected indent\n"
     ]
    }
   ],
   "source": [
    "even=0\n",
    "odd=0\n",
    "evensum=0\n",
    "oddsum=0\n",
    "for x in range(0,20):\n",
    "    if(x%2==0):\n",
    "        evensum=evensum+x\n",
    "        print(f\"Even is :\",{x})\n",
    "    else:\n",
    "        print(f\"odd is :\",{x})\n",
    "        oddsum=oddsum+x\n",
    "\n",
    "    \n"
   ]
  },
  {
   "cell_type": "code",
   "execution_count": 63,
   "id": "5a868db9-6107-47f6-a4e6-a87e9b2e9a6e",
   "metadata": {},
   "outputs": [
    {
     "name": "stdout",
     "output_type": "stream",
     "text": [
      "126\n"
     ]
    }
   ],
   "source": [
    "# for +> fixed\n",
    "# while -> not fixed , if variable is affected => loop to be affected\n",
    "\n",
    "number = 10\n",
    "sum = 0\n",
    "\n",
    "while number <= 18:\n",
    "    sum = sum + number\n",
    "    number = number + 1\n",
    "\n",
    "print(sum)\n"
   ]
  },
  {
   "cell_type": "code",
   "execution_count": 65,
   "id": "ca10c951-bc37-4116-9be3-b1396d3873d0",
   "metadata": {},
   "outputs": [
    {
     "name": "stdout",
     "output_type": "stream",
     "text": [
      "6\n",
      "12\n",
      "18\n",
      "24\n",
      "30\n",
      "36\n",
      "42\n",
      "48\n",
      "54\n",
      "60\n",
      "66\n",
      "72\n",
      "78\n",
      "84\n",
      "90\n"
     ]
    }
   ],
   "source": [
    "count = 0\n",
    "num = 1\n",
    "\n",
    "while count < 15:\n",
    "    if num % 6 == 0:\n",
    "        print(num)\n",
    "        count += 1\n",
    "    num += 1\n"
   ]
  },
  {
   "cell_type": "code",
   "execution_count": null,
   "id": "1ede86ab-55a5-43be-a90c-baff09c85bf1",
   "metadata": {},
   "outputs": [],
   "source": []
  }
 ],
 "metadata": {
  "kernelspec": {
   "display_name": "Python 3 (ipykernel)",
   "language": "python",
   "name": "python3"
  },
  "language_info": {
   "codemirror_mode": {
    "name": "ipython",
    "version": 3
   },
   "file_extension": ".py",
   "mimetype": "text/x-python",
   "name": "python",
   "nbconvert_exporter": "python",
   "pygments_lexer": "ipython3",
   "version": "3.12.4"
  }
 },
 "nbformat": 4,
 "nbformat_minor": 5
}
