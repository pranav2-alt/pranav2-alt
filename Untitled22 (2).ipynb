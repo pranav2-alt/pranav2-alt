{
 "cells": [
  {
   "cell_type": "code",
   "execution_count": 5,
   "id": "73e04a2c-06f2-402d-bd69-5e094711a22f",
   "metadata": {},
   "outputs": [
    {
     "name": "stdin",
     "output_type": "stream",
     "text": [
      "Enter the number: 5\n"
     ]
    },
    {
     "name": "stdout",
     "output_type": "stream",
     "text": [
      "*****\n",
      " *****\n",
      "  *****\n",
      "   *****\n",
      "    *****\n"
     ]
    }
   ],
   "source": [
    "num = int(input(\"Enter the number:\"))\n",
    "for i in range(0, num):\n",
    "    for j in range(1, i+1):\n",
    "        print(\" \", end=\"\")\n",
    "    for j in range(0, num):\n",
    "        print(\"*\", end=\"\")\n",
    "    print()\n"
   ]
  },
  {
   "cell_type": "code",
   "execution_count": 18,
   "id": "e47b2565-effe-4e31-b228-24a0c60ac615",
   "metadata": {},
   "outputs": [
    {
     "name": "stdin",
     "output_type": "stream",
     "text": [
      "Enter rows: 5\n",
      "Enter Cols: 6\n"
     ]
    },
    {
     "name": "stdout",
     "output_type": "stream",
     "text": [
      "******\n",
      "*    *\n",
      "*    *\n",
      "*    *\n",
      "******\n"
     ]
    }
   ],
   "source": [
    "rows = int(input(\"Enter rows:\"))\n",
    "col = int(input(\"Enter Cols:\"))\n",
    "\n",
    "for i in range(0, rows):\n",
    "    for j in range(0, col):\n",
    "        if i==0 or j==0 or i == rows-1 or j == col-1:\n",
    "            print(\"*\", end=\"\")\n",
    "        else:\n",
    "            print(\" \", end=\"\")\n",
    "    print()"
   ]
  },
  {
   "cell_type": "code",
   "execution_count": 23,
   "id": "cf7de2db-5402-4183-9c32-0d1f1c5c2f73",
   "metadata": {},
   "outputs": [
    {
     "name": "stdout",
     "output_type": "stream",
     "text": [
      "A \n",
      "A B \n",
      "A B C \n",
      "A B C D \n",
      "A B C D E \n"
     ]
    }
   ],
   "source": [
    "for i in range(65,70):\n",
    "    for j in range(65,i+1):\n",
    "        print(chr(j),end=\" \")\n",
    "    print()"
   ]
  },
  {
   "cell_type": "code",
   "execution_count": 45,
   "id": "5b13f95c-435d-460e-b641-223be07fac9e",
   "metadata": {},
   "outputs": [
    {
     "name": "stdout",
     "output_type": "stream",
     "text": [
      "A \n",
      "B B \n",
      "C C C \n",
      "D D D D \n",
      "E E E E E \n"
     ]
    }
   ],
   "source": [
    "for i in range(65,70):\n",
    "    for j in range(65,i+1):\n",
    "        print(chr(i),end=\" \")\n",
    "    print()"
   ]
  },
  {
   "cell_type": "code",
   "execution_count": 41,
   "id": "188c389d-a9ac-4935-9a88-907f91f2b766",
   "metadata": {},
   "outputs": [
    {
     "name": "stdout",
     "output_type": "stream",
     "text": [
      "          1 \n",
      "        1 2 \n",
      "      1 2 3 \n",
      "    1 2 3 4 \n",
      "  1 2 3 4 5 \n"
     ]
    }
   ],
   "source": [
    "rows = 6\n",
    "for i in range(1, rows):\n",
    "    num = 1\n",
    "    for j in range(rows, 0, -1):\n",
    "        if j > i:\n",
    "            print(\" \", end=' ')\n",
    "        else:\n",
    "            print(num, end=' ')\n",
    "            num += 1\n",
    "    print(\"\")"
   ]
  },
  {
   "cell_type": "code",
   "execution_count": 43,
   "id": "051db3bb-541a-41e6-bbf1-a1820fe833ac",
   "metadata": {},
   "outputs": [
    {
     "name": "stdin",
     "output_type": "stream",
     "text": [
      "Enter the Number:  5\n"
     ]
    },
    {
     "name": "stdout",
     "output_type": "stream",
     "text": [
      "*\n",
      "**\n",
      "***\n",
      "****\n",
      "*****\n",
      "****\n",
      "***\n",
      "**\n",
      "*\n"
     ]
    }
   ],
   "source": [
    "num = int(input(\"Enter the Number: \"))\n",
    "\n",
    "for i in range(0, num):\n",
    "    for j in range(0, i+1):\n",
    "        print(\"*\", end=\"\")\n",
    "    print()\n",
    "\n",
    "for i in range(1, num):\n",
    "    for j in range(0, num-i):\n",
    "        print(\"*\", end=\"\")\n",
    "    print()"
   ]
  },
  {
   "cell_type": "code",
   "execution_count": 1,
   "id": "9dca1e33-39db-4120-b0c4-9212a3e467ff",
   "metadata": {},
   "outputs": [
    {
     "name": "stdin",
     "output_type": "stream",
     "text": [
      "Enter the number of rows:  5\n"
     ]
    },
    {
     "name": "stdout",
     "output_type": "stream",
     "text": [
      "        * \n",
      "      * * * \n",
      "    * * * * * \n",
      "  * * * * * * * \n",
      "* * * * * * * * * \n"
     ]
    }
   ],
   "source": [
    "n = int(input(\"Enter the number of rows: \"))  \n",
    "\n",
    "for i in range(1,n+1):  \n",
    "    for j in range(i,n):  \n",
    "        print(\" \", end=\" \")   \n",
    "    for k in range(1,2*i):\n",
    "        print(\"*\",end =\" \")\n",
    "    print()"
   ]
  },
  {
   "cell_type": "code",
   "execution_count": 2,
   "id": "280737fd-2210-4453-87e6-f489938dc210",
   "metadata": {},
   "outputs": [
    {
     "name": "stdout",
     "output_type": "stream",
     "text": [
      "1 \n",
      "1 0 \n",
      "1 0 1 \n",
      "1 0 1 0 \n",
      "1 0 1 0 1 \n"
     ]
    }
   ],
   "source": [
    "n = 5  \n",
    "for i in range(n):\n",
    "    k = \"\"  \n",
    "    for j in range(i + 1):\n",
    "        if j % 2 == 0:\n",
    "            k += \"1 \"\n",
    "        else:\n",
    "            k += \"0 \"\n",
    "    print(k) "
   ]
  },
  {
   "cell_type": "code",
   "execution_count": 19,
   "id": "6e49a70c-95bd-4cc4-a009-ed52d9fe4b1d",
   "metadata": {},
   "outputs": [
    {
     "name": "stdout",
     "output_type": "stream",
     "text": [
      "1 \n",
      "0 1 \n",
      "1 0 1 \n",
      "0 1 0 1 \n",
      "1 0 1 0 1 \n"
     ]
    }
   ],
   "source": [
    "for i in range(1, 6):\n",
    "    for j in range(i, i+i):\n",
    "        print(j%2, end=\" \")\n",
    "    print()\n"
   ]
  },
  {
   "cell_type": "code",
   "execution_count": 51,
   "id": "4ecd94cc-614e-4d7e-91e4-f8ba790601d9",
   "metadata": {},
   "outputs": [
    {
     "name": "stdout",
     "output_type": "stream",
     "text": [
      "1 2 3 4 5 \n",
      "  1 2 3 \n",
      "    1 \n"
     ]
    }
   ],
   "source": [
    "num = 6\n",
    "for i in range(num, 0, -2):\n",
    "    for j in range(0, num-i):\n",
    "        print(end=\" \")\n",
    "    for j in range(1, i):\n",
    "        print(j, end=\" \")\n",
    "    print()\n"
   ]
  },
  {
   "cell_type": "code",
   "execution_count": 41,
   "id": "46d2388b-3883-4001-b632-06bc790b92b0",
   "metadata": {},
   "outputs": [
    {
     "name": "stdout",
     "output_type": "stream",
     "text": [
      "* * * * * \n",
      " * * * * \n",
      "  * * * \n",
      "   * * \n",
      "    * \n"
     ]
    }
   ],
   "source": [
    "num = 5\n",
    "\n",
    "for i in range(num, 0, -1):\n",
    "    for j in range(0, num-i):\n",
    "        print(end=\" \")\n",
    "    for j in range(0, i):\n",
    "        print(\"*\", end=\" \")\n",
    "    print()\n"
   ]
  },
  {
   "cell_type": "code",
   "execution_count": 53,
   "id": "590a5307-b87d-45b7-9dbd-ce7301d5cbf3",
   "metadata": {},
   "outputs": [
    {
     "name": "stdout",
     "output_type": "stream",
     "text": [
      "     * \n",
      "    * * \n",
      "   * * * \n",
      "  * * * * \n",
      " * * * * * \n"
     ]
    }
   ],
   "source": [
    "for i in range(5):\n",
    "    for j in range(5, i, -1):\n",
    "        print(\" \", end=\"\")\n",
    "    for k in range(i + 1):\n",
    "        print(\"* \", end=\"\")\n",
    "    print()"
   ]
  },
  {
   "cell_type": "code",
   "execution_count": 64,
   "id": "2ce58989-aed2-4227-9609-98e463b09d72",
   "metadata": {},
   "outputs": [
    {
     "name": "stdout",
     "output_type": "stream",
     "text": [
      "1 2 3 4 5 \n",
      " 1 2 3 4 \n",
      "  1 2 3 \n",
      "   1 2 \n",
      "    1 \n",
      "     \n"
     ]
    }
   ],
   "source": [
    "num = 6\n",
    "\n",
    "for i in range(num, 0, -1):\n",
    "    for j in range(0, num-i):\n",
    "        print(end=\" \")\n",
    "    for k in range(1, i):\n",
    "        print(k, end=\" \")\n",
    "    print()\n"
   ]
  },
  {
   "cell_type": "code",
   "execution_count": 68,
   "id": "a460e436-492a-4abf-8f64-bc28d8627ce2",
   "metadata": {},
   "outputs": [
    {
     "name": "stdout",
     "output_type": "stream",
     "text": [
      "1 \n",
      "2 1 \n",
      "3 2 1 \n",
      "4 3 2 1 \n",
      "5 4 3 2 1 \n"
     ]
    }
   ],
   "source": [
    "for r in range(1,6):\n",
    "    for c in range(r,0,-1):\n",
    "        print(c,end=' ')\n",
    "    print()"
   ]
  },
  {
   "cell_type": "code",
   "execution_count": 1,
   "id": "eba2667c-8b53-480d-91ae-a7c73be88b5f",
   "metadata": {},
   "outputs": [
    {
     "name": "stdin",
     "output_type": "stream",
     "text": [
      "Enter the Number  4\n"
     ]
    },
    {
     "name": "stdout",
     "output_type": "stream",
     "text": [
      "   1\n",
      "  212\n",
      " 32123\n",
      "4321234\n"
     ]
    }
   ],
   "source": [
    "row = int(input('Enter the Number '))\n",
    "for i in range(1,row+1):\n",
    "    for j in range(1, row+1-i):\n",
    "        print(' ', end='')\n",
    "    for j in range(i,0,-1):\n",
    "        print(j, end='')      \n",
    "    for j in range(2,i+1):\n",
    "        print(j, end='')\n",
    "    print()"
   ]
  },
  {
   "cell_type": "code",
   "execution_count": 11,
   "id": "d549991d-edf8-43ab-96e5-bae6bc18d2e4",
   "metadata": {},
   "outputs": [
    {
     "name": "stdin",
     "output_type": "stream",
     "text": [
      "Enter number :  5\n"
     ]
    },
    {
     "name": "stdout",
     "output_type": "stream",
     "text": [
      "     *\n",
      "    * *\n",
      "   *   *\n",
      "  *     *\n",
      " *********\n"
     ]
    }
   ],
   "source": [
    "row = int(input('Enter number : '))\n",
    "\n",
    "for i in range(row):\n",
    "    for j in range(row-i):\n",
    "        print(' ', end='') \n",
    "    \n",
    "    for j in range(2*i+1):\n",
    "        if j==0 or j==2*i or i==row-1:\n",
    "            print('*',end='')\n",
    "        else:\n",
    "            print(' ', end='')\n",
    "    print() "
   ]
  },
  {
   "cell_type": "code",
   "execution_count": 9,
   "id": "0a20f032-b1f2-4ed9-89ce-e7bfa0b692ca",
   "metadata": {},
   "outputs": [
    {
     "name": "stdout",
     "output_type": "stream",
     "text": [
      "🌹\n"
     ]
    }
   ],
   "source": [
    "print(\"\\U0001f339\")"
   ]
  },
  {
   "cell_type": "code",
   "execution_count": null,
   "id": "6655ee38-53be-4662-8cc7-186875ff070f",
   "metadata": {},
   "outputs": [],
   "source": []
  }
 ],
 "metadata": {
  "kernelspec": {
   "display_name": "Python 3 (ipykernel)",
   "language": "python",
   "name": "python3"
  },
  "language_info": {
   "codemirror_mode": {
    "name": "ipython",
    "version": 3
   },
   "file_extension": ".py",
   "mimetype": "text/x-python",
   "name": "python",
   "nbconvert_exporter": "python",
   "pygments_lexer": "ipython3",
   "version": "3.12.4"
  }
 },
 "nbformat": 4,
 "nbformat_minor": 5
}
