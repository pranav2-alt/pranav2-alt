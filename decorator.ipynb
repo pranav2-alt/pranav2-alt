{
 "cells": [
  {
   "cell_type": "code",
   "execution_count": 3,
   "id": "54359f54-4064-4f73-af4a-af573a34f96a",
   "metadata": {},
   "outputs": [],
   "source": [
    "# Decoraters in Python\n",
    "# In Python decoraters are a way to modify or enhance the behaviour of functions and methods without directlty changing their code\n",
    "# In OOPS decoraters are commonly used to extend the functionality of class method and functions or even the entire class in a clean and reusable way"
   ]
  },
  {
   "cell_type": "code",
   "execution_count": 9,
   "id": "901113e4-ef96-4773-b620-51b476f78f6f",
   "metadata": {},
   "outputs": [
    {
     "name": "stdout",
     "output_type": "stream",
     "text": [
      "Function 'greet' is called\n",
      "Hello, Pranav!\n",
      "Function 'greet' finished execution\n"
     ]
    }
   ],
   "source": [
    "# Decorater Fucntion\n",
    "def log_decorater(func):\n",
    "    def wrapper(*args, **kwargs):\n",
    "        print(f\"Function '{func.__name__}' is called\")\n",
    "        result = func(*args, **kwargs) # call the original function\n",
    "        print(f\"Function '{func.__name__}' finished execution\")\n",
    "        return result\n",
    "    return wrapper\n",
    "\n",
    "# using the decorater\n",
    "@log_decorater\n",
    "def greet(name):\n",
    "    print(f\"Hello, {name}!\")\n",
    "\n",
    "# call the function\n",
    "greet(\"Pranav\")\n",
    "    "
   ]
  },
  {
   "cell_type": "code",
   "execution_count": 1,
   "id": "15b59cb4-d207-4263-9d8d-f1a56c4c1176",
   "metadata": {},
   "outputs": [
    {
     "name": "stdout",
     "output_type": "stream",
     "text": [
      "Before function execution\n",
      "Hello, World!\n",
      "After function execution\n"
     ]
    }
   ],
   "source": [
    "def decorator(func):\n",
    "    def wrapper():\n",
    "        print(\"Before function execution\")\n",
    "        func()\n",
    "        print(\"After function execution\")\n",
    "    return wrapper\n",
    "\n",
    "@decorator\n",
    "def say_hello():\n",
    "    print(\"Hello, World!\")\n",
    "\n",
    "say_hello()\n"
   ]
  },
  {
   "cell_type": "code",
   "execution_count": 3,
   "id": "5336d68c-9c1c-45fc-98fa-8d3df087246d",
   "metadata": {},
   "outputs": [
    {
     "name": "stdout",
     "output_type": "stream",
     "text": [
      "Decorator added functionality\n",
      "Hello, Pranav!\n"
     ]
    }
   ],
   "source": [
    "# decorators with arguments\n",
    "def decorator(func):\n",
    "    def wrapper(name):\n",
    "        print(\"Decorator added functionality\")\n",
    "        func(name)\n",
    "    return wrapper\n",
    "\n",
    "@decorator\n",
    "def greet(name):\n",
    "    print(f\"Hello, {name}!\")\n",
    "\n",
    "greet(\"Pranav\")\n"
   ]
  },
  {
   "cell_type": "code",
   "execution_count": null,
   "id": "f4a05d22-3a7d-4678-a68a-99e15ec476c4",
   "metadata": {},
   "outputs": [],
   "source": [
    "# Multip"
   ]
  }
 ],
 "metadata": {
  "kernelspec": {
   "display_name": "Python 3 (ipykernel)",
   "language": "python",
   "name": "python3"
  },
  "language_info": {
   "codemirror_mode": {
    "name": "ipython",
    "version": 3
   },
   "file_extension": ".py",
   "mimetype": "text/x-python",
   "name": "python",
   "nbconvert_exporter": "python",
   "pygments_lexer": "ipython3",
   "version": "3.12.4"
  }
 },
 "nbformat": 4,
 "nbformat_minor": 5
}
