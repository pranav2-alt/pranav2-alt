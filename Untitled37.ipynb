{
 "cells": [
  {
   "cell_type": "code",
   "execution_count": 1,
   "id": "d2fae305-2d95-4f46-bf11-aefdab118429",
   "metadata": {},
   "outputs": [
    {
     "name": "stdout",
     "output_type": "stream",
     "text": [
      "Task 'Package Delivery' assigned to Drone D001.\n",
      "Task 'Area Surveillance' assigned to Drone D002.\n",
      "{'ID': 'D001', 'Type': 'Delivery', 'Status': 'Performing Package Delivery', 'Battery': 80}\n",
      "{'ID': 'D002', 'Type': 'Surveillance', 'Status': 'Performing Area Surveillance', 'Battery': 80}\n",
      "{'ID': 'D003', 'Type': 'Mapping', 'Status': 'Idle', 'Battery': 100}\n",
      "{'ID': 'D001', 'Type': 'Delivery', 'Status': 'Idle', 'Battery': 100}\n",
      "{'ID': 'D002', 'Type': 'Surveillance', 'Status': 'Idle', 'Battery': 100}\n",
      "{'ID': 'D003', 'Type': 'Mapping', 'Status': 'Idle', 'Battery': 100}\n"
     ]
    }
   ],
   "source": [
    "class Drone:\n",
    "    def __init__(self, drone_id, drone_type):\n",
    "        self.drone_id = drone_id\n",
    "        self.drone_type = drone_type\n",
    "        self.status = \"Idle\"\n",
    "        self.battery = 100\n",
    "\n",
    "    def assign_task(self, task):\n",
    "        if self.status == \"Idle\" and self.battery > 20:\n",
    "            self.status = f\"Performing {task}\"\n",
    "            self.battery -= 20\n",
    "        else:\n",
    "            self.status = \"Unavailable\"\n",
    "\n",
    "    def recharge(self):\n",
    "        self.battery = 100\n",
    "        self.status = \"Idle\"\n",
    "\n",
    "    def get_status(self):\n",
    "        return {\n",
    "            \"ID\": self.drone_id,\n",
    "            \"Type\": self.drone_type,\n",
    "            \"Status\": self.status,\n",
    "            \"Battery\": self.battery\n",
    "        }\n",
    "\n",
    "class DroneFleet:\n",
    "    def __init__(self):\n",
    "        self.drones = []\n",
    "\n",
    "    def add_drone(self, drone):\n",
    "        self.drones.append(drone)\n",
    "\n",
    "    def assign_task_to_drone(self, drone_id, task):\n",
    "        for drone in self.drones:\n",
    "            if drone.drone_id == drone_id:\n",
    "                drone.assign_task(task)\n",
    "                return f\"Task '{task}' assigned to Drone {drone_id}.\"\n",
    "        return f\"Drone {drone_id} not found.\"\n",
    "\n",
    "    def recharge_all(self):\n",
    "        for drone in self.drones:\n",
    "            drone.recharge()\n",
    "\n",
    "    def fleet_summary(self):\n",
    "        return [drone.get_status() for drone in self.drones]\n",
    "\n",
    "# Example usage\n",
    "fleet = DroneFleet()\n",
    "\n",
    "# Adding drones\n",
    "fleet.add_drone(Drone(\"D001\", \"Delivery\"))\n",
    "fleet.add_drone(Drone(\"D002\", \"Surveillance\"))\n",
    "fleet.add_drone(Drone(\"D003\", \"Mapping\"))\n",
    "\n",
    "# Assigning tasks\n",
    "print(fleet.assign_task_to_drone(\"D001\", \"Package Delivery\"))\n",
    "print(fleet.assign_task_to_drone(\"D002\", \"Area Surveillance\"))\n",
    "\n",
    "# Displaying fleet summary\n",
    "for drone in fleet.fleet_summary():\n",
    "    print(drone)\n",
    "\n",
    "# Recharging all drones\n",
    "fleet.recharge_all()\n",
    "\n",
    "# Displaying fleet summary after recharge\n",
    "for drone in fleet.fleet_summary():\n",
    "    print(drone)\n"
   ]
  },
  {
   "cell_type": "code",
   "execution_count": null,
   "id": "7779c952-6b8a-4108-be29-3e98aab78b18",
   "metadata": {},
   "outputs": [],
   "source": []
  }
 ],
 "metadata": {
  "kernelspec": {
   "display_name": "Python 3 (ipykernel)",
   "language": "python",
   "name": "python3"
  },
  "language_info": {
   "codemirror_mode": {
    "name": "ipython",
    "version": 3
   },
   "file_extension": ".py",
   "mimetype": "text/x-python",
   "name": "python",
   "nbconvert_exporter": "python",
   "pygments_lexer": "ipython3",
   "version": "3.12.4"
  }
 },
 "nbformat": 4,
 "nbformat_minor": 5
}
