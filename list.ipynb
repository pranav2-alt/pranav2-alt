{
 "cells": [
  {
   "cell_type": "code",
   "execution_count": 1,
   "id": "6dfb26a0-56eb-4994-94e2-9b153fe6e3e5",
   "metadata": {},
   "outputs": [
    {
     "name": "stdout",
     "output_type": "stream",
     "text": [
      "--*\n",
      "-***\n",
      "*****\n"
     ]
    }
   ],
   "source": [
    "for i in range(0,3):\n",
    "    for s in range(0,2-i):\n",
    "        print(\"-\",end=\"\")\n",
    "    for j in range(0,2*i+1):\n",
    "        print(\"*\",end=\"\")\n",
    "    print()"
   ]
  },
  {
   "cell_type": "code",
   "execution_count": 3,
   "id": "5b1bdcc1-af25-4019-986d-3e50a920de62",
   "metadata": {},
   "outputs": [
    {
     "name": "stdout",
     "output_type": "stream",
     "text": [
      "*******\n",
      "-*****\n",
      "--***\n",
      "---*\n"
     ]
    }
   ],
   "source": [
    "for i in range(7,0,-2):\n",
    "    for s in range(7,i,-2):\n",
    "        print(\"-\",end=\"\")\n",
    "    for j in range(i):\n",
    "        print(\"*\",end=\"\")\n",
    "    print()"
   ]
  },
  {
   "cell_type": "code",
   "execution_count": 5,
   "id": "15f8958d-5872-4397-abd6-36c3a909e34e",
   "metadata": {},
   "outputs": [
    {
     "name": "stdout",
     "output_type": "stream",
     "text": [
      "*******\n",
      "-*****\n",
      "--***\n",
      "---*\n"
     ]
    }
   ],
   "source": [
    "for i in range(7,0,-2):\n",
    "    for s in range(7,i,-2):\n",
    "        print(\"-\",end=\"\")\n",
    "    for j in range(1,i+1):\n",
    "        print(\"*\",end=\"\")\n",
    "    print()"
   ]
  },
  {
   "cell_type": "code",
   "execution_count": 13,
   "id": "d48c50d1-f6f9-4bd0-bfb7-aa1921ce4fc3",
   "metadata": {},
   "outputs": [
    {
     "name": "stdout",
     "output_type": "stream",
     "text": [
      "0 10\n",
      "1 10\n",
      "2 10\n",
      "3 10\n",
      "4 9\n",
      "[80, 60, 20, 10, 9]\n"
     ]
    }
   ],
   "source": [
    "list2=[10,20,60,80,9]\n",
    "for i in range(0,len(list2)):\n",
    "    print(i,list2[i])\n",
    "    for j in range(i+1,len(list2)):\n",
    "        if list2[i]<list2[j]:\n",
    "            list2[i],list2[j]=list2[j],list2[i]\n",
    "print(list2)"
   ]
  },
  {
   "cell_type": "code",
   "execution_count": 25,
   "id": "f78d91c2-ca92-4d59-94a6-3dcf28462d55",
   "metadata": {},
   "outputs": [
    {
     "data": {
      "text/plain": [
       "5"
      ]
     },
     "execution_count": 25,
     "metadata": {},
     "output_type": "execute_result"
    }
   ],
   "source": [
    "prices = [7,1,5,3,6,4]\n",
    "a=min(prices)\n",
    "b=prices.index(a)\n",
    "max=0\n",
    "for i in range(b,len(prices)):\n",
    "    profit=prices[i]- a\n",
    "    if profit>max:\n",
    "        max=profit\n",
    "max"
   ]
  },
  {
   "cell_type": "code",
   "execution_count": 27,
   "id": "18ee424e-9283-4a16-944c-b9992996b832",
   "metadata": {},
   "outputs": [
    {
     "data": {
      "text/plain": [
       "5"
      ]
     },
     "execution_count": 27,
     "metadata": {},
     "output_type": "execute_result"
    }
   ],
   "source": [
    "prices = [7,1,5,3,6,4]\n",
    "max=0\n",
    "for i in range(0,len(prices)):\n",
    "    for j in range(i+1,len(prices)):\n",
    "        if prices[j]-prices[i]>max:\n",
    "            max=prices[j]-prices[i]\n",
    "max"
   ]
  },
  {
   "cell_type": "code",
   "execution_count": 7,
   "id": "61766ffb-8cb3-4165-86af-71de1b0f913c",
   "metadata": {},
   "outputs": [
    {
     "data": {
      "text/plain": [
       "[7, 6, 5, 3, 1, 4]"
      ]
     },
     "execution_count": 7,
     "metadata": {},
     "output_type": "execute_result"
    }
   ],
   "source": [
    "li = [7,1,5,3,6,4]\n",
    "i=0\n",
    "j=len(li)-1\n",
    "while i<j:\n",
    "    if li[i]<li[j]:\n",
    "        li[i],li[j]=li[j],li[i]\n",
    "    else:\n",
    "        i+=1\n",
    "        j-=1\n",
    "li"
   ]
  },
  {
   "cell_type": "code",
   "execution_count": 5,
   "id": "edfa4f8a-7b35-49af-9795-8c6e2df42f2c",
   "metadata": {},
   "outputs": [
    {
     "data": {
      "text/plain": [
       "[7, 6, 1, 3, 5, 4]"
      ]
     },
     "execution_count": 5,
     "metadata": {},
     "output_type": "execute_result"
    }
   ],
   "source": [
    "li = [7,1,5,3,6,4]\n",
    "j=len(li)-1\n",
    "for i in range(0,len(li)-1):\n",
    "    if li[i]<li[j]:\n",
    "        li[i],li[j]=li[j],li[i]\n",
    "    else:\n",
    "        j-=1\n",
    "li"
   ]
  },
  {
   "cell_type": "code",
   "execution_count": 6,
   "id": "7f2cec51-e761-480e-b868-d3d523e617b1",
   "metadata": {},
   "outputs": [
    {
     "data": {
      "text/plain": [
       "5"
      ]
     },
     "execution_count": 6,
     "metadata": {},
     "output_type": "execute_result"
    }
   ],
   "source": [
    "li = [7,1,5,3,6,4]\n",
    "mini=li[0]\n",
    "for i in range(0,len(li)):\n",
    "    if li[i]<mini:\n",
    "        mini=li[i]\n",
    "b=li.index(mini)\n",
    "max=0\n",
    "for i in range(b,len(li)):\n",
    "    profit=li[i]- mini\n",
    "    if profit>max:\n",
    "        max=profit\n",
    "max"
   ]
  },
  {
   "cell_type": "code",
   "execution_count": 7,
   "id": "0902d379-8b4c-4e4c-a171-7c6da8fc55ab",
   "metadata": {},
   "outputs": [
    {
     "data": {
      "text/plain": [
       "4"
      ]
     },
     "execution_count": 7,
     "metadata": {},
     "output_type": "execute_result"
    }
   ],
   "source": [
    "li = [7,1,5,6,4,3]\n",
    "max=0\n",
    "for i in range(0,len(li)-1):\n",
    "    profit=li[i+1]-li[i]\n",
    "    if profit>max:\n",
    "        max=profit\n",
    "max"
   ]
  },
  {
   "cell_type": "code",
   "execution_count": 8,
   "id": "0d2839b7-8125-4f3b-98c4-8f77acdfe673",
   "metadata": {},
   "outputs": [
    {
     "data": {
      "text/plain": [
       "3"
      ]
     },
     "execution_count": 8,
     "metadata": {},
     "output_type": "execute_result"
    }
   ],
   "source": [
    "li = [7,1,5,3,6,4]\n",
    "k=0\n",
    "i=1\n",
    "j=len(li)-1\n",
    "max=0\n",
    "while i<j:\n",
    "    if li[i]>li[k]:\n",
    "        profit=li[j]-li[k]\n",
    "        if profit>max:\n",
    "            max=profit\n",
    "    else:\n",
    "        k=i\n",
    "    i+=1\n",
    "max"
   ]
  },
  {
   "cell_type": "code",
   "execution_count": 57,
   "id": "b3278431-a0c7-4872-a7cc-f74ceb8c629f",
   "metadata": {},
   "outputs": [
    {
     "name": "stdout",
     "output_type": "stream",
     "text": [
      "0 1\n"
     ]
    }
   ],
   "source": [
    "nums = [2,7,11,15]\n",
    "target = 9\n",
    "for i in range(0,len(nums)):\n",
    "    for j in range(i+1,len(nums)):\n",
    "        if nums[i]+nums[j]==target:\n",
    "            print(i,j)\n"
   ]
  },
  {
   "cell_type": "code",
   "execution_count": 76,
   "id": "71dc978e-e8ff-402c-b4d1-0d9f22c172f2",
   "metadata": {},
   "outputs": [
    {
     "data": {
      "text/plain": [
       "[1, 0]"
      ]
     },
     "execution_count": 76,
     "metadata": {},
     "output_type": "execute_result"
    }
   ],
   "source": [
    "digits =[9]\n",
    "a=''.join(map(str,digits))\n",
    "b=int(a)\n",
    "b=b+1\n",
    "c=str(b)\n",
    "li=[]\n",
    "for i in c:\n",
    "    num=int(i)\n",
    "    li.append(num)\n",
    "li"
   ]
  },
  {
   "cell_type": "code",
   "execution_count": 3,
   "id": "637dba4d-d093-4e44-94da-c19ddd7e5f89",
   "metadata": {},
   "outputs": [
    {
     "data": {
      "text/plain": [
       "[3, 4, 7]"
      ]
     },
     "execution_count": 3,
     "metadata": {},
     "output_type": "execute_result"
    }
   ],
   "source": [
    "li1=[3,4,7,3,7]\n",
    "li2=[3,4,7,3,7]\n",
    "l3=li1+li2\n",
    "l4=[]\n",
    "for i in l3:\n",
    "    if i not in l4:\n",
    "        l4.append(i)\n",
    "l4"
   ]
  },
  {
   "cell_type": "code",
   "execution_count": 9,
   "id": "cf2c2d38-94c0-44df-9302-3c0d438dbbdf",
   "metadata": {},
   "outputs": [],
   "source": [
    "# li = [7,1,5,3,6,4]\n",
    "# maxi=0\n",
    "# j=len(li)\n",
    "# i=0\n",
    "# k=1\n",
    "# while k<j:\n",
    "#     if "
   ]
  },
  {
   "cell_type": "code",
   "execution_count": 10,
   "id": "15eba52f-6c47-4609-8313-750b09ab5f68",
   "metadata": {},
   "outputs": [
    {
     "data": {
      "text/plain": [
       "2.0"
      ]
     },
     "execution_count": 10,
     "metadata": {},
     "output_type": "execute_result"
    }
   ],
   "source": [
    "x = 4\n",
    "a=x**0.5\n",
    "a"
   ]
  },
  {
   "cell_type": "code",
   "execution_count": 14,
   "id": "9985e989-a312-414a-8d6c-fa5e452321ef",
   "metadata": {},
   "outputs": [
    {
     "data": {
      "text/plain": [
       "[0, 0, 1, 1, 2, 2]"
      ]
     },
     "execution_count": 14,
     "metadata": {},
     "output_type": "execute_result"
    }
   ],
   "source": [
    "nums = [2,0,2,1,1,0]\n",
    "for i in range(0,len(nums)):\n",
    "    for j in range(i+1,len(nums)):\n",
    "        if nums[i]>nums[j]:\n",
    "            nums[i],nums[j]=nums[j],nums[i]\n",
    "nums"
   ]
  },
  {
   "cell_type": "code",
   "execution_count": 20,
   "id": "eb6c366a-37ac-423e-9d28-854e710b5b5d",
   "metadata": {},
   "outputs": [
    {
     "name": "stdout",
     "output_type": "stream",
     "text": [
      "true\n",
      "true\n",
      "true\n",
      "true\n",
      "true\n",
      "true\n",
      "true\n"
     ]
    }
   ],
   "source": [
    "nums = [2,5,6,0,0,1,2]\n",
    "target = 0\n",
    "for i in nums:\n",
    "    if target in nums:\n",
    "        print(\"true\")"
   ]
  },
  {
   "cell_type": "code",
   "execution_count": 23,
   "id": "88976d99-70e7-417d-b88a-48a07cf96486",
   "metadata": {},
   "outputs": [
    {
     "data": {
      "text/plain": [
       "[[1], [1, 1], [1, 2, 1], [1, 3, 3, 1], [1, 4, 6, 4, 1]]"
      ]
     },
     "execution_count": 23,
     "metadata": {},
     "output_type": "execute_result"
    }
   ],
   "source": [
    "n=5\n",
    "li=[[1]]\n",
    "for i in range(0,n-1):\n",
    "    temp=[0]+li[-1]+[0]\n",
    "    li1=[]\n",
    "    for j in range(0,len(li)+1):\n",
    "        li1.append(temp[j]+temp[j+1])\n",
    "    li.append(li1)\n",
    "li"
   ]
  },
  {
   "cell_type": "code",
   "execution_count": 25,
   "id": "3ee17f65-c91d-4239-9955-3141a427c75a",
   "metadata": {},
   "outputs": [
    {
     "data": {
      "text/plain": [
       "[1, 4, 6, 4, 1]"
      ]
     },
     "execution_count": 25,
     "metadata": {},
     "output_type": "execute_result"
    }
   ],
   "source": [
    "n=5\n",
    "li=[[1]]\n",
    "for i in range(0,n-1):\n",
    "    temp=[0]+li[-1]+[0]\n",
    "    li1=[]\n",
    "    for j in range(0,len(li)+1):\n",
    "        li1.append(temp[j]+temp[j+1])\n",
    "    li.append(li1)\n",
    "li[n-1]"
   ]
  },
  {
   "cell_type": "code",
   "execution_count": 30,
   "id": "086123f9-7cc9-4b3e-b71f-7daee7ccd229",
   "metadata": {},
   "outputs": [
    {
     "name": "stdout",
     "output_type": "stream",
     "text": [
      "true\n"
     ]
    }
   ],
   "source": [
    "s = \"A man, a plan, a canal: Panama\"\n",
    "s=s.lower()\n",
    "a=''\n",
    "for i in s:\n",
    "    if i.isalnum():\n",
    "        a+=i\n",
    "if a==a[::-1]:\n",
    "    print(\"true\")\n",
    "else:\n",
    "    print()"
   ]
  },
  {
   "cell_type": "code",
   "execution_count": 32,
   "id": "09a79855-0b6a-4c32-9d61-cfe8b5cb7324",
   "metadata": {},
   "outputs": [
    {
     "data": {
      "text/plain": [
       "['blue', 'is', 'sky', 'the']"
      ]
     },
     "execution_count": 32,
     "metadata": {},
     "output_type": "execute_result"
    }
   ],
   "source": [
    "s = \"the sky is blue\"\n",
    "s=s.split()\n",
    "a=s[::-1]\n",
    "a"
   ]
  },
  {
   "cell_type": "code",
   "execution_count": 3,
   "id": "f482eab1-1f64-491a-bcd8-c8d84e88abf2",
   "metadata": {},
   "outputs": [
    {
     "data": {
      "text/plain": [
       "3"
      ]
     },
     "execution_count": 3,
     "metadata": {},
     "output_type": "execute_result"
    }
   ],
   "source": [
    "nums = [3,6,9,1]\n",
    "b=0\n",
    "for i in range(0,len(nums)-2):\n",
    "    a=nums[i]-nums[i+1]\n",
    "    a=abs(a)\n",
    "    if a>b:\n",
    "        b=a\n",
    "b"
   ]
  },
  {
   "cell_type": "code",
   "execution_count": 5,
   "id": "a1d387f0-5359-422a-a81a-c0a0dc59f9ea",
   "metadata": {},
   "outputs": [
    {
     "name": "stdout",
     "output_type": "stream",
     "text": [
      "fl\n"
     ]
    }
   ],
   "source": [
    "def longestCommonPrefix(strs):\n",
    "    \"\"\"\n",
    "    :type strs: List[str]\n",
    "    :rtype: str\n",
    "    \"\"\"\n",
    "    prefix = strs[0]\n",
    "\n",
    "    for word in strs[1:len(strs)]:\n",
    "        while not word.startswith(prefix):\n",
    "            prefix=prefix[:-1]\n",
    "            if not prefix:\n",
    "                return \"\"\n",
    "    return prefix\n",
    "\n",
    "print(longestCommonPrefix([\"flower\", \"flow\", \"flag\"]))"
   ]
  },
  {
   "cell_type": "code",
   "execution_count": 49,
   "id": "a241de9e-97ae-4ad5-923b-b615acc81f18",
   "metadata": {},
   "outputs": [
    {
     "name": "stdout",
     "output_type": "stream",
     "text": [
      "2\n"
     ]
    }
   ],
   "source": [
    "nums = [3,2,2,3]\n",
    "var = 2\n",
    "for i in nums:\n",
    "    if i==var:\n",
    "        nums.remove(var)\n",
    "mylist = []\n",
    "for i in nums:\n",
    "    if i not in mylist:\n",
    "        mylist.append(i)\n",
    "\n",
    "print(len(mylist))"
   ]
  },
  {
   "cell_type": "code",
   "execution_count": 11,
   "id": "213a1acb-c78b-4c38-b75c-02657c51cedc",
   "metadata": {},
   "outputs": [
    {
     "name": "stdout",
     "output_type": "stream",
     "text": [
      "0 1 2\n",
      "0 3 4\n",
      "1 2 4\n"
     ]
    }
   ],
   "source": [
    "nums = [-1,0,1,2,-1,-4]\n",
    "\n",
    "for i in range(0, len(nums)-3):\n",
    "    for j in range(i+1, len(nums)-2):\n",
    "        for k in range(j+1, len(nums)-1):\n",
    "            if nums[i]+nums[j]+nums[k]==0 and i!=j and j!=k and k!=i:\n",
    "                print(i,j,k)\n"
   ]
  },
  {
   "cell_type": "code",
   "execution_count": 19,
   "id": "1e59fb7c-4128-43b5-a4ca-babaaad8ec5e",
   "metadata": {},
   "outputs": [
    {
     "name": "stdout",
     "output_type": "stream",
     "text": [
      "[]\n"
     ]
    }
   ],
   "source": [
    "nums = [-1,0,1,2,-1,-4]\n",
    "\n",
    "mylist = []\n",
    "\n",
    "for i in range(0, len(nums)-2):\n",
    "    start = i+1\n",
    "    end = len(nums)-1\n",
    "    while (start<end):\n",
    "        if (nums[i]+nums[start]+nums[end]==0):\n",
    "            mylist.append([nums[i],nums[start],nums[end]])\n",
    "            start+=1\n",
    "            end-=1\n",
    "        elif(nums[i]+nums[start]+nums[end]>0):\n",
    "            end-=1\n",
    "        else:\n",
    "            start+=1\n",
    "\n",
    "print(mylist)"
   ]
  },
  {
   "cell_type": "code",
   "execution_count": 21,
   "id": "c4c58f94-5f62-472c-9c71-bde700c49b28",
   "metadata": {},
   "outputs": [],
   "source": [
    "#dict"
   ]
  },
  {
   "cell_type": "code",
   "execution_count": 35,
   "id": "c4cee425-6f71-4e5d-8bb1-0e2c872dedcc",
   "metadata": {},
   "outputs": [],
   "source": [
    "mydict = {10:\"isha\", \"rollno\":[90,100]}"
   ]
  },
  {
   "cell_type": "code",
   "execution_count": 37,
   "id": "56f79531-bb3a-4e15-b74c-1d920bade38b",
   "metadata": {},
   "outputs": [
    {
     "data": {
      "text/plain": [
       "{10: 'isha', 'rollno': [90, 100]}"
      ]
     },
     "execution_count": 37,
     "metadata": {},
     "output_type": "execute_result"
    }
   ],
   "source": [
    "mydict"
   ]
  },
  {
   "cell_type": "code",
   "execution_count": 39,
   "id": "dfa7011c-8050-4005-ad7f-5ad9dad27eb8",
   "metadata": {},
   "outputs": [
    {
     "data": {
      "text/plain": [
       "{'rollno': [34, 54]}"
      ]
     },
     "execution_count": 39,
     "metadata": {},
     "output_type": "execute_result"
    }
   ],
   "source": [
    "mydict[11] = \"hey\"\n",
    "mydict[\"rollno\"] = [34,54]\n",
    "mydict.popitem() # remove last item in dict. return key:value pair\n",
    "mydict.pop(10) # remove data according to key\n",
    "mydict"
   ]
  },
  {
   "cell_type": "code",
   "execution_count": 41,
   "id": "d8dbdb64-c72f-4ff3-9de2-79d4cc55244d",
   "metadata": {},
   "outputs": [
    {
     "data": {
      "text/plain": [
       "{10: 'isha', 'rollno': 43}"
      ]
     },
     "execution_count": 41,
     "metadata": {},
     "output_type": "execute_result"
    }
   ],
   "source": [
    "data = [(10,\"isha\"), (\"rollno\",43)]\n",
    "dict(data)"
   ]
  },
  {
   "cell_type": "code",
   "execution_count": null,
   "id": "4ebaa435-7565-484a-940e-aaf11d4292a4",
   "metadata": {},
   "outputs": [],
   "source": []
  },
  {
   "cell_type": "code",
   "execution_count": 93,
   "id": "8905a877-43e7-4d89-acf3-7f6eccd7f539",
   "metadata": {},
   "outputs": [
    {
     "name": "stdout",
     "output_type": "stream",
     "text": [
      "[85, 74, 53, 32, 8, 7, 5, 4]\n"
     ]
    },
    {
     "name": "stdin",
     "output_type": "stream",
     "text": [
      "Enter the value of k : 3\n"
     ]
    },
    {
     "name": "stdout",
     "output_type": "stream",
     "text": [
      "3 maxinum : 53\n"
     ]
    }
   ],
   "source": [
    "mylist = [5,7,85,32,74,5,7,53,32,5,7,4,8,4]\n",
    "unique_list = []\n",
    "\n",
    "for i in mylist:\n",
    "    if i not in unique_list:\n",
    "        unique_list.append(i)\n",
    "\n",
    "left = 0\n",
    "right = len(unique_list) - 1\n",
    "\n",
    "while left < right:\n",
    "    if unique_list[left] < unique_list[right]:\n",
    "        unique_list[left], unique_list[right] = unique_list[right], unique_list[left]\n",
    "    right -= 1\n",
    "    if left >= right:\n",
    "        left += 1\n",
    "        right = len(unique_list) - 1\n",
    "\n",
    "print(unique_list)\n",
    "k = int(input(\"Enter the value of k :\"))\n",
    "\n",
    "if k<=len(unique_list):\n",
    "    print(f\"{k} maxinum : {unique_list[k-1]}\")\n",
    "else:\n",
    "    print(\"List index out of range! Please Give the right index.\")"
   ]
  },
  {
   "cell_type": "code",
   "execution_count": 25,
   "id": "8dcc7b63-a1a0-4a28-a2f9-512b4a1510b5",
   "metadata": {},
   "outputs": [
    {
     "name": "stdout",
     "output_type": "stream",
     "text": [
      "[4, 5, 7, 8, 32, 53, 74, 85]\n"
     ]
    }
   ],
   "source": [
    "mylist = [5, 4, 53, 32, 74, 85, 7, 8]\n",
    "\n",
    "for i in range(0, len(mylist)):\n",
    "    for j in range(i+1, len(mylist)):\n",
    "        if mylist[i]>mylist[j]:\n",
    "            mylist[i], mylist[j] = mylist[j], mylist[i]\n",
    "\n",
    "print(mylist)"
   ]
  },
  {
   "cell_type": "code",
   "execution_count": 75,
   "id": "75cadd57-afa0-4601-83e3-1c9349a00a14",
   "metadata": {},
   "outputs": [
    {
     "name": "stdout",
     "output_type": "stream",
     "text": [
      "[9, 6, 5, 5, 2, 1]\n"
     ]
    }
   ],
   "source": [
    "arr = [5, 2, 9, 1, 5, 6]\n",
    "\n",
    "left = 0\n",
    "right = len(arr) - 1\n",
    "\n",
    "while left < right:\n",
    "    if arr[left] < arr[right]:\n",
    "        arr[left], arr[right] = arr[right], arr[left]\n",
    "    right -= 1\n",
    "    if left >= right:\n",
    "        left += 1\n",
    "        right = len(arr) - 1\n",
    "print(arr)"
   ]
  },
  {
   "cell_type": "code",
   "execution_count": 105,
   "id": "2c4db493-70d5-46c4-ae00-9bec3d430d99",
   "metadata": {},
   "outputs": [
    {
     "name": "stdout",
     "output_type": "stream",
     "text": [
      "MMV\n"
     ]
    }
   ],
   "source": [
    "num = 2005\n",
    "\n",
    "val = [1000, 900, 500, 400, 100, 90, 50, 40, 10, 9, 5, 4, 1]\n",
    "syms = [\"M\", \"CM\", \"D\", \"CD\", \"C\", \"XC\", \"L\", \"XL\", \"X\", \"IX\", \"V\", \"IV\", \"I\"]\n",
    "roman_num = \"\"\n",
    "i = 0\n",
    "while num > 0:\n",
    "    for r in range(num // val[i]):\n",
    "        roman_num += syms[i]\n",
    "        num -= val[i]\n",
    "    i += 1\n",
    "print(roman_num)"
   ]
  },
  {
   "cell_type": "code",
   "execution_count": 111,
   "id": "cd8ca0e8-fe43-4149-b393-706bab13950c",
   "metadata": {},
   "outputs": [
    {
     "name": "stdout",
     "output_type": "stream",
     "text": [
      "MMV\n"
     ]
    }
   ],
   "source": [
    "num = 2005\n",
    "\n",
    "val = [1000, 900, 500, 400, 100, 90, 50, 40, 10, 9, 5, 4, 1]\n",
    "syms = [\"M\", \"CM\", \"D\", \"CD\", \"C\", \"XC\", \"L\", \"XL\", \"X\", \"IX\", \"V\", \"IV\", \"I\"]\n",
    "roman_num = \"\"\n",
    "i = 0\n",
    "while True:\n",
    "    if num <= 0:\n",
    "        break\n",
    "    if num >= val[i]:\n",
    "        roman_num += syms[i]\n",
    "        num -= val[i]\n",
    "    else:\n",
    "        i += 1\n",
    "print(roman_num)"
   ]
  },
  {
   "cell_type": "code",
   "execution_count": null,
   "id": "40d81c7d-5f5b-4879-b43e-09147c4ac2fb",
   "metadata": {},
   "outputs": [],
   "source": []
  },
  {
   "cell_type": "code",
   "execution_count": null,
   "id": "3a405eea-810c-401e-bfe3-6d9efdffcb31",
   "metadata": {},
   "outputs": [],
   "source": []
  }
 ],
 "metadata": {
  "kernelspec": {
   "display_name": "Python [conda env:base] *",
   "language": "python",
   "name": "conda-base-py"
  },
  "language_info": {
   "codemirror_mode": {
    "name": "ipython",
    "version": 3
   },
   "file_extension": ".py",
   "mimetype": "text/x-python",
   "name": "python",
   "nbconvert_exporter": "python",
   "pygments_lexer": "ipython3",
   "version": "3.11.7"
  }
 },
 "nbformat": 4,
 "nbformat_minor": 5
}
