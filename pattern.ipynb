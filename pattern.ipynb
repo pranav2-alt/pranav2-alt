{
 "cells": [
  {
   "cell_type": "code",
   "execution_count": 1,
   "id": "eff8feb6-7d78-4571-bc23-1043016977be",
   "metadata": {},
   "outputs": [
    {
     "name": "stdout",
     "output_type": "stream",
     "text": [
      "  * * * * * \n",
      "    * * * * * \n",
      "      * * * * * \n",
      "        * * * * * \n",
      "          * * * * * \n"
     ]
    }
   ],
   "source": [
    "#Q1.\n",
    "n=5\n",
    "for i in range(n):\n",
    "  for j in range(i+1):\n",
    "    print(\" \",end=\" \")\n",
    "  for j in range(n):\n",
    "    print(\"*\",end=\" \")\n",
    "  print()"
   ]
  },
  {
   "cell_type": "code",
   "execution_count": 3,
   "id": "c0bd0d8c-60b9-4bef-9514-58f13e53e4b9",
   "metadata": {},
   "outputs": [
    {
     "name": "stdout",
     "output_type": "stream",
     "text": [
      "* * * * * \n",
      "*       * \n",
      "*       * \n",
      "*       * \n",
      "* * * * * \n"
     ]
    }
   ],
   "source": [
    "#Q2.\n",
    "n=5\n",
    "for i in range(n):\n",
    "  for j in range(n):\n",
    "    if i==0 or j==0 or i==n-1 or j==n-1:\n",
    "      print(\"*\",end=\" \")\n",
    "    else:\n",
    "      print(\" \",end=\" \")\n",
    "  print()\n"
   ]
  },
  {
   "cell_type": "code",
   "execution_count": 5,
   "id": "b140fd79-8f81-42cf-aa21-fb032c8b947e",
   "metadata": {},
   "outputs": [
    {
     "name": "stdout",
     "output_type": "stream",
     "text": [
      "A \n",
      "A B \n",
      "A B C \n",
      "A B C D \n",
      "A B C D E \n"
     ]
    }
   ],
   "source": [
    "# Q-3\n",
    "n=5\n",
    "for i in range(n):\n",
    "  p=65\n",
    "  for j in range(i+1):\n",
    "    print(chr(p),end=\" \")\n",
    "    p+=1\n",
    "  print()"
   ]
  },
  {
   "cell_type": "code",
   "execution_count": 7,
   "id": "09dd51c4-7ac7-480e-87a5-640a3474c819",
   "metadata": {},
   "outputs": [
    {
     "name": "stdout",
     "output_type": "stream",
     "text": [
      "A \n",
      "B B \n",
      "C C C \n",
      "D D D D \n",
      "E E E E E \n"
     ]
    }
   ],
   "source": [
    "#Q-4\n",
    "n=5\n",
    "p=65\n",
    "for i in range(n):\n",
    "  for j in range(i+1):\n",
    "    print(chr(p),end=\" \")\n",
    "  p+=1\n",
    "  print()"
   ]
  },
  {
   "cell_type": "code",
   "execution_count": 9,
   "id": "4057ce27-c77d-4525-a5aa-a3ff5ff6ee41",
   "metadata": {},
   "outputs": [
    {
     "name": "stdout",
     "output_type": "stream",
     "text": [
      "E \n",
      "D E \n",
      "C D E \n",
      "B C D E \n",
      "A B C D E \n"
     ]
    }
   ],
   "source": [
    "#Q-5\n",
    "n=5\n",
    "k=69\n",
    "for i in range(n):\n",
    "  p=k\n",
    "  for j in range(i+1):\n",
    "    print(chr(p),end=\" \")\n",
    "    p+=1\n",
    "  k-=1\n",
    "\n",
    "  print()"
   ]
  },
  {
   "cell_type": "code",
   "execution_count": 11,
   "id": "284fc0ef-b770-4326-b901-31be83482264",
   "metadata": {},
   "outputs": [
    {
     "name": "stdout",
     "output_type": "stream",
     "text": [
      "          * \n",
      "        * * \n",
      "      * * * \n",
      "    * * * * \n",
      "  * * * * * \n"
     ]
    }
   ],
   "source": [
    "#Q6 (a)\n",
    "n=5\n",
    "for i in range(n):\n",
    "  for j in range(i,n):\n",
    "    print(\" \",end=\" \")\n",
    "  for j in range(i+1):\n",
    "    print(\"*\",end=\" \")\n",
    "  print()"
   ]
  },
  {
   "cell_type": "code",
   "execution_count": 13,
   "id": "4602a2f2-8c28-4217-9633-8be2587fabde",
   "metadata": {},
   "outputs": [
    {
     "name": "stdout",
     "output_type": "stream",
     "text": [
      "          1 \n",
      "        1 2 \n",
      "      1 2 3 \n",
      "    1 2 3 4 \n",
      "  1 2 3 4 5 \n"
     ]
    }
   ],
   "source": [
    "#Q6 (b)\n",
    "n=5\n",
    "\n",
    "for i in range(n):\n",
    "  num=1\n",
    "  for j in range(i,n):\n",
    "    print(\" \",end=\" \")\n",
    "  for j in range(i+1):\n",
    "    print(num,end=\" \")\n",
    "    num+=1\n",
    "  print()"
   ]
  },
  {
   "cell_type": "code",
   "execution_count": 15,
   "id": "1804c67c-8015-4bc2-9a93-bbc983b24115",
   "metadata": {},
   "outputs": [
    {
     "name": "stdout",
     "output_type": "stream",
     "text": [
      "1 2 3 4 5 \n",
      "  1 2 3 4 \n",
      "    1 2 3 \n",
      "      1 2 \n",
      "        1 \n"
     ]
    }
   ],
   "source": [
    "#7 (a)\n",
    "n=5\n",
    "for i in range(n):\n",
    "  num=1\n",
    "  for j in range(i):\n",
    "    print(\" \",end=\" \")\n",
    "  for j in range(i,n):\n",
    "    print(num,end=\" \")\n",
    "    num+=1\n",
    "  print()"
   ]
  },
  {
   "cell_type": "code",
   "execution_count": 17,
   "id": "c2cd7c3d-6498-43a0-a43d-622d1d6443ca",
   "metadata": {},
   "outputs": [
    {
     "name": "stdout",
     "output_type": "stream",
     "text": [
      "A B C D E \n",
      "  A B C D \n",
      "    A B C \n",
      "      A B \n",
      "        A \n"
     ]
    }
   ],
   "source": [
    "#Q7 (b)\n",
    "n=5\n",
    "for i in range(n):\n",
    "  num=65\n",
    "  for j in range(i):\n",
    "    print(\" \",end=\" \")\n",
    "  for j in range(i,n):\n",
    "    print(chr(num),end=\" \")\n",
    "    num+=1\n",
    "  print()"
   ]
  },
  {
   "cell_type": "code",
   "execution_count": 19,
   "id": "9158983e-eadb-4e28-b22a-4ccbe7c6a00e",
   "metadata": {},
   "outputs": [
    {
     "name": "stdout",
     "output_type": "stream",
     "text": [
      "          * * * * * \n",
      "        * * * * * \n",
      "      * * * * * \n",
      "    * * * * * \n",
      "  * * * * * \n"
     ]
    }
   ],
   "source": [
    "#Q8 (a)\n",
    "for i in range(n):\n",
    "  for j in range(i,n):\n",
    "    print(\" \",end=\" \")\n",
    "  for j in range(n):\n",
    "    print(\"*\",end=\" \")\n",
    "  print()"
   ]
  },
  {
   "cell_type": "code",
   "execution_count": 21,
   "id": "03e4e128-8d91-4641-b7e5-890a7e98dc25",
   "metadata": {},
   "outputs": [
    {
     "name": "stdout",
     "output_type": "stream",
     "text": [
      "          1 2 3 4 5 \n",
      "        1 2 3 4 5 \n",
      "      1 2 3 4 5 \n",
      "    1 2 3 4 5 \n",
      "  1 2 3 4 5 \n"
     ]
    }
   ],
   "source": [
    "#Q8 (b)\n",
    "for i in range(n):\n",
    "  num=1\n",
    "  for j in range(i,n):\n",
    "    print(\" \",end=\" \")\n",
    "  for j in range(n):\n",
    "    print(num,end=\" \")\n",
    "    num+=1\n",
    "  print()"
   ]
  },
  {
   "cell_type": "code",
   "execution_count": 23,
   "id": "201ba3d5-7e21-4c6a-b73e-67fccedba607",
   "metadata": {},
   "outputs": [
    {
     "name": "stdout",
     "output_type": "stream",
     "text": [
      "          A B C D E \n",
      "        A B C D E \n",
      "      A B C D E \n",
      "    A B C D E \n",
      "  A B C D E \n"
     ]
    }
   ],
   "source": [
    "#Q-9.\n",
    "for i in range(n):\n",
    "  num=65\n",
    "  for j in range(i,n):\n",
    "    print(\" \",end=\" \")\n",
    "  for j in range(n):\n",
    "    print(chr(num),end=\" \")\n",
    "    num+=1\n",
    "  print()"
   ]
  },
  {
   "cell_type": "code",
   "execution_count": 25,
   "id": "b3eece97-1f21-4fbc-928d-197717f48cc3",
   "metadata": {},
   "outputs": [
    {
     "name": "stdout",
     "output_type": "stream",
     "text": [
      "        * \n",
      "      * * * \n",
      "    * * * * * \n",
      "  * * * * * * * \n",
      "* * * * * * * * * \n"
     ]
    }
   ],
   "source": [
    "#Q-10.\n",
    "n=5\n",
    "for i in range(n):\n",
    "  for j in range(i,n-1):\n",
    "    print(\" \",end=\" \")\n",
    "  for j in range(i):\n",
    "    print(\"*\",end=\" \")\n",
    "\n",
    "  for j in range(i+1):\n",
    "    print(\"*\",end=\" \")\n",
    "  print()\n"
   ]
  },
  {
   "cell_type": "code",
   "execution_count": 27,
   "id": "5be9701f-9b88-463e-a7ee-3fdef4336f42",
   "metadata": {},
   "outputs": [
    {
     "name": "stdout",
     "output_type": "stream",
     "text": [
      "          * \n",
      "        *   * \n",
      "      *       * \n",
      "    *           * \n",
      "  * * * * * * * * * \n"
     ]
    }
   ],
   "source": [
    "#Q12\n",
    "n=5\n",
    "for i in range(n):\n",
    "  for j in range(i,n):\n",
    "    print(\" \",end=\" \")\n",
    "  for j in range(i):\n",
    "    if  i==n-1 or j==0 :\n",
    "      print(\"*\",end=\" \")\n",
    "    else:\n",
    "      print(\" \",end=\" \")\n",
    "\n",
    "  for j in range(i+1):\n",
    "    if  i==n-1 or j==i:\n",
    "      print(\"*\",end=\" \")\n",
    "    else:\n",
    "      print(\" \",end=\" \")\n",
    "  print()\n"
   ]
  },
  {
   "cell_type": "code",
   "execution_count": 29,
   "id": "5b7e4175-b2d5-4535-ba16-1d52699328a4",
   "metadata": {},
   "outputs": [
    {
     "name": "stdout",
     "output_type": "stream",
     "text": [
      "* * * * * * * * * \n",
      "  * * * * * * * \n",
      "    * * * * * \n",
      "      * * * \n",
      "        * \n"
     ]
    }
   ],
   "source": [
    "#Q13. (a)\n",
    "n=5\n",
    "for i in range(n):\n",
    "  for j in range(i):\n",
    "    print(\" \",end=\" \")\n",
    "  for j in range(i,n-1):\n",
    "    print(\"*\",end=\" \")\n",
    "\n",
    "  for j in range(i,n):\n",
    "    print(\"*\",end=\" \")\n",
    "  print()"
   ]
  },
  {
   "cell_type": "code",
   "execution_count": 31,
   "id": "933e4fbb-b0ce-48d4-8515-acf9ff5881a2",
   "metadata": {},
   "outputs": [
    {
     "name": "stdout",
     "output_type": "stream",
     "text": [
      "* * * * * * * * * \n",
      "  *           * \n",
      "    *       * \n",
      "      *   * \n",
      "        * \n"
     ]
    }
   ],
   "source": [
    "#Q13. (b)\n",
    "n=5\n",
    "for i in range(n):\n",
    "  for j in range(i):\n",
    "    print(\" \",end=\" \")\n",
    "  for j in range(i,n-1):\n",
    "    if i==0 or j==i :\n",
    "      print(\"*\",end=\" \")\n",
    "    else:\n",
    "      print(\" \",end=\" \")\n",
    "\n",
    "  for j in range(i,n):\n",
    "    if i==0  or j==n-1:\n",
    "      print(\"*\",end=\" \")\n",
    "    else:\n",
    "      print(\" \",end=\" \")\n",
    "  print()"
   ]
  },
  {
   "cell_type": "code",
   "execution_count": 33,
   "id": "dccb4cc4-dad4-405c-a19d-652222027fd8",
   "metadata": {},
   "outputs": [
    {
     "name": "stdout",
     "output_type": "stream",
     "text": [
      "* \n",
      "* * \n",
      "* * * \n",
      "* * * * \n",
      "* * * * * \n",
      "* * * * \n",
      "* * * \n",
      "* * \n",
      "* \n"
     ]
    }
   ],
   "source": [
    "#Q14.\n",
    "n=5\n",
    "for i in range(n-1):\n",
    "  for j in range(i+1):\n",
    "    print(\"*\",end=\" \")\n",
    "  print()\n",
    "\n",
    "n=5\n",
    "for i in range(n):\n",
    "  for j in range(i,n):\n",
    "    print(\"*\",end=\" \")\n",
    "  print()"
   ]
  },
  {
   "cell_type": "code",
   "execution_count": 35,
   "id": "9411ab2f-d8d0-4169-ab7a-a969f0a61414",
   "metadata": {},
   "outputs": [
    {
     "name": "stdout",
     "output_type": "stream",
     "text": [
      "          * \n",
      "        * * \n",
      "      * * * \n",
      "    * * * * \n",
      "  * * * * * \n",
      "    * * * * \n",
      "      * * * \n",
      "        * * \n",
      "          * \n"
     ]
    }
   ],
   "source": [
    "#Q15\n",
    "n=5\n",
    "for i in range(n-1):\n",
    "  for j in range(i,n):\n",
    "    print(\" \",end=\" \")\n",
    "  for j in range(i+1):\n",
    "    print(\"*\",end=\" \")\n",
    "  print()\n",
    "\n",
    "\n",
    "for i in range(n):\n",
    "  for j in range(i+1):\n",
    "    print(\" \",end=\" \")\n",
    "  for j in range(i,n):\n",
    "    print(\"*\",end=\" \")\n",
    "  print()"
   ]
  },
  {
   "cell_type": "code",
   "execution_count": null,
   "id": "ab84b9c1-4890-4769-ac31-64632e1ca857",
   "metadata": {},
   "outputs": [],
   "source": []
  }
 ],
 "metadata": {
  "kernelspec": {
   "display_name": "Python 3 (ipykernel)",
   "language": "python",
   "name": "python3"
  },
  "language_info": {
   "codemirror_mode": {
    "name": "ipython",
    "version": 3
   },
   "file_extension": ".py",
   "mimetype": "text/x-python",
   "name": "python",
   "nbconvert_exporter": "python",
   "pygments_lexer": "ipython3",
   "version": "3.12.4"
  }
 },
 "nbformat": 4,
 "nbformat_minor": 5
}
