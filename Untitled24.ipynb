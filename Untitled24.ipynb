{
 "cells": [
  {
   "cell_type": "code",
   "execution_count": null,
   "id": "5e1461dc-903c-4a96-81a5-33b5b82a1d27",
   "metadata": {},
   "outputs": [],
   "source": []
  },
  {
   "cell_type": "code",
   "execution_count": null,
   "id": "06bbc023-e9bb-4ad5-916b-5d0e86d97f67",
   "metadata": {},
   "outputs": [],
   "source": [
    "\n"
   ]
  },
  {
   "cell_type": "code",
   "execution_count": 11,
   "id": "f32ad847-ad68-433d-bbb0-6524f4549e21",
   "metadata": {},
   "outputs": [
    {
     "name": "stdout",
     "output_type": "stream",
     "text": [
      "{'total': 9}\n"
     ]
    }
   ],
   "source": [
    "mydictionary = {\"total\": 0}\n",
    "for i in range(10, 19):\n",
    "    mydictionary[\"total\"] = mydictionary[\"total\"]+1\n",
    "print(mydictionary)"
   ]
  },
  {
   "cell_type": "code",
   "execution_count": 29,
   "id": "c1bdb790-2040-4c29-a335-b8b225d668dd",
   "metadata": {},
   "outputs": [
    {
     "name": "stdout",
     "output_type": "stream",
     "text": [
      "{'': 7}\n"
     ]
    }
   ],
   "source": [
    "mydictionary = {\"\": 0}\n",
    "mystring = \"heyuser\"\n",
    "\n",
    "for char in mystring:\n",
    "    mydictionary[\"\"] = mydictionary[\"\"]+ 1\n",
    "\n",
    "print(mydictionary)\n"
   ]
  },
  {
   "cell_type": "code",
   "execution_count": 41,
   "id": "6c881626-fd77-40c1-9aa2-53918df15fc6",
   "metadata": {},
   "outputs": [
    {
     "name": "stdout",
     "output_type": "stream",
     "text": [
      "{'total': 0, 'h': 1, 'e': 1, 'y': 1, 'u': 1, 's': 1, 'r': 1}\n"
     ]
    }
   ],
   "source": [
    "mydictionary = {\"total\": 0}\n",
    "for x in \"heyuser\":\n",
    "    mydictionary[x] = 1\n",
    "\n",
    "print(mydictionary)\n"
   ]
  },
  {
   "cell_type": "code",
   "execution_count": 43,
   "id": "bb264599-de66-46e6-b92c-2c7569e35b27",
   "metadata": {},
   "outputs": [
    {
     "name": "stdout",
     "output_type": "stream",
     "text": [
      "{'h': 1, 'e': 2, 'y': 1, 'u': 1, 's': 1, 'r': 1}\n"
     ]
    }
   ],
   "source": [
    "mydictionary = {}\n",
    "mystring = \"heyuser\"\n",
    "\n",
    "for char in mystring:\n",
    "    if char in mydictionary:\n",
    "        mydictionary.update({char: mydictionary[char] + 1})\n",
    "    else:\n",
    "        mydictionary.update({char: 1})\n",
    "\n",
    "print(mydictionary)\n"
   ]
  },
  {
   "cell_type": "code",
   "execution_count": 45,
   "id": "5881c041-dd50-4b9c-9ad6-eb697c021abc",
   "metadata": {},
   "outputs": [
    {
     "name": "stdout",
     "output_type": "stream",
     "text": [
      "{'divisible': 7, 'notdivisible': 43}\n"
     ]
    }
   ],
   "source": [
    "mydictionary = {\"divisible\": 0, \"notdivisible\": 0}\n",
    "\n",
    "for i in range(1, 51):\n",
    "    if i % 7 == 0:\n",
    "        mydictionary[\"divisible\"] += 1\n",
    "    else:\n",
    "        mydictionary[\"notdivisible\"] += 1\n",
    "\n",
    "print(mydictionary)\n"
   ]
  },
  {
   "cell_type": "code",
   "execution_count": 47,
   "id": "f82a4a07-a9f8-4181-b089-42deee69bb4a",
   "metadata": {},
   "outputs": [
    {
     "name": "stdout",
     "output_type": "stream",
     "text": [
      "{'divisible7': 7, 'divisible2': 25, 'notdivisible2,7': 21}\n"
     ]
    }
   ],
   "source": [
    "mydictionary = {\"divisible7\": 0, \"divisible2\": 0, \"notdivisible2,7\": 0}\n",
    "for i in range(1, 51):\n",
    "    if i % 7 == 0:\n",
    "        mydictionary[\"divisible7\"] += 1\n",
    "    if i % 2 == 0:\n",
    "        mydictionary[\"divisible2\"] += 1\n",
    "    if i % 2 != 0 and i % 7 != 0:\n",
    "        mydictionary[\"notdivisible2,7\"] += 1\n",
    "print(mydictionary)\n"
   ]
  },
  {
   "cell_type": "code",
   "execution_count": 61,
   "id": "82b5d896-08bb-433f-8366-177af0eaf5ae",
   "metadata": {},
   "outputs": [
    {
     "name": "stdout",
     "output_type": "stream",
     "text": [
      "{'a': 0, 'e': 0, 'i': 0, 'o': 0, 'u': 0, 'A': 0, 'E': 0, 'I': 0, 'O': 0, 'U': 0}\n"
     ]
    }
   ],
   "source": [
    "mydictionary = {\"a\": 0, \"e\": 0, \"i\": 0, \"o\": 0, \"u\": 0,\n",
    "                \"A\": 0, \"E\": 0, \"I\": 0, \"O\": 0, \"U\": 0}\n",
    "mystring = \"heyuser\"\n",
    "vowels = \"aeiouAEIOU\"\n",
    "for i in range(len(mystring)):\n",
    "    if mystring[i] in vowels:\n",
    "        mydictionary[mystring[i]] = 1  \n",
    "\n",
    "print(mydictionary)"
   ]
  },
  {
   "cell_type": "code",
   "execution_count": 71,
   "id": "b531bf25-9302-4ed8-85b9-a3df756d8be9",
   "metadata": {},
   "outputs": [
    {
     "name": "stdout",
     "output_type": "stream",
     "text": [
      "{'hello': 3, 'world': 1, 'everyone': 1}\n"
     ]
    }
   ],
   "source": [
    "mystring = \"hello world hello everyone hello\"\n",
    "words = mystring.split()  \n",
    "word_count = {}\n",
    "\n",
    "for word in words:\n",
    "    if word in word_count:\n",
    "        word_count[word] += 1  \n",
    "    else:\n",
    "        word_count[word] = 1 \n",
    "\n",
    "print(word_count)\n"
   ]
  },
  {
   "cell_type": "code",
   "execution_count": null,
   "id": "6b2fa8ea-2ff6-418d-be4b-a9c1662fdfc5",
   "metadata": {},
   "outputs": [],
   "source": []
  }
 ],
 "metadata": {
  "kernelspec": {
   "display_name": "Python 3 (ipykernel)",
   "language": "python",
   "name": "python3"
  },
  "language_info": {
   "codemirror_mode": {
    "name": "ipython",
    "version": 3
   },
   "file_extension": ".py",
   "mimetype": "text/x-python",
   "name": "python",
   "nbconvert_exporter": "python",
   "pygments_lexer": "ipython3",
   "version": "3.12.4"
  }
 },
 "nbformat": 4,
 "nbformat_minor": 5
}
