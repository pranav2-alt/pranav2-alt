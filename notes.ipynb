{
 "cells": [
  {
   "cell_type": "code",
   "execution_count": 15,
   "id": "dea391a7-c97b-4c40-a603-b744f28a5ed3",
   "metadata": {},
   "outputs": [
    {
     "name": "stdout",
     "output_type": "stream",
     "text": [
      "Before function 10 20\n",
      "After function 10 20\n"
     ]
    }
   ],
   "source": [
    "x=10\n",
    "y=20\n",
    "\n",
    "def swap(x,y):\n",
    "    temp=x\n",
    "    x=y\n",
    "    y=temp\n",
    "print(\"Before function\",x,y)\n",
    "swap(x,y)\n",
    "print(\"After function\",x,y)"
   ]
  },
  {
   "cell_type": "code",
   "execution_count": 13,
   "id": "ad622410-e676-4d9c-8c62-73e10a1feabe",
   "metadata": {},
   "outputs": [
    {
     "name": "stdout",
     "output_type": "stream",
     "text": [
      "Before swap: 10 20\n",
      "After swap: 20 10\n"
     ]
    }
   ],
   "source": [
    "x = 10\n",
    "y = 20\n",
    "print(\"Before swap:\", x, y)\n",
    "temp = x\n",
    "x = y\n",
    "y = temp\n",
    "print(\"After swap:\", x, y)\n"
   ]
  },
  {
   "cell_type": "code",
   "execution_count": 17,
   "id": "fee5cc24-ff01-48d9-a0c6-3c5a9621593b",
   "metadata": {},
   "outputs": [],
   "source": [
    "# first class Functions\n",
    "# A funtion is an instance of the object type\n",
    "# You can store the function in a variable\n",
    "# You can pass the function as a parameter to another function.\n",
    "# You can return the function from a function.\n",
    "# You can store them in data structures such as hash tables,list\n"
   ]
  },
  {
   "cell_type": "code",
   "execution_count": 35,
   "id": "f6823236-524f-4cbf-afc3-952a796bc9d1",
   "metadata": {},
   "outputs": [
    {
     "name": "stdout",
     "output_type": "stream",
     "text": [
      "hello\n",
      "None\n"
     ]
    }
   ],
   "source": [
    "def func():\n",
    "    print(\"hello\")\n",
    "\n",
    "out=func\n",
    "mylist=[0,func]\n",
    "print(mylist[1]())"
   ]
  },
  {
   "cell_type": "code",
   "execution_count": 53,
   "id": "e9b11e22-63ab-44f3-8570-86d97a3954ad",
   "metadata": {},
   "outputs": [
    {
     "name": "stdout",
     "output_type": "stream",
     "text": [
      "True\n"
     ]
    }
   ],
   "source": [
    "def anagram(s, t):\n",
    "    if len(s) != len(t):\n",
    "        return False\n",
    "    s = sorted(s)\n",
    "    t = sorted(t)\n",
    "    return s == t\n",
    "\n",
    "check = anagram\n",
    "s = \"anagram\"\n",
    "t = \"nagaram\"\n",
    "print(check(s, t))\n"
   ]
  },
  {
   "cell_type": "code",
   "execution_count": null,
   "id": "9c64edfd-292e-4cf7-a17f-5d3d8ff89598",
   "metadata": {},
   "outputs": [],
   "source": [
    "# if we can pass a function as a argument to another function\n",
    "# high order functions\n",
    "# all high order functions are first class functions"
   ]
  },
  {
   "cell_type": "code",
   "execution_count": 11,
   "id": "b08dfa32-2e41-4958-86bb-af82948baad9",
   "metadata": {},
   "outputs": [
    {
     "name": "stdout",
     "output_type": "stream",
     "text": [
      "30\n",
      "40 None\n"
     ]
    }
   ],
   "source": [
    "def func(a,b):\n",
    "    print(a+b)\n",
    "def add(x,y):\n",
    "    print(x,y)\n",
    "add(40,func(10,20))"
   ]
  },
  {
   "cell_type": "code",
   "execution_count": 19,
   "id": "d9910475-4f8c-4e97-99f9-3183ab0861ff",
   "metadata": {},
   "outputs": [
    {
     "name": "stdout",
     "output_type": "stream",
     "text": [
      "30\n",
      "40 None\n"
     ]
    }
   ],
   "source": [
    "def func(a,b):\n",
    "    print(a+b)\n",
    "    \n",
    "def add(x,y):\n",
    "    print(x,y(10,20))\n",
    "    \n",
    "add(40,func)"
   ]
  },
  {
   "cell_type": "code",
   "execution_count": 31,
   "id": "ae37ea9c-fad5-4bbf-bb1f-3cd45eb3cec4",
   "metadata": {},
   "outputs": [
    {
     "name": "stdout",
     "output_type": "stream",
     "text": [
      "100\n",
      "4 None\n"
     ]
    }
   ],
   "source": [
    "def square(x):\n",
    "    print(x**2)\n",
    "    \n",
    "def cube(n,func):\n",
    "    \n",
    "    print(n, func)\n",
    "cube(4,square(10))"
   ]
  },
  {
   "cell_type": "code",
   "execution_count": 33,
   "id": "91466a93-1788-47a1-b646-83cf4503d9cf",
   "metadata": {},
   "outputs": [],
   "source": [
    "# lambda functions\n",
    "# lambda => annoymous functions\n",
    "# same as normal"
   ]
  },
  {
   "cell_type": "code",
   "execution_count": 39,
   "id": "40851b14-7f05-4d1e-b6e3-63c738c3d559",
   "metadata": {},
   "outputs": [
    {
     "name": "stdout",
     "output_type": "stream",
     "text": [
      "<function func at 0x000001E00D7872E0>\n"
     ]
    }
   ],
   "source": [
    "def func(x,y):\n",
    "    return x+y\n",
    "\n",
    "print(func)"
   ]
  },
  {
   "cell_type": "code",
   "execution_count": 43,
   "id": "ef1eca8b-1d9d-4544-8462-112fca786287",
   "metadata": {},
   "outputs": [
    {
     "data": {
      "text/plain": [
       "12"
      ]
     },
     "execution_count": 43,
     "metadata": {},
     "output_type": "execute_result"
    }
   ],
   "source": [
    "func = lambda x,y: x+y\n",
    "func(1,11)"
   ]
  },
  {
   "cell_type": "code",
   "execution_count": 59,
   "id": "ccbd8cf3-385e-4150-99c2-b134b68c792d",
   "metadata": {},
   "outputs": [
    {
     "name": "stdout",
     "output_type": "stream",
     "text": [
      "lambda value 64\n"
     ]
    }
   ],
   "source": [
    "def cube(x):\n",
    "    out=lambda x: x**2\n",
    "    print(\"lambda value\",x*out(x))\n",
    "cube(4)"
   ]
  },
  {
   "cell_type": "code",
   "execution_count": 71,
   "id": "21cb9442-a75f-4929-bf1f-779595a10f1c",
   "metadata": {},
   "outputs": [
    {
     "name": "stdout",
     "output_type": "stream",
     "text": [
      "10\n",
      "20\n",
      "30\n",
      "{10: 0, 20: 1, 30: 2}\n",
      "1 2\n"
     ]
    }
   ],
   "source": [
    "mydict={}\n",
    "k=50\n",
    "for x in enumerate([10,20,30]):\n",
    "    value,key=x\n",
    "    print(key)\n",
    "\n",
    "    if key not in mydict:\n",
    "        mydict[key]=value\n",
    "print(mydict)\n",
    "\n",
    "for value,key in enumerate([10,20,30]):\n",
    "    if k-key in mydict:\n",
    "        print(value,mydict[k-key])\n",
    "        break"
   ]
  },
  {
   "cell_type": "code",
   "execution_count": 7,
   "id": "47eda4b0-f9df-43aa-ac7e-68fc434aaa68",
   "metadata": {},
   "outputs": [
    {
     "name": "stdout",
     "output_type": "stream",
     "text": [
      "5\n"
     ]
    }
   ],
   "source": [
    "buy=0\n",
    "sell=1\n",
    "maxi=0\n",
    "mylist=[7,1,5,3,6,4]\n",
    "no_days=len(mylist)\n",
    "\n",
    "while(sell<no_days):\n",
    "    if(mylist[sell]>mylist[buy]):\n",
    "        profit_margin=mylist[sell]-mylist[buy]\n",
    "        maxi=max(maxi, profit_margin)\n",
    "    else:\n",
    "        buy=sell\n",
    "    sell+=1\n",
    "    \n",
    "print(maxi)"
   ]
  },
  {
   "cell_type": "code",
   "execution_count": 3,
   "id": "bf708b10-77f3-4c83-9d72-b926800a2148",
   "metadata": {},
   "outputs": [
    {
     "data": {
      "text/plain": [
       "100"
      ]
     },
     "execution_count": 3,
     "metadata": {},
     "output_type": "execute_result"
    }
   ],
   "source": [
    "# map =>fix memory allocate\n",
    "mylist=[10,20,30]\n",
    "def square(num):\n",
    "    return num**2\n",
    "out = map(square,mylist)\n",
    "next(out)"
   ]
  },
  {
   "cell_type": "code",
   "execution_count": 27,
   "id": "6378a8d1-1d9a-4ff8-bf93-f06a3d9feef8",
   "metadata": {},
   "outputs": [
    {
     "data": {
      "text/plain": [
       "[30]"
      ]
     },
     "execution_count": 27,
     "metadata": {},
     "output_type": "execute_result"
    }
   ],
   "source": [
    "list(filter(lambda num: num%3==0,mylist))\n"
   ]
  },
  {
   "cell_type": "code",
   "execution_count": 23,
   "id": "2f65d37f-1c22-4634-aaee-b01c1b46d438",
   "metadata": {},
   "outputs": [
    {
     "data": {
      "text/plain": [
       "[100, 400, 900]"
      ]
     },
     "execution_count": 23,
     "metadata": {},
     "output_type": "execute_result"
    }
   ],
   "source": [
    "# map is like a generator which compute the value ask for it\n",
    "mylist=[10,20,30]\n",
    "def square(num):\n",
    "    return num**2\n",
    "list(map(lambda num: num**2,mylist))"
   ]
  },
  {
   "cell_type": "code",
   "execution_count": 15,
   "id": "9e4cbed8-3540-44a8-95ed-84e6984268d8",
   "metadata": {},
   "outputs": [
    {
     "data": {
      "text/plain": [
       "[10, 20, 30]"
      ]
     },
     "execution_count": 15,
     "metadata": {},
     "output_type": "execute_result"
    }
   ],
   "source": []
  },
  {
   "cell_type": "code",
   "execution_count": 29,
   "id": "1b0c3c22-e940-4ead-9830-fd2201360d95",
   "metadata": {},
   "outputs": [],
   "source": [
    "# Exceptional handling\n",
    "# handling te error => terminate\n"
   ]
  },
  {
   "cell_type": "code",
   "execution_count": 41,
   "id": "dcf4ff73-ed1f-4cd0-b9b9-3be4e76e97f0",
   "metadata": {},
   "outputs": [
    {
     "name": "stdout",
     "output_type": "stream",
     "text": [
      "10\n",
      "num123 123\n",
      "Error ocured can only concatenate str (not \"int\") to str\n"
     ]
    }
   ],
   "source": [
    "try:\n",
    "    print(10)\n",
    "    print(\"num123\",123)\n",
    "    \"hey\"+30\n",
    "except (NameError,TypeError) as e:\n",
    "    print(\"Error ocured\",e)\n",
    "\n",
    "except Exception as e:\n",
    "    print(\"All Error occured\",e)"
   ]
  },
  {
   "cell_type": "code",
   "execution_count": 43,
   "id": "8bb17c33-8dca-453a-99e6-73e3a5e9989b",
   "metadata": {},
   "outputs": [
    {
     "name": "stdout",
     "output_type": "stream",
     "text": [
      "10\n",
      "num123 123\n",
      "Error ocured can only concatenate str (not \"int\") to str\n",
      "hey\n"
     ]
    }
   ],
   "source": [
    "try:\n",
    "    print(10)\n",
    "    print(\"num123\",123)\n",
    "    \"hey\"+30\n",
    "    \n",
    "except (NameError,TypeError) as e:\n",
    "    print(\"Error ocured\",e)\n",
    "\n",
    "finally:\n",
    "    print(\"hey\")"
   ]
  },
  {
   "cell_type": "code",
   "execution_count": 65,
   "id": "820164f1-de48-4f36-86ce-a563bb0c27d9",
   "metadata": {},
   "outputs": [],
   "source": [
    "# list is on the top "
   ]
  },
  {
   "cell_type": "code",
   "execution_count": 84,
   "id": "94418863-93cd-47ff-bdf6-f4a8f94b1de7",
   "metadata": {},
   "outputs": [],
   "source": [
    "nums=[-2,0,1,3]\n",
    "def threeSumSmaller(nums, target):\n",
    "    count = 0\n",
    "    for i in range(len(nums) - 2):\n",
    "        left, right = i + 1, len(nums) - 1\n",
    "        while left < right:\n",
    "            total = nums[i] + nums[left] + nums[right]\n",
    "            if total < target:\n",
    "                count += right - left\n",
    "                left += 1\n",
    "            else:\n",
    "                right -= 1\n",
    "    return count"
   ]
  },
  {
   "cell_type": "code",
   "execution_count": null,
   "id": "6634f660-6a11-4b99-8b0c-268c42d44fd7",
   "metadata": {},
   "outputs": [],
   "source": []
  },
  {
   "cell_type": "code",
   "execution_count": null,
   "id": "7d60d133-cebf-4580-a7ec-284a9e410205",
   "metadata": {},
   "outputs": [],
   "source": []
  }
 ],
 "metadata": {
  "kernelspec": {
   "display_name": "Python 3 (ipykernel)",
   "language": "python",
   "name": "python3"
  },
  "language_info": {
   "codemirror_mode": {
    "name": "ipython",
    "version": 3
   },
   "file_extension": ".py",
   "mimetype": "text/x-python",
   "name": "python",
   "nbconvert_exporter": "python",
   "pygments_lexer": "ipython3",
   "version": "3.12.4"
  }
 },
 "nbformat": 4,
 "nbformat_minor": 5
}
