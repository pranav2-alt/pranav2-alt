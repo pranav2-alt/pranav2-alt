{
 "cells": [
  {
   "cell_type": "code",
   "execution_count": 1,
   "id": "8429f5bf-5c5f-4b60-aa15-db57b0988495",
   "metadata": {},
   "outputs": [
    {
     "name": "stdout",
     "output_type": "stream",
     "text": [
      "Medical record added for Pranav.\n",
      "Medical record added for Pranav.\n",
      "Medical History for Pranav: ['2024: Flu Diagnosis', '2024: Blood Test results Normal']\n"
     ]
    }
   ],
   "source": [
    "# case study 1 : Healthcare system (Patient Record Management)\n",
    "# Problem: Develop a system for maaging patient records in a hspital where:\n",
    "# Patient details (name, age, and medical history) should be private.\n",
    "# Only authorized methods can retrieve or update medical history.\n",
    "# Provide a method to add new medical records while keeping previous data secure.\n",
    "class Patient:\n",
    "    def __init__(self, name, age):\n",
    "        self.__name = name\n",
    "        self.__age = age\n",
    "        self.__medical_history = []\n",
    "        \n",
    "    def add_medical_record(self, record):\n",
    "        self.__medical_history.append(record)\n",
    "        return f\"Medical record added for {self.__name}.\"\n",
    "\n",
    "    def get_medical_history(self):\n",
    "        return f\"Medical History for {self.__name}: {self.__medical_history}\"\n",
    "\n",
    "patient = Patient(\"Pranav\", 30)\n",
    "print(patient.add_medical_record(\"2024: Flu Diagnosis\"))\n",
    "print(patient.add_medical_record(\"2024: Blood Test results Normal\"))\n",
    "print(patient.get_medical_history())\n"
   ]
  },
  {
   "cell_type": "code",
   "execution_count": 3,
   "id": "b5abbc2d-20dd-4309-9075-2bee2c1da7a2",
   "metadata": {},
   "outputs": [],
   "source": [
    "# Online Examination system\n",
    "# Problem: Create a system for online examination where:\n",
    "# Student scores are private and cannot be accessed directly.\n",
    "# Scores can only be added or retrieved using specific methods.\n",
    "# Implemnet a feature to calculate the average score of the stude\n",
    "nt."
   ]
  },
  {
   "cell_type": "code",
   "execution_count": 7,
   "id": "f7c622de-ea4f-4e1f-8890-489cefe5365c",
   "metadata": {},
   "outputs": [
    {
     "name": "stdout",
     "output_type": "stream",
     "text": [
      "Score added for Math: 10.\n",
      "Score added for Science: 20.\n",
      "Scores for Pranav: [{'subject': 'Math', 'score': 10}, {'subject': 'Science', 'score': 20}]\n",
      "Average Score: 15.00\n"
     ]
    }
   ],
   "source": [
    "class Exam:\n",
    "    def __init__(self, student_name):\n",
    "        self.__student_name = student_name\n",
    "        self.__scores = []\n",
    "\n",
    "    def add_score(self, subject, score):\n",
    "        if 0 <= score <= 100:\n",
    "            self.__scores.append({\"subject\": subject, \"score\": score})\n",
    "            return f\"Score added for {subject}: {score}.\"\n",
    "        return \"Invalid score! Must be between 0 and 100.\"\n",
    "\n",
    "    def get_scores(self):\n",
    "        return f\"Scores for {self.__student_name}: {self.__scores}\"\n",
    "\n",
    "    def calculate_average(self):\n",
    "        if not self.__scores:\n",
    "            return \"No scores available.\"\n",
    "        total = sum(item[\"score\"] for item in self.__scores)\n",
    "        return f\"Average Score: {total / len(self.__scores):.2f}\"\n",
    "\n",
    "exam = Exam(\"Pranav\")\n",
    "print(exam.add_score(\"Math\", 10))\n",
    "print(exam.add_score(\"Science\", 20))\n",
    "print(exam.get_scores())\n",
    "print(exam.calculate_average())"
   ]
  },
  {
   "cell_type": "code",
   "execution_count": 48,
   "id": "86ea2231-f0c7-4e54-b88a-e52a764c659e",
   "metadata": {},
   "outputs": [
    {
     "name": "stdout",
     "output_type": "stream",
     "text": [
      "Engine started.\n",
      "Wheels are rotating\n",
      "car is driving\n"
     ]
    }
   ],
   "source": [
    "# Multiple Inheritance Example\n",
    "class Engine:\n",
    "    def start_engine(self):\n",
    "        print(\"Engine started.\")\n",
    "\n",
    "class Wheels:\n",
    "    def rotate_wheels(self):\n",
    "        print(\"Wheels are rotating\")\n",
    "class Car(Engine,Wheels):\n",
    "    def drive(self):\n",
    "        print(\"car is driving\")\n",
    "    \n",
    "\n",
    "my_car = Car()\n",
    "my_car.start_engine()\n",
    "my_car.rotate_wheels()\n",
    "my_car.drive()"
   ]
  },
  {
   "cell_type": "code",
   "execution_count": 11,
   "id": "6f1ba56b-ab28-4e1f-8722-fd137ab11015",
   "metadata": {},
   "outputs": [
    {
     "name": "stdout",
     "output_type": "stream",
     "text": [
      "Animal is eating.\n",
      "Dog is barking.\n",
      "puppy is weeping.\n"
     ]
    }
   ],
   "source": [
    "# Multilevel Inheritance\n",
    "class Animal:\n",
    "    def eat(self):\n",
    "        print(\"Animal is eating.\")\n",
    "\n",
    "class Dog(Animal): # Dog inherits from animal\n",
    "    def bark(self):\n",
    "        print(\"Dog is barking.\")\n",
    "\n",
    "class Puppy(Dog): # Puppy inherits from dog\n",
    "    def weep(self):\n",
    "        print(\"puppy is weeping.\")\n",
    "\n",
    "puppy = Puppy()\n",
    "puppy.eat()\n",
    "puppy.bark()\n",
    "puppy.weep()"
   ]
  },
  {
   "cell_type": "code",
   "execution_count": 13,
   "id": "3b17d3a6-f1fc-4743-85c2-77fa26a5678e",
   "metadata": {},
   "outputs": [],
   "source": [
    "# E-Commerce Order management\n",
    "# scenario: You are designing an e_commerce order system. the system includes.\n",
    "# Customer class (with name and contact details).\n",
    "# Product class (with name and price).\n",
    "# Order class (that inherits Customer and products to manage customer orders).\n",
    "# Requirements:\n",
    "# Customer should store customer details.\n",
    "# Product should store product details.\n",
    "# Order should generate an order summary for a customer, including, product details."
   ]
  },
  {
   "cell_type": "code",
   "execution_count": 25,
   "id": "e078572d-20ef-4f17-930a-7af7082ca3ea",
   "metadata": {},
   "outputs": [
    {
     "name": "stdout",
     "output_type": "stream",
     "text": [
      "Customer: Pranav, Contact: 8079086200\n",
      "Laptop : 100000\n",
      "Phone : 10000\n",
      "Total Cost: 110000\n"
     ]
    }
   ],
   "source": [
    "class Customer:\n",
    "    def __init__(self, name, contact):\n",
    "        self.name = name\n",
    "        self.contact = contact\n",
    "\n",
    "class Product:\n",
    "    def __init__(self, name, price):\n",
    "        self.name = name\n",
    "        self.price = price\n",
    "\n",
    "class Order:\n",
    "    def __init__(self, customer):\n",
    "        self.customer = customer\n",
    "        self.products = []\n",
    "\n",
    "    def add_product(self, product):\n",
    "        self.products.append(product)\n",
    "\n",
    "    def order_summary(self):\n",
    "        total_cost = 0\n",
    "        summary = f\"Customer: {self.customer.name}, Contact: {self.customer.contact}\\n\"\n",
    "        for product in self.products:\n",
    "            summary += f\"{product.name} : {product.price}\\n\"\n",
    "            total_cost += product.price \n",
    "        summary += f\"Total Cost: {total_cost}\"\n",
    "        return summary\n",
    "\n",
    "customer = Customer(\"Pranav\", \"8079086200\")\n",
    "product1 = Product(\"Laptop\", 100000)\n",
    "product2 = Product(\"Phone\", 10000)\n",
    "\n",
    "order = Order(customer)\n",
    "order.add_product(product1)\n",
    "order.add_product(product2)\n",
    "\n",
    "print(order.order_summary())\n",
    "\n"
   ]
  },
  {
   "cell_type": "code",
   "execution_count": 27,
   "id": "b39fba03-55ba-49fc-ac77-1cbe2e418d17",
   "metadata": {},
   "outputs": [],
   "source": [
    "# vehicle Hierarchy\n",
    "# Scenario: Build a vehicle system with the following structure:\n",
    "# A Vehicle class (generate attributes like speed and fuel).\n",
    "# A Car class (inherits Vehicle and adds features ike air conditioning).\n",
    "# A ElectricCar class (Inherits Car and adds battery management).\n",
    "# Requirements:\n",
    "# Vehicle shuld have methods like start() and stop().\n",
    "# Car should add methods for turn_on_ac() and turn_off_ac().\n",
    "#ElectricCar should add a method charge_battery()."
   ]
  },
  {
   "cell_type": "code",
   "execution_count": 45,
   "id": "f1826df3-6130-4c75-a5f0-b53174eca852",
   "metadata": {},
   "outputs": [
    {
     "name": "stdout",
     "output_type": "stream",
     "text": [
      "Vehicle started\n",
      "Vehicle stopped\n",
      "Air conditioning turned on\n",
      "Air conditioning turned off\n",
      "Battery fully charged\n",
      "Air conditioning turned on\n"
     ]
    }
   ],
   "source": [
    "class Vehicle:\n",
    "    def __init__(self, speed, fuel):\n",
    "        self.speed = speed\n",
    "        self.fuel = fuel\n",
    "\n",
    "    def start(self):\n",
    "        return \"Vehicle started\"\n",
    "\n",
    "    def stop(self):\n",
    "        return \"Vehicle stopped\"\n",
    "\n",
    "class Car(Vehicle):\n",
    "    def __init__(self, speed, fuel, ac_status=False):\n",
    "        self.ac_status = ac_status\n",
    "\n",
    "    def turn_on_ac(self):\n",
    "        self.ac_status = True\n",
    "        return \"Air conditioning turned on\"\n",
    "\n",
    "    def turn_off_ac(self):\n",
    "        self.ac_status = False\n",
    "        return \"Air conditioning turned off\"\n",
    "\n",
    "class ElectricCar(Car):\n",
    "    def __init__(self, speed, fuel, ac_status=False, battery_level=100):\n",
    "        self.battery_level = battery_level\n",
    "\n",
    "    def charge_battery(self):\n",
    "        self.battery_level = 100\n",
    "        return \"Battery fully charged\"\n",
    "\n",
    "\n",
    "print(vehicle.start())\n",
    "print(vehicle.stop())\n",
    "print(car.turn_on_ac())\n",
    "print(car.turn_off_ac())\n",
    "print(electric_car.charge_battery())\n",
    "print(electric_car.turn_on_ac())"
   ]
  }
 ],
 "metadata": {
  "kernelspec": {
   "display_name": "Python 3 (ipykernel)",
   "language": "python",
   "name": "python3"
  },
  "language_info": {
   "codemirror_mode": {
    "name": "ipython",
    "version": 3
   },
   "file_extension": ".py",
   "mimetype": "text/x-python",
   "name": "python",
   "nbconvert_exporter": "python",
   "pygments_lexer": "ipython3",
   "version": "3.12.4"
  }
 },
 "nbformat": 4,
 "nbformat_minor": 5
}
