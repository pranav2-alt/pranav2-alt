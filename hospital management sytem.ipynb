{
 "cells": [
  {
   "cell_type": "code",
   "execution_count": null,
   "id": "89be0a6e-89ee-4ec4-a1b2-615544d30c95",
   "metadata": {},
   "outputs": [
    {
     "name": "stdout",
     "output_type": "stream",
     "text": [
      "\n",
      "Hospital Managem ent System\n",
      "1. Add Patient Details\n",
      "2. View Patient Details\n",
      "3. Update Patient Details\n",
      "4. Delete Patient Details\n",
      "5. Exit\n"
     ]
    },
    {
     "name": "stdin",
     "output_type": "stream",
     "text": [
      "Enter your choice (1-5):  1\n",
      "Enter patient name:  pranav\n",
      "Enter patient age:  18\n",
      "Enter patient gender:  male\n",
      "Enter patient illness:  Fever\n",
      "Enter patient contact number:  8079086200\n"
     ]
    },
    {
     "name": "stdout",
     "output_type": "stream",
     "text": [
      "Patient added successfully.\n",
      "\n",
      "Hospital Managem ent System\n",
      "1. Add Patient Details\n",
      "2. View Patient Details\n",
      "3. Update Patient Details\n",
      "4. Delete Patient Details\n",
      "5. Exit\n"
     ]
    },
    {
     "name": "stdin",
     "output_type": "stream",
     "text": [
      "Enter your choice (1-5):  2\n"
     ]
    },
    {
     "name": "stdout",
     "output_type": "stream",
     "text": [
      "\n",
      "Patient ID | Name | Age | Gender | Illness | Contact\n",
      "1 | pranav | 18 | male | Fever | 8079086200\n",
      "\n",
      "Hospital Managem ent System\n",
      "1. Add Patient Details\n",
      "2. View Patient Details\n",
      "3. Update Patient Details\n",
      "4. Delete Patient Details\n",
      "5. Exit\n"
     ]
    },
    {
     "name": "stdin",
     "output_type": "stream",
     "text": [
      "Enter your choice (1-5):  1\n",
      "Enter patient name:  pranv\n"
     ]
    }
   ],
   "source": [
    "import os\n",
    "\n",
    "# Function to display the menu\n",
    "def display_menu():\n",
    "    print(\"\\nHospital Managem ent System\")\n",
    "    print(\"1. Add Patient Details\")\n",
    "    print(\"2. View Patient Details\")\n",
    "    print(\"3. Update Patient Details\")\n",
    "    print(\"4. Delete Patient Details\")\n",
    "    print(\"5. Exit\")\n",
    "\n",
    "# Function to add patient details\n",
    "def add_patient(patients):\n",
    "    name = input(\"Enter patient name: \")\n",
    "    age = input(\"Enter patient age: \")\n",
    "    gender = input(\"Enter patient gender: \")\n",
    "    illness = input(\"Enter patient illness: \")\n",
    "    contact = input(\"Enter patient contact number: \")\n",
    "    patient_id = len(patients) + 1\n",
    "    patients[patient_id] = {\n",
    "        'name': name,\n",
    "        'age': age,\n",
    "        'gender': gender,\n",
    "        'illness': illness,\n",
    "        'contact': contact\n",
    "    }\n",
    "    print(\"Patient added successfully.\")\n",
    "\n",
    "# Function to view all patient details\n",
    "def view_patients(patients):\n",
    "    if len(patients) == 0:\n",
    "        print(\"No patient records available.\")\n",
    "    else:\n",
    "        print(\"\\nPatient ID | Name | Age | Gender | Illness | Contact\")\n",
    "        for patient_id, details in patients.items():\n",
    "            print(f\"{patient_id} | {details['name']} | {details['age']} | {details['gender']} | {details['illness']} | {details['contact']}\")\n",
    "\n",
    "# Function to update patient details\n",
    "def update_patient(patients):\n",
    "    patient_id = int(input(\"Enter patient ID to update: \"))\n",
    "    if patient_id in patients:\n",
    "        print(f\"Updating details for {patients[patient_id]['name']}\")\n",
    "        name = input(\"Enter new name (leave blank to keep current): \")\n",
    "        if name: patients[patient_id]['name'] = name\n",
    "        age = input(\"Enter new age (leave blank to keep current): \")\n",
    "        if age: patients[patient_id]['age'] = age\n",
    "        gender = input(\"Enter new gender (leave blank to keep current): \")\n",
    "        if gender: patients[patient_id]['gender'] = gender\n",
    "        illness = input(\"Enter new illness (leave blank to keep current): \")\n",
    "        if illness: patients[patient_id]['illness'] = illness\n",
    "        contact = input(\"Enter new contact number (leave blank to keep current): \")\n",
    "        if contact: patients[patient_id]['contact'] = contact\n",
    "        print(\"Patient details updated successfully.\")\n",
    "    else:\n",
    "        print(\"Patient ID not found.\")\n",
    "\n",
    "# Function to delete patient details\n",
    "def delete_patient(patients):\n",
    "    patient_id = int(input(\"Enter patient ID to delete: \"))\n",
    "    if patient_id in patients:\n",
    "        del patients[patient_id]\n",
    "        print(\"Patient record deleted successfully.\")\n",
    "    else:\n",
    "        print(\"Patient ID not found.\")\n",
    "\n",
    "# Main function to run the system\n",
    "def hospital_management_system():\n",
    "    patients = {}\n",
    "    while True:\n",
    "        display_menu()\n",
    "        choice = input(\"Enter your choice (1-5): \")\n",
    "        if choice == '1':\n",
    "            add_patient(patients)\n",
    "        elif choice == '2':\n",
    "            view_patients(patients)\n",
    "        elif choice == '3':\n",
    "            update_patient(patients)\n",
    "        elif choice == '4':\n",
    "            delete_patient(patients)\n",
    "        elif choice == '5':\n",
    "            print(\"Exiting the system.\")\n",
    "            break\n",
    "        else:\n",
    "            print(\"Invalid choice. Please enter a number between 1 and 5.\")\n",
    "\n",
    "# Run the Hospital Management System\n",
    "if __name__ == \"__main__\":\n",
    "    hospital_management_system()\n"
   ]
  },
  {
   "cell_type": "code",
   "execution_count": null,
   "id": "3bc9e13c-d5e1-42ac-a9c5-586d72a73d08",
   "metadata": {},
   "outputs": [],
   "source": []
  }
 ],
 "metadata": {
  "kernelspec": {
   "display_name": "Python 3 (ipykernel)",
   "language": "python",
   "name": "python3"
  },
  "language_info": {
   "codemirror_mode": {
    "name": "ipython",
    "version": 3
   },
   "file_extension": ".py",
   "mimetype": "text/x-python",
   "name": "python",
   "nbconvert_exporter": "python",
   "pygments_lexer": "ipython3",
   "version": "3.12.4"
  }
 },
 "nbformat": 4,
 "nbformat_minor": 5
}
