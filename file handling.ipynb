{
 "cells": [
  {
   "cell_type": "code",
   "execution_count": 11,
   "id": "11c34036-fcd7-4ab3-b388-f3b8ebf74880",
   "metadata": {},
   "outputs": [
    {
     "name": "stdout",
     "output_type": "stream",
     "text": [
      "isha singh\n"
     ]
    }
   ],
   "source": [
    "fileobj = open(\"a.txt\",\"r\")\n",
    "x=fileobj.read()\n",
    "\n",
    "fileobj.close()\n",
    "print(x)"
   ]
  },
  {
   "cell_type": "code",
   "execution_count": 21,
   "id": "832bb75b-f2ce-410b-ba76-ae784c350398",
   "metadata": {},
   "outputs": [],
   "source": [
    "fileobj= open(\"a.txt\",\"w\")\n",
    "\n",
    "fileobj.write(\"isha singh\")\n",
    "fileobj.close()"
   ]
  },
  {
   "cell_type": "code",
   "execution_count": 25,
   "id": "8b56fbaa-5311-4c9b-bf17-2b7e5c41f2d5",
   "metadata": {},
   "outputs": [],
   "source": [
    "fileobj= open(\"a.txt\",\"w+\")\n",
    "\n",
    "fileobj.write(\"####\")\n",
    "x=fileobj.read()\n",
    "\n",
    "fileobj.close()"
   ]
  },
  {
   "cell_type": "code",
   "execution_count": 27,
   "id": "7479a861-9e37-4dba-b448-4b6057562884",
   "metadata": {},
   "outputs": [
    {
     "name": "stdout",
     "output_type": "stream",
     "text": [
      "0\n",
      "write 4\n"
     ]
    }
   ],
   "source": [
    "fileobj= open(\"a.txt\",\"w+\")\n",
    "\n",
    "print(fileobj.tell() )\n",
    "\n",
    "fileobj.write(\"yash\")\n",
    "print(\"write\",fileobj.tell() )\n",
    "\n",
    "fileobj.seek(2)"
   ]
  },
  {
   "cell_type": "code",
   "execution_count": 61,
   "id": "02e3cd85-3b28-488d-87ea-9daf5b3406bf",
   "metadata": {},
   "outputs": [
    {
     "name": "stdout",
     "output_type": "stream",
     "text": [
      "['rajasthan \\n', 'heyy']\n"
     ]
    }
   ],
   "source": [
    "with open(\"a.txt\",\"r\") as fileobj:\n",
    "    print(fileobj.readlines())"
   ]
  },
  {
   "cell_type": "code",
   "execution_count": 63,
   "id": "b70742e5-4f79-4efb-b66c-0bbdfe6a24ff",
   "metadata": {},
   "outputs": [
    {
     "name": "stdout",
     "output_type": "stream",
     "text": [
      "rajasthan\n",
      "heyy\n"
     ]
    }
   ],
   "source": [
    "with open(\"a.txt\",\"r\") as fileobj:\n",
    "    for line in fileobj:\n",
    "        print(line.strip())"
   ]
  },
  {
   "cell_type": "code",
   "execution_count": 83,
   "id": "78933e66-005d-4393-a412-2fa5bbb8bcc0",
   "metadata": {},
   "outputs": [],
   "source": [
    "import csv\n",
    "data=[]\n",
    "with open(\"a.txt\", \"w\") as data_csv:\n",
    "    writer=csv.writer(data_csv)\n",
    "    writer.writerows(data)"
   ]
  },
  {
   "cell_type": "code",
   "execution_count": 1,
   "id": "5cabcfd5-fb9c-4103-8759-c35419f58c62",
   "metadata": {},
   "outputs": [],
   "source": [
    "# everyone learn about generator \n",
    "# why we use\n",
    "# yield keyword vs return keyword\n",
    "# list , dict , set comprhension\n",
    "# classes & objects, OOPS feature?\n",
    "# inheritance, polymorphism, "
   ]
  }
 ],
 "metadata": {
  "kernelspec": {
   "display_name": "Python 3 (ipykernel)",
   "language": "python",
   "name": "python3"
  },
  "language_info": {
   "codemirror_mode": {
    "name": "ipython",
    "version": 3
   },
   "file_extension": ".py",
   "mimetype": "text/x-python",
   "name": "python",
   "nbconvert_exporter": "python",
   "pygments_lexer": "ipython3",
   "version": "3.12.4"
  }
 },
 "nbformat": 4,
 "nbformat_minor": 5
}
